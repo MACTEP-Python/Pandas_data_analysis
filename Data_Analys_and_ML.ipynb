{
 "cells": [
  {
   "cell_type": "code",
   "execution_count": 1,
   "metadata": {
    "collapsed": true
   },
   "outputs": [],
   "source": [
    "import numpy as np\n",
    "import pandas as pd\n"
   ]
  },
  {
   "cell_type": "code",
   "execution_count": 34,
   "outputs": [
    {
     "data": {
      "text/plain": "                                            FullName  \\\n0  Государственное бюджетное общеобразовательное ...   \n1  Государственное бюджетное общеобразовательное ...   \n2  Государственное бюджетное общеобразовательное ...   \n3  Государственное бюджетное образовательное учре...   \n4  Государственное бюджетное образовательное учре...   \n\n                   ShortName             OlympiadType Stage Class  \\\n0  ГБОУ лицей «Вторая школа»  Всероссийская олимпиада     3    11   \n1  ГБОУ лицей «Вторая школа»  Всероссийская олимпиада     3    11   \n2  ГБОУ лицей «Вторая школа»  Всероссийская олимпиада     3    10   \n3              ГБОУ СОШ № 26  Всероссийская олимпиада     4    11   \n4              ГБОУ СОШ № 26  Всероссийская олимпиада     3    11   \n\n                              Subject      Status       Year global_id  \n0  Иностранный язык (английский язык)      призёр  2012/2013   4472939  \n1  Иностранный язык (английский язык)      призёр  2012/2013   4472940  \n2  Иностранный язык (английский язык)      призёр  2012/2013   4472941  \n3  Иностранный язык (английский язык)  победитель  2012/2013   4472942  \n4  Иностранный язык (английский язык)      призёр  2012/2013   4472943  ",
      "text/html": "<div>\n<style scoped>\n    .dataframe tbody tr th:only-of-type {\n        vertical-align: middle;\n    }\n\n    .dataframe tbody tr th {\n        vertical-align: top;\n    }\n\n    .dataframe thead th {\n        text-align: right;\n    }\n</style>\n<table border=\"1\" class=\"dataframe\">\n  <thead>\n    <tr style=\"text-align: right;\">\n      <th></th>\n      <th>FullName</th>\n      <th>ShortName</th>\n      <th>OlympiadType</th>\n      <th>Stage</th>\n      <th>Class</th>\n      <th>Subject</th>\n      <th>Status</th>\n      <th>Year</th>\n      <th>global_id</th>\n    </tr>\n  </thead>\n  <tbody>\n    <tr>\n      <th>0</th>\n      <td>Государственное бюджетное общеобразовательное ...</td>\n      <td>ГБОУ лицей «Вторая школа»</td>\n      <td>Всероссийская олимпиада</td>\n      <td>3</td>\n      <td>11</td>\n      <td>Иностранный язык (английский язык)</td>\n      <td>призёр</td>\n      <td>2012/2013</td>\n      <td>4472939</td>\n    </tr>\n    <tr>\n      <th>1</th>\n      <td>Государственное бюджетное общеобразовательное ...</td>\n      <td>ГБОУ лицей «Вторая школа»</td>\n      <td>Всероссийская олимпиада</td>\n      <td>3</td>\n      <td>11</td>\n      <td>Иностранный язык (английский язык)</td>\n      <td>призёр</td>\n      <td>2012/2013</td>\n      <td>4472940</td>\n    </tr>\n    <tr>\n      <th>2</th>\n      <td>Государственное бюджетное общеобразовательное ...</td>\n      <td>ГБОУ лицей «Вторая школа»</td>\n      <td>Всероссийская олимпиада</td>\n      <td>3</td>\n      <td>10</td>\n      <td>Иностранный язык (английский язык)</td>\n      <td>призёр</td>\n      <td>2012/2013</td>\n      <td>4472941</td>\n    </tr>\n    <tr>\n      <th>3</th>\n      <td>Государственное бюджетное образовательное учре...</td>\n      <td>ГБОУ СОШ № 26</td>\n      <td>Всероссийская олимпиада</td>\n      <td>4</td>\n      <td>11</td>\n      <td>Иностранный язык (английский язык)</td>\n      <td>победитель</td>\n      <td>2012/2013</td>\n      <td>4472942</td>\n    </tr>\n    <tr>\n      <th>4</th>\n      <td>Государственное бюджетное образовательное учре...</td>\n      <td>ГБОУ СОШ № 26</td>\n      <td>Всероссийская олимпиада</td>\n      <td>3</td>\n      <td>11</td>\n      <td>Иностранный язык (английский язык)</td>\n      <td>призёр</td>\n      <td>2012/2013</td>\n      <td>4472943</td>\n    </tr>\n  </tbody>\n</table>\n</div>"
     },
     "execution_count": 34,
     "metadata": {},
     "output_type": "execute_result"
    }
   ],
   "source": [
    "df = pd.read_csv('https://raw.githubusercontent.com/bykov-alexei/data-science-course/master/Python3/moscow%20schools%20-%20winners.csv')\n",
    "df.head(5)"
   ],
   "metadata": {
    "collapsed": false
   }
  },
  {
   "cell_type": "code",
   "execution_count": 35,
   "outputs": [
    {
     "name": "stdout",
     "output_type": "stream",
     "text": [
      "<class 'pandas.core.frame.DataFrame'>\n",
      "RangeIndex: 74228 entries, 0 to 74227\n",
      "Data columns (total 9 columns):\n",
      " #   Column        Non-Null Count  Dtype \n",
      "---  ------        --------------  ----- \n",
      " 0   FullName      74228 non-null  object\n",
      " 1   ShortName     74228 non-null  object\n",
      " 2   OlympiadType  74228 non-null  object\n",
      " 3   Stage         49808 non-null  object\n",
      " 4   Class         74228 non-null  object\n",
      " 5   Subject       74228 non-null  object\n",
      " 6   Status        74228 non-null  object\n",
      " 7   Year          74228 non-null  object\n",
      " 8   global_id     74228 non-null  object\n",
      "dtypes: object(9)\n",
      "memory usage: 5.1+ MB\n"
     ]
    }
   ],
   "source": [
    "df.info()"
   ],
   "metadata": {
    "collapsed": false
   }
  },
  {
   "cell_type": "code",
   "execution_count": 53,
   "outputs": [
    {
     "data": {
      "text/plain": "46"
     },
     "execution_count": 53,
     "metadata": {},
     "output_type": "execute_result"
    }
   ],
   "source": [
    "df.query('Stage == \"4\" and Subject == \"Математика\" and Status == \"победитель\"').FullName.count()"
   ],
   "metadata": {
    "collapsed": false
   }
  },
  {
   "cell_type": "code",
   "execution_count": null,
   "outputs": [],
   "source": [],
   "metadata": {
    "collapsed": false
   }
  },
  {
   "cell_type": "code",
   "execution_count": null,
   "outputs": [],
   "source": [],
   "metadata": {
    "collapsed": false
   }
  },
  {
   "cell_type": "code",
   "execution_count": null,
   "outputs": [],
   "source": [],
   "metadata": {
    "collapsed": false
   }
  },
  {
   "cell_type": "code",
   "execution_count": null,
   "outputs": [],
   "source": [],
   "metadata": {
    "collapsed": false
   }
  },
  {
   "cell_type": "code",
   "execution_count": null,
   "outputs": [],
   "source": [],
   "metadata": {
    "collapsed": false
   }
  }
 ],
 "metadata": {
  "kernelspec": {
   "display_name": "Python 3",
   "language": "python",
   "name": "python3"
  },
  "language_info": {
   "codemirror_mode": {
    "name": "ipython",
    "version": 2
   },
   "file_extension": ".py",
   "mimetype": "text/x-python",
   "name": "python",
   "nbconvert_exporter": "python",
   "pygments_lexer": "ipython2",
   "version": "2.7.6"
  }
 },
 "nbformat": 4,
 "nbformat_minor": 0
}
