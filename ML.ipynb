{
 "cells": [
  {
   "cell_type": "code",
   "execution_count": 1,
   "outputs": [],
   "source": [
    "import numpy as np\n",
    "import pandas as pd"
   ],
   "metadata": {
    "collapsed": false
   }
  },
  {
   "cell_type": "code",
   "execution_count": null,
   "outputs": [],
   "source": [
    "df = pd.read_csv(r'G:\\Мой диск\\Онлайн курсы\\Анализ данных с Pandas\\content\\fish.csv')\n",
    "df.head()"
   ],
   "metadata": {
    "collapsed": false
   }
  },
  {
   "cell_type": "code",
   "execution_count": null,
   "outputs": [],
   "source": [
    "X = df[['Length1', 'Length2', 'Length3', 'Height', 'Width']].join(pd.get_dummies(df.Species, drop_first=True), how='inner')\n",
    "y = df.Weight"
   ],
   "metadata": {
    "collapsed": false
   }
  },
  {
   "cell_type": "code",
   "execution_count": null,
   "outputs": [],
   "source": [
    "from sklearn.preprocessing import StandardScaler, MinMaxScaler\n",
    "from sklearn.model_selection import train_test_split\n",
    "from sklearn.metrics import mean_squared_error, mean_absolute_error, r2_score"
   ],
   "metadata": {
    "collapsed": false
   }
  },
  {
   "cell_type": "code",
   "execution_count": null,
   "outputs": [],
   "source": [
    "X_train, X_test, y_train, y_test = train_test_split(X,\n",
    "                                                    y,\n",
    "                                                    test_size=0.2,\n",
    "                                                    random_state=10)"
   ],
   "metadata": {
    "collapsed": false
   }
  },
  {
   "cell_type": "code",
   "execution_count": null,
   "outputs": [],
   "source": [
    "sc = StandardScaler()\n",
    "X_train_std = sc.fit_transform(X_train)\n",
    "X_test_std = sc.transform(X_test)"
   ],
   "metadata": {
    "collapsed": false
   }
  },
  {
   "cell_type": "code",
   "execution_count": null,
   "outputs": [],
   "source": [
    "from sklearn.linear_model import LinearRegression\n",
    "\n",
    "\n",
    "# создадим экземпляр класса LinearRegression\n",
    "clf = LinearRegression()\n",
    "# fit - метод для обучения, обучаемся на train данных\n",
    "clf.fit(X_train_std, y_train)"
   ],
   "metadata": {
    "collapsed": false
   }
  },
  {
   "cell_type": "code",
   "execution_count": null,
   "outputs": [],
   "source": [
    "test_pred = clf.predict(X_test_std)\n",
    "test_pred"
   ],
   "metadata": {
    "collapsed": false
   }
  },
  {
   "cell_type": "code",
   "execution_count": null,
   "outputs": [],
   "source": [
    "MSE = mean_squared_error(y_test, test_pred)\n",
    "RMSE = np.sqrt(mean_squared_error(y_test, test_pred))\n",
    "MAE = mean_absolute_error(y_test, test_pred)\n",
    "print(np.round(MSE, 0), np.round(RMSE, 0), np.round(MAE, 0))"
   ],
   "metadata": {
    "collapsed": false
   }
  },
  {
   "cell_type": "code",
   "execution_count": null,
   "outputs": [],
   "source": [
    "import matplotlib.pyplot as plt\n",
    "import seaborn as sns\n"
   ],
   "metadata": {
    "collapsed": false
   }
  },
  {
   "cell_type": "code",
   "execution_count": null,
   "outputs": [],
   "source": [
    "df = pd.read_csv(r'G:\\Мой диск\\Онлайн курсы\\Анализ данных с Pandas\\content\\students.csv')\n",
    "df"
   ],
   "metadata": {
    "collapsed": false
   }
  },
  {
   "cell_type": "code",
   "execution_count": null,
   "outputs": [],
   "source": [
    "t = df.groupby('subject', as_index=False)['pass'].count()"
   ],
   "metadata": {
    "collapsed": false
   }
  },
  {
   "cell_type": "code",
   "execution_count": null,
   "outputs": [],
   "source": [
    "sns.barplot(t, x=t.subject, y=t['pass'])"
   ],
   "metadata": {
    "collapsed": false
   }
  },
  {
   "cell_type": "code",
   "execution_count": null,
   "outputs": [],
   "source": [
    "plt.figure(figsize=(14, 7))\n",
    "sns.boxplot(df, x=df.subject, y=df.score)"
   ],
   "metadata": {
    "collapsed": false
   }
  },
  {
   "cell_type": "code",
   "execution_count": null,
   "outputs": [],
   "source": [
    "sns.barplot(df, x=df.subject, y=df['pass'])"
   ],
   "metadata": {
    "collapsed": false
   }
  },
  {
   "cell_type": "code",
   "execution_count": null,
   "outputs": [],
   "source": [
    "df = pd.read_csv(r'G:\\Мой диск\\Онлайн курсы\\Анализ данных с Pandas\\content\\pima_indians_diabetes.csv')"
   ],
   "metadata": {
    "collapsed": false
   }
  },
  {
   "cell_type": "code",
   "execution_count": null,
   "outputs": [],
   "source": [
    "X = df.drop('Outcome', axis=1)\n",
    "y = df.Outcome"
   ],
   "metadata": {
    "collapsed": false
   }
  },
  {
   "cell_type": "code",
   "execution_count": null,
   "outputs": [],
   "source": [
    "X_train, X_test, y_train, y_test = train_test_split(X,\n",
    "                                                    y,\n",
    "                                                    stratify=y,\n",
    "                                                    test_size=0.2,\n",
    "                                                    random_state=10)"
   ],
   "metadata": {
    "collapsed": false
   }
  },
  {
   "cell_type": "code",
   "execution_count": null,
   "outputs": [],
   "source": [
    "mm = MinMaxScaler()\n",
    "X_train_std = mm.fit_transform(X_train)\n",
    "X_test_std = mm.transform(X_test)"
   ],
   "metadata": {
    "collapsed": false
   }
  },
  {
   "cell_type": "code",
   "execution_count": null,
   "outputs": [],
   "source": [
    "from sklearn.neighbors import KNeighborsClassifier\n",
    "from sklearn.metrics import roc_auc_score, classification_report\n",
    "clf = KNeighborsClassifier()\n",
    "clf.fit(X_train_std, y_train)"
   ],
   "metadata": {
    "collapsed": false
   }
  },
  {
   "cell_type": "code",
   "execution_count": null,
   "outputs": [],
   "source": [
    "y_test_pred = clf.predict(X_test_std)\n",
    "y_test_pred"
   ],
   "metadata": {
    "collapsed": false
   }
  },
  {
   "cell_type": "code",
   "execution_count": null,
   "outputs": [],
   "source": [
    "from sklearn.metrics import precision_score, recall_score, f1_score, roc_auc_score"
   ],
   "metadata": {
    "collapsed": false
   }
  },
  {
   "cell_type": "code",
   "execution_count": null,
   "outputs": [],
   "source": [
    "prec = precision_score(y_test, y_test_pred).round(1)\n",
    "rec = recall_score(y_test, y_test_pred).round(1)\n",
    "f1 = f1_score(y_test, y_test_pred).round(1)\n",
    "roc = np.round(roc_auc_score(y_test, y_test_pred), 1)"
   ],
   "metadata": {
    "collapsed": false
   }
  },
  {
   "cell_type": "code",
   "execution_count": null,
   "outputs": [],
   "source": [
    "print(prec, rec, f1, roc)"
   ],
   "metadata": {
    "collapsed": false
   }
  },
  {
   "cell_type": "code",
   "execution_count": 4,
   "outputs": [],
   "source": [
    "df = pd.read_csv('https://raw.githubusercontent.com/bykov-alexei/data-science-course/master/Python3/titanic_train.csv')"
   ],
   "metadata": {
    "collapsed": false
   }
  },
  {
   "cell_type": "code",
   "execution_count": 24,
   "outputs": [
    {
     "data": {
      "text/plain": "599    Duff Gordon, Sir. Cosmo Edmund (\"Mr Morgan\")\nName: Name, dtype: object"
     },
     "execution_count": 24,
     "metadata": {},
     "output_type": "execute_result"
    }
   ],
   "source": [
    "df.Name[df.Name.str.find('Sir.') != -1]"
   ],
   "metadata": {
    "collapsed": false
   }
  },
  {
   "cell_type": "code",
   "execution_count": 38,
   "outputs": [
    {
     "data": {
      "text/plain": "     PassengerId  Survived  Pclass                          Name   Sex   Age  \\\n745          746         0       1  Crosby, Capt. Edward Gifford  male  70.0   \n\n     SibSp  Parch     Ticket  Fare Cabin Embarked  \n745      1      1  WE/P 5735  71.0   B22        S  ",
      "text/html": "<div>\n<style scoped>\n    .dataframe tbody tr th:only-of-type {\n        vertical-align: middle;\n    }\n\n    .dataframe tbody tr th {\n        vertical-align: top;\n    }\n\n    .dataframe thead th {\n        text-align: right;\n    }\n</style>\n<table border=\"1\" class=\"dataframe\">\n  <thead>\n    <tr style=\"text-align: right;\">\n      <th></th>\n      <th>PassengerId</th>\n      <th>Survived</th>\n      <th>Pclass</th>\n      <th>Name</th>\n      <th>Sex</th>\n      <th>Age</th>\n      <th>SibSp</th>\n      <th>Parch</th>\n      <th>Ticket</th>\n      <th>Fare</th>\n      <th>Cabin</th>\n      <th>Embarked</th>\n    </tr>\n  </thead>\n  <tbody>\n    <tr>\n      <th>745</th>\n      <td>746</td>\n      <td>0</td>\n      <td>1</td>\n      <td>Crosby, Capt. Edward Gifford</td>\n      <td>male</td>\n      <td>70.0</td>\n      <td>1</td>\n      <td>1</td>\n      <td>WE/P 5735</td>\n      <td>71.0</td>\n      <td>B22</td>\n      <td>S</td>\n    </tr>\n  </tbody>\n</table>\n</div>"
     },
     "execution_count": 38,
     "metadata": {},
     "output_type": "execute_result"
    }
   ],
   "source": [
    "df.query('Name.str.contains(\"Capt\")')"
   ],
   "metadata": {
    "collapsed": false
   }
  },
  {
   "cell_type": "code",
   "execution_count": 6,
   "outputs": [
    {
     "data": {
      "text/plain": "                                            FullName  \\\n0  Государственное бюджетное общеобразовательное ...   \n1  Государственное бюджетное общеобразовательное ...   \n2  Государственное бюджетное общеобразовательное ...   \n3  Государственное бюджетное образовательное учре...   \n4  Государственное бюджетное образовательное учре...   \n\n                   ShortName             OlympiadType Stage Class  \\\n0  ГБОУ лицей «Вторая школа»  Всероссийская олимпиада     3    11   \n1  ГБОУ лицей «Вторая школа»  Всероссийская олимпиада     3    11   \n2  ГБОУ лицей «Вторая школа»  Всероссийская олимпиада     3    10   \n3              ГБОУ СОШ № 26  Всероссийская олимпиада     4    11   \n4              ГБОУ СОШ № 26  Всероссийская олимпиада     3    11   \n\n                              Subject      Status       Year global_id  \n0  Иностранный язык (английский язык)      призёр  2012/2013   4472939  \n1  Иностранный язык (английский язык)      призёр  2012/2013   4472940  \n2  Иностранный язык (английский язык)      призёр  2012/2013   4472941  \n3  Иностранный язык (английский язык)  победитель  2012/2013   4472942  \n4  Иностранный язык (английский язык)      призёр  2012/2013   4472943  ",
      "text/html": "<div>\n<style scoped>\n    .dataframe tbody tr th:only-of-type {\n        vertical-align: middle;\n    }\n\n    .dataframe tbody tr th {\n        vertical-align: top;\n    }\n\n    .dataframe thead th {\n        text-align: right;\n    }\n</style>\n<table border=\"1\" class=\"dataframe\">\n  <thead>\n    <tr style=\"text-align: right;\">\n      <th></th>\n      <th>FullName</th>\n      <th>ShortName</th>\n      <th>OlympiadType</th>\n      <th>Stage</th>\n      <th>Class</th>\n      <th>Subject</th>\n      <th>Status</th>\n      <th>Year</th>\n      <th>global_id</th>\n    </tr>\n  </thead>\n  <tbody>\n    <tr>\n      <th>0</th>\n      <td>Государственное бюджетное общеобразовательное ...</td>\n      <td>ГБОУ лицей «Вторая школа»</td>\n      <td>Всероссийская олимпиада</td>\n      <td>3</td>\n      <td>11</td>\n      <td>Иностранный язык (английский язык)</td>\n      <td>призёр</td>\n      <td>2012/2013</td>\n      <td>4472939</td>\n    </tr>\n    <tr>\n      <th>1</th>\n      <td>Государственное бюджетное общеобразовательное ...</td>\n      <td>ГБОУ лицей «Вторая школа»</td>\n      <td>Всероссийская олимпиада</td>\n      <td>3</td>\n      <td>11</td>\n      <td>Иностранный язык (английский язык)</td>\n      <td>призёр</td>\n      <td>2012/2013</td>\n      <td>4472940</td>\n    </tr>\n    <tr>\n      <th>2</th>\n      <td>Государственное бюджетное общеобразовательное ...</td>\n      <td>ГБОУ лицей «Вторая школа»</td>\n      <td>Всероссийская олимпиада</td>\n      <td>3</td>\n      <td>10</td>\n      <td>Иностранный язык (английский язык)</td>\n      <td>призёр</td>\n      <td>2012/2013</td>\n      <td>4472941</td>\n    </tr>\n    <tr>\n      <th>3</th>\n      <td>Государственное бюджетное образовательное учре...</td>\n      <td>ГБОУ СОШ № 26</td>\n      <td>Всероссийская олимпиада</td>\n      <td>4</td>\n      <td>11</td>\n      <td>Иностранный язык (английский язык)</td>\n      <td>победитель</td>\n      <td>2012/2013</td>\n      <td>4472942</td>\n    </tr>\n    <tr>\n      <th>4</th>\n      <td>Государственное бюджетное образовательное учре...</td>\n      <td>ГБОУ СОШ № 26</td>\n      <td>Всероссийская олимпиада</td>\n      <td>3</td>\n      <td>11</td>\n      <td>Иностранный язык (английский язык)</td>\n      <td>призёр</td>\n      <td>2012/2013</td>\n      <td>4472943</td>\n    </tr>\n  </tbody>\n</table>\n</div>"
     },
     "execution_count": 6,
     "metadata": {},
     "output_type": "execute_result"
    }
   ],
   "source": [
    "df = pd.read_csv('content/moscow schools - winners.txt')\n",
    "df.head()"
   ],
   "metadata": {
    "collapsed": false
   }
  },
  {
   "cell_type": "code",
   "execution_count": 14,
   "outputs": [
    {
     "data": {
      "text/plain": "349"
     },
     "execution_count": 14,
     "metadata": {},
     "output_type": "execute_result"
    }
   ],
   "source": [
    "df.query('Stage == \"3\" and Status == \"призёр\" and Subject == \"Информатика\" and Class == \"9\"')['Status'].count()"
   ],
   "metadata": {
    "collapsed": false
   }
  },
  {
   "cell_type": "code",
   "execution_count": 19,
   "outputs": [
    {
     "data": {
      "text/plain": "                                           ShortName  Status\n420                        ГБОУ лицей «Вторая школа»     235\n573                                ГБОУ школа № 1329     223\n1001  ФГБОУ ВПО «МГУ им. М.В. Ломоносова» . СУНЦ МГУ     209\n872                                  ГБОУ школа № 57     198\n7                            ГАОУ ВО МИОО. СОШ № 179     196\n...                                              ...     ...\n794                                ГБОУ школа № 2067       1\n261                                   ГБОУ СОШ № 775       1\n792                                ГБОУ школа № 2055       1\n262                                    ГБОУ СОШ № 79       1\n1024                        центр образования «Знак»       1\n\n[1025 rows x 2 columns]",
      "text/html": "<div>\n<style scoped>\n    .dataframe tbody tr th:only-of-type {\n        vertical-align: middle;\n    }\n\n    .dataframe tbody tr th {\n        vertical-align: top;\n    }\n\n    .dataframe thead th {\n        text-align: right;\n    }\n</style>\n<table border=\"1\" class=\"dataframe\">\n  <thead>\n    <tr style=\"text-align: right;\">\n      <th></th>\n      <th>ShortName</th>\n      <th>Status</th>\n    </tr>\n  </thead>\n  <tbody>\n    <tr>\n      <th>420</th>\n      <td>ГБОУ лицей «Вторая школа»</td>\n      <td>235</td>\n    </tr>\n    <tr>\n      <th>573</th>\n      <td>ГБОУ школа № 1329</td>\n      <td>223</td>\n    </tr>\n    <tr>\n      <th>1001</th>\n      <td>ФГБОУ ВПО «МГУ им. М.В. Ломоносова» . СУНЦ МГУ</td>\n      <td>209</td>\n    </tr>\n    <tr>\n      <th>872</th>\n      <td>ГБОУ школа № 57</td>\n      <td>198</td>\n    </tr>\n    <tr>\n      <th>7</th>\n      <td>ГАОУ ВО МИОО. СОШ № 179</td>\n      <td>196</td>\n    </tr>\n    <tr>\n      <th>...</th>\n      <td>...</td>\n      <td>...</td>\n    </tr>\n    <tr>\n      <th>794</th>\n      <td>ГБОУ школа № 2067</td>\n      <td>1</td>\n    </tr>\n    <tr>\n      <th>261</th>\n      <td>ГБОУ СОШ № 775</td>\n      <td>1</td>\n    </tr>\n    <tr>\n      <th>792</th>\n      <td>ГБОУ школа № 2055</td>\n      <td>1</td>\n    </tr>\n    <tr>\n      <th>262</th>\n      <td>ГБОУ СОШ № 79</td>\n      <td>1</td>\n    </tr>\n    <tr>\n      <th>1024</th>\n      <td>центр образования «Знак»</td>\n      <td>1</td>\n    </tr>\n  </tbody>\n</table>\n<p>1025 rows × 2 columns</p>\n</div>"
     },
     "execution_count": 19,
     "metadata": {},
     "output_type": "execute_result"
    }
   ],
   "source": [
    "df.query('Status == \"победитель\"').groupby('ShortName', as_index=False)['Status'].count().sort_values(by='Status', ascending=False)"
   ],
   "metadata": {
    "collapsed": false
   }
  },
  {
   "cell_type": "code",
   "execution_count": null,
   "outputs": [],
   "source": [],
   "metadata": {
    "collapsed": false
   }
  },
  {
   "cell_type": "code",
   "execution_count": null,
   "outputs": [],
   "source": [],
   "metadata": {
    "collapsed": false
   }
  },
  {
   "cell_type": "code",
   "execution_count": null,
   "outputs": [],
   "source": [],
   "metadata": {
    "collapsed": false
   }
  },
  {
   "cell_type": "code",
   "execution_count": null,
   "outputs": [],
   "source": [],
   "metadata": {
    "collapsed": false
   }
  },
  {
   "cell_type": "code",
   "execution_count": null,
   "outputs": [],
   "source": [],
   "metadata": {
    "collapsed": false
   }
  },
  {
   "cell_type": "code",
   "execution_count": null,
   "outputs": [],
   "source": [],
   "metadata": {
    "collapsed": false
   }
  },
  {
   "cell_type": "code",
   "execution_count": null,
   "outputs": [],
   "source": [],
   "metadata": {
    "collapsed": false
   }
  },
  {
   "cell_type": "code",
   "execution_count": null,
   "outputs": [],
   "source": [],
   "metadata": {
    "collapsed": false
   }
  },
  {
   "cell_type": "code",
   "execution_count": null,
   "outputs": [],
   "source": [],
   "metadata": {
    "collapsed": false
   }
  },
  {
   "cell_type": "code",
   "execution_count": null,
   "outputs": [],
   "source": [],
   "metadata": {
    "collapsed": false
   }
  },
  {
   "cell_type": "code",
   "execution_count": null,
   "outputs": [],
   "source": [],
   "metadata": {
    "collapsed": false
   }
  },
  {
   "cell_type": "code",
   "execution_count": null,
   "outputs": [],
   "source": [],
   "metadata": {
    "collapsed": false
   }
  },
  {
   "cell_type": "code",
   "execution_count": null,
   "outputs": [],
   "source": [],
   "metadata": {
    "collapsed": false
   }
  },
  {
   "cell_type": "code",
   "execution_count": null,
   "outputs": [],
   "source": [],
   "metadata": {
    "collapsed": false
   }
  },
  {
   "cell_type": "code",
   "execution_count": null,
   "outputs": [],
   "source": [],
   "metadata": {
    "collapsed": false
   }
  },
  {
   "cell_type": "code",
   "execution_count": null,
   "outputs": [],
   "source": [],
   "metadata": {
    "collapsed": false
   }
  }
 ],
 "metadata": {
  "kernelspec": {
   "display_name": "Python 3",
   "language": "python",
   "name": "python3"
  },
  "language_info": {
   "codemirror_mode": {
    "name": "ipython",
    "version": 2
   },
   "file_extension": ".py",
   "mimetype": "text/x-python",
   "name": "python",
   "nbconvert_exporter": "python",
   "pygments_lexer": "ipython2",
   "version": "2.7.6"
  }
 },
 "nbformat": 4,
 "nbformat_minor": 0
}
