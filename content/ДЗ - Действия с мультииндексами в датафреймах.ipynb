{
 "cells": [
  {
   "cell_type": "markdown",
   "id": "d6fbe9b7",
   "metadata": {},
   "source": [
    "# Домашнее задание \n",
    "# Тема: Действия с мультииндексами в датафреймах"
   ]
  },
  {
   "cell_type": "code",
   "execution_count": 1,
   "id": "dc679223",
   "metadata": {},
   "outputs": [],
   "source": [
    "import pandas as pd\n",
    "import numpy as np"
   ]
  },
  {
   "cell_type": "markdown",
   "id": "5f2207ef",
   "metadata": {},
   "source": [
    "## Задание 1\n",
    "### Постройте датафрейм заполненный нулями так, как это показано в ячейке ниже. Первые две колонки являются мультииндексом. Для заполнения датафрейма нулями воспользуйтесь функцией zeros из библиотеки numpy"
   ]
  },
  {
   "cell_type": "raw",
   "id": "eba7e651",
   "metadata": {},
   "source": [
    "               Владивосток       Казань Новосибирск      \n",
    "                    Кол-во Сумма  Сумма      Кол-во Сумма\n",
    "Группа 1 Альфа         0.0   0.0    0.0         0.0   0.0\n",
    "         Бета          0.0   0.0    0.0         0.0   0.0\n",
    "Группа 2 Альфа         0.0   0.0    0.0         0.0   0.0\n",
    "         Бета          0.0   0.0    0.0         0.0   0.0"
   ]
  },
  {
   "cell_type": "code",
   "execution_count": 3,
   "id": "597df007",
   "metadata": {},
   "outputs": [
    {
     "data": {
      "text/plain": "               Владивосток       Казань Новосибирск      \n                    Кол-во Сумма  Сумма      Кол-во Сумма\nГруппа 1 Альфа         0.0   0.0    0.0         0.0   0.0\n         Бета          0.0   0.0    0.0         0.0   0.0\nГруппа 2 Альфа         0.0   0.0    0.0         0.0   0.0\n         Бета          0.0   0.0    0.0         0.0   0.0",
      "text/html": "<div>\n<style scoped>\n    .dataframe tbody tr th:only-of-type {\n        vertical-align: middle;\n    }\n\n    .dataframe tbody tr th {\n        vertical-align: top;\n    }\n\n    .dataframe thead tr th {\n        text-align: left;\n    }\n</style>\n<table border=\"1\" class=\"dataframe\">\n  <thead>\n    <tr>\n      <th></th>\n      <th></th>\n      <th colspan=\"2\" halign=\"left\">Владивосток</th>\n      <th>Казань</th>\n      <th colspan=\"2\" halign=\"left\">Новосибирск</th>\n    </tr>\n    <tr>\n      <th></th>\n      <th></th>\n      <th>Кол-во</th>\n      <th>Сумма</th>\n      <th>Сумма</th>\n      <th>Кол-во</th>\n      <th>Сумма</th>\n    </tr>\n  </thead>\n  <tbody>\n    <tr>\n      <th rowspan=\"2\" valign=\"top\">Группа 1</th>\n      <th>Альфа</th>\n      <td>0.0</td>\n      <td>0.0</td>\n      <td>0.0</td>\n      <td>0.0</td>\n      <td>0.0</td>\n    </tr>\n    <tr>\n      <th>Бета</th>\n      <td>0.0</td>\n      <td>0.0</td>\n      <td>0.0</td>\n      <td>0.0</td>\n      <td>0.0</td>\n    </tr>\n    <tr>\n      <th rowspan=\"2\" valign=\"top\">Группа 2</th>\n      <th>Альфа</th>\n      <td>0.0</td>\n      <td>0.0</td>\n      <td>0.0</td>\n      <td>0.0</td>\n      <td>0.0</td>\n    </tr>\n    <tr>\n      <th>Бета</th>\n      <td>0.0</td>\n      <td>0.0</td>\n      <td>0.0</td>\n      <td>0.0</td>\n      <td>0.0</td>\n    </tr>\n  </tbody>\n</table>\n</div>"
     },
     "execution_count": 3,
     "metadata": {},
     "output_type": "execute_result"
    }
   ],
   "source": [
    "ind = [['Группа 1', 'Группа 1', 'Группа 2', 'Группа 2'], ['Альфа', 'Бета', 'Альфа', 'Бета']]\n",
    "col = [['Владивосток', 'Владивосток', 'Казань', 'Новосибирск', 'Новосибирск'], 'Кол-во Сумма Сумма Кол-во Сумма'.split()]\n",
    "df1_result = pd.DataFrame(np.zeros((4, 5)), index = ind, columns= col)\n",
    "df1_result"
   ]
  },
  {
   "cell_type": "markdown",
   "id": "5ad1fb4f",
   "metadata": {},
   "source": [
    "### Получившийся датафрейм сохраните в csv файл и загрузите на степик"
   ]
  },
  {
   "cell_type": "code",
   "execution_count": 9,
   "id": "4ace8f35",
   "metadata": {},
   "outputs": [],
   "source": [
    "df1_result.to_csv('.\\df1_result.csv')"
   ]
  },
  {
   "cell_type": "markdown",
   "id": "540e7c33",
   "metadata": {},
   "source": [
    "## Задание 2\n",
    "### Загрузите датафрейм из файла task5.csv. Поменяйте местами уровни так чтобы сначала шел тип парковки (платная/бесплатная), затем округ и район. Отсортируйте так чтобы сначала шли бесплатные парковки в алфавитном порядке по округу, а внутри округа в алфавитном порядке по району*. \n",
    "\n",
    "#### *Некоторые названия районов записаны наоборот: вместо район Нижегородский записано Нижегородский район. Из-за этого сортировка по алфавиту будет идти не совсем так, как вы ожидали. Оставим результат сортировки по алфавиту как есть (переносить слово район для корректной сортировки не будем)."
   ]
  },
  {
   "cell_type": "code",
   "execution_count": 10,
   "id": "febbb79e",
   "metadata": {},
   "outputs": [],
   "source": [
    "df2_task = pd.read_csv('task5.csv', index_col=[0, 1, 2], header=[0, 1]) # не редактируйте ячейку"
   ]
  },
  {
   "cell_type": "code",
   "execution_count": 18,
   "id": "b7d9bdc8",
   "metadata": {},
   "outputs": [],
   "source": [
    "df2_task = df2_task.swaplevel(0, 2).swaplevel(1, 2).sort_index()"
   ]
  },
  {
   "cell_type": "markdown",
   "id": "005706a7",
   "metadata": {},
   "source": [
    "#### Обратите внимание, наш датафрейм немного усложнился: у мультииндекса строк пропали названия для уровней (добавлять их не стоит) и появился мультииндекс для колонок. Теперь в датафрейме содержится дополнительная информация о рейтинге парковки: маинимальное, максимальное и среднее значение"
   ]
  },
  {
   "cell_type": "code",
   "execution_count": 20,
   "id": "a42fa133",
   "metadata": {},
   "outputs": [],
   "source": [
    "df2_result = df2_task"
   ]
  },
  {
   "cell_type": "code",
   "execution_count": null,
   "id": "6309626e",
   "metadata": {},
   "outputs": [],
   "source": []
  },
  {
   "cell_type": "code",
   "execution_count": null,
   "id": "267de3ed",
   "metadata": {},
   "outputs": [],
   "source": []
  },
  {
   "cell_type": "code",
   "execution_count": null,
   "id": "e8472f09",
   "metadata": {},
   "outputs": [],
   "source": []
  },
  {
   "cell_type": "code",
   "execution_count": null,
   "id": "3512f141",
   "metadata": {},
   "outputs": [],
   "source": []
  },
  {
   "cell_type": "markdown",
   "id": "79f38768",
   "metadata": {},
   "source": [
    "### Сохраните на степик только первые 27 записей датафрейма."
   ]
  },
  {
   "cell_type": "code",
   "execution_count": 21,
   "id": "ecc85efb",
   "metadata": {},
   "outputs": [],
   "source": [
    "df2_result.head(27).to_csv('.\\df2_result.csv')"
   ]
  },
  {
   "cell_type": "markdown",
   "id": "765d5496",
   "metadata": {},
   "source": [
    "## Задание 3\n",
    "### Загрузите датафрейм из файла task5.csv. Из мультииндекса строк сбросьте уровень в котором содержится информация о типе парковки. Сохраните данные из этого уровня в отдельную колонку под названием `type`. Из целого датафрейма вырезаем только данные о рейтинге, сортируем записи по среднему рейтингу в порядке убывания и загружаем на степик ТОП-10 записей."
   ]
  },
  {
   "cell_type": "code",
   "execution_count": 28,
   "id": "c27fc112",
   "metadata": {},
   "outputs": [],
   "source": [
    "df3_task = pd.read_csv('task5.csv', index_col=[0, 1, 2], header=[0, 1]) # не редактируйте ячейку"
   ]
  },
  {
   "cell_type": "code",
   "execution_count": 29,
   "id": "dfc73800",
   "metadata": {},
   "outputs": [
    {
     "data": {
      "text/plain": "                                                                        Capacity  \\\n                                                                           count   \nВосточный административный округ Нижегородский район         Бесплатная        1   \n                                 район Богородское           Бесплатная        2   \n                                                             Платная           1   \n                                 район Вешняки               Бесплатная        5   \n                                                             Платная           3   \n...                                                                          ...   \nЮжный административный округ     район Чертаново Северное    Платная           2   \n                                 район Чертаново Центральное Бесплатная        7   \n                                                             Платная           3   \n                                 район Чертаново Южное       Бесплатная        9   \n                                                             Платная           4   \n\n                                                                             \\\n                                                                        sum   \nВосточный административный округ Нижегородский район         Бесплатная   6   \n                                 район Богородское           Бесплатная  14   \n                                                             Платная      8   \n                                 район Вешняки               Бесплатная  35   \n                                                             Платная     17   \n...                                                                      ..   \nЮжный административный округ     район Чертаново Северное    Платная     20   \n                                 район Чертаново Центральное Бесплатная  68   \n                                                             Платная     21   \n                                 район Чертаново Южное       Бесплатная  86   \n                                                             Платная     36   \n\n                                                                        rating  \\\n                                                                           min   \nВосточный административный округ Нижегородский район         Бесплатная      8   \n                                 район Богородское           Бесплатная      8   \n                                                             Платная         0   \n                                 район Вешняки               Бесплатная      2   \n                                                             Платная         0   \n...                                                                        ...   \nЮжный административный округ     район Чертаново Северное    Платная         2   \n                                 район Чертаново Центральное Бесплатная      0   \n                                                             Платная         3   \n                                 район Чертаново Южное       Бесплатная      3   \n                                                             Платная         0   \n\n                                                                             \\\n                                                                        max   \nВосточный административный округ Нижегородский район         Бесплатная   8   \n                                 район Богородское           Бесплатная  10   \n                                                             Платная      0   \n                                 район Вешняки               Бесплатная  10   \n                                                             Платная      9   \n...                                                                      ..   \nЮжный административный округ     район Чертаново Северное    Платная      6   \n                                 район Чертаново Центральное Бесплатная   9   \n                                                             Платная      9   \n                                 район Чертаново Южное       Бесплатная  10   \n                                                             Платная      9   \n\n                                                                                   \n                                                                             mean  \nВосточный административный округ Нижегородский район         Бесплатная  8.000000  \n                                 район Богородское           Бесплатная  9.000000  \n                                                             Платная     0.000000  \n                                 район Вешняки               Бесплатная  6.800000  \n                                                             Платная     4.666667  \n...                                                                           ...  \nЮжный административный округ     район Чертаново Северное    Платная     4.000000  \n                                 район Чертаново Центральное Бесплатная  3.571429  \n                                                             Платная     6.000000  \n                                 район Чертаново Южное       Бесплатная  6.666667  \n                                                             Платная     5.000000  \n\n[247 rows x 5 columns]",
      "text/html": "<div>\n<style scoped>\n    .dataframe tbody tr th:only-of-type {\n        vertical-align: middle;\n    }\n\n    .dataframe tbody tr th {\n        vertical-align: top;\n    }\n\n    .dataframe thead tr th {\n        text-align: left;\n    }\n</style>\n<table border=\"1\" class=\"dataframe\">\n  <thead>\n    <tr>\n      <th></th>\n      <th></th>\n      <th></th>\n      <th colspan=\"2\" halign=\"left\">Capacity</th>\n      <th colspan=\"3\" halign=\"left\">rating</th>\n    </tr>\n    <tr>\n      <th></th>\n      <th></th>\n      <th></th>\n      <th>count</th>\n      <th>sum</th>\n      <th>min</th>\n      <th>max</th>\n      <th>mean</th>\n    </tr>\n  </thead>\n  <tbody>\n    <tr>\n      <th rowspan=\"5\" valign=\"top\">Восточный административный округ</th>\n      <th>Нижегородский район</th>\n      <th>Бесплатная</th>\n      <td>1</td>\n      <td>6</td>\n      <td>8</td>\n      <td>8</td>\n      <td>8.000000</td>\n    </tr>\n    <tr>\n      <th rowspan=\"2\" valign=\"top\">район Богородское</th>\n      <th>Бесплатная</th>\n      <td>2</td>\n      <td>14</td>\n      <td>8</td>\n      <td>10</td>\n      <td>9.000000</td>\n    </tr>\n    <tr>\n      <th>Платная</th>\n      <td>1</td>\n      <td>8</td>\n      <td>0</td>\n      <td>0</td>\n      <td>0.000000</td>\n    </tr>\n    <tr>\n      <th rowspan=\"2\" valign=\"top\">район Вешняки</th>\n      <th>Бесплатная</th>\n      <td>5</td>\n      <td>35</td>\n      <td>2</td>\n      <td>10</td>\n      <td>6.800000</td>\n    </tr>\n    <tr>\n      <th>Платная</th>\n      <td>3</td>\n      <td>17</td>\n      <td>0</td>\n      <td>9</td>\n      <td>4.666667</td>\n    </tr>\n    <tr>\n      <th>...</th>\n      <th>...</th>\n      <th>...</th>\n      <td>...</td>\n      <td>...</td>\n      <td>...</td>\n      <td>...</td>\n      <td>...</td>\n    </tr>\n    <tr>\n      <th rowspan=\"5\" valign=\"top\">Южный административный округ</th>\n      <th>район Чертаново Северное</th>\n      <th>Платная</th>\n      <td>2</td>\n      <td>20</td>\n      <td>2</td>\n      <td>6</td>\n      <td>4.000000</td>\n    </tr>\n    <tr>\n      <th rowspan=\"2\" valign=\"top\">район Чертаново Центральное</th>\n      <th>Бесплатная</th>\n      <td>7</td>\n      <td>68</td>\n      <td>0</td>\n      <td>9</td>\n      <td>3.571429</td>\n    </tr>\n    <tr>\n      <th>Платная</th>\n      <td>3</td>\n      <td>21</td>\n      <td>3</td>\n      <td>9</td>\n      <td>6.000000</td>\n    </tr>\n    <tr>\n      <th rowspan=\"2\" valign=\"top\">район Чертаново Южное</th>\n      <th>Бесплатная</th>\n      <td>9</td>\n      <td>86</td>\n      <td>3</td>\n      <td>10</td>\n      <td>6.666667</td>\n    </tr>\n    <tr>\n      <th>Платная</th>\n      <td>4</td>\n      <td>36</td>\n      <td>0</td>\n      <td>9</td>\n      <td>5.000000</td>\n    </tr>\n  </tbody>\n</table>\n<p>247 rows × 5 columns</p>\n</div>"
     },
     "execution_count": 29,
     "metadata": {},
     "output_type": "execute_result"
    }
   ],
   "source": [
    "df3_task"
   ]
  },
  {
   "cell_type": "code",
   "execution_count": 45,
   "id": "f292fe2f",
   "metadata": {},
   "outputs": [],
   "source": [
    "df3_task.reset_index(level=2, col_fill='type')[['level_2', 'rating']].droplevel(0, axis=1).sort_values(by='mean', ascending=False).head(10).to_csv('.\\df3_result.csv')"
   ]
  },
  {
   "cell_type": "code",
   "execution_count": null,
   "id": "7ba7bf05",
   "metadata": {},
   "outputs": [],
   "source": []
  },
  {
   "cell_type": "code",
   "execution_count": null,
   "id": "792c5de5",
   "metadata": {},
   "outputs": [],
   "source": []
  },
  {
   "cell_type": "markdown",
   "id": "24d3400a",
   "metadata": {},
   "source": [
    "### Сохраните и отправьте файл на степик."
   ]
  },
  {
   "cell_type": "code",
   "execution_count": null,
   "id": "4a07d133",
   "metadata": {},
   "outputs": [],
   "source": [
    "df2_result.to_csv('df3_result.csv')"
   ]
  },
  {
   "cell_type": "markdown",
   "id": "48151c55",
   "metadata": {},
   "source": [
    "## Задание 4 \n",
    "### В одном из прошлых заданий мы выбирали все районы восточного административного округа и искали где больше всего мест на бесплатных парковках. Загрузите датафрейм из файла task5.csv и попробуйте найти в каком округе больше всего парковок (и платных и бесплатных вместе). Учитывайте только те районы, где средний рейтинг парковок больше или равен 5 "
   ]
  },
  {
   "cell_type": "code",
   "execution_count": 47,
   "id": "16931648",
   "metadata": {},
   "outputs": [],
   "source": [
    "df4_task = pd.read_csv('task5.csv', index_col=[0, 1, 2], header=[0, 1]) # не редактируйте ячейку"
   ]
  },
  {
   "cell_type": "code",
   "execution_count": 85,
   "id": "24ce6f3e",
   "metadata": {},
   "outputs": [
    {
     "data": {
      "text/plain": "count    Северо-Восточный административный округ\ndtype: object"
     },
     "execution_count": 85,
     "metadata": {},
     "output_type": "execute_result"
    }
   ],
   "source": [
    "df4_task[df4_task['rating', 'mean'] >=5].Capacity['count'].reset_index().groupby('level_0', as_index=False)['count'].sum().set_index('level_0').idxmax()"
   ]
  },
  {
   "cell_type": "code",
   "execution_count": null,
   "id": "4821a251",
   "metadata": {},
   "outputs": [],
   "source": []
  },
  {
   "cell_type": "code",
   "execution_count": null,
   "id": "b71c1377",
   "metadata": {},
   "outputs": [],
   "source": []
  },
  {
   "cell_type": "code",
   "execution_count": null,
   "id": "1ca9454e",
   "metadata": {},
   "outputs": [],
   "source": []
  },
  {
   "cell_type": "code",
   "execution_count": null,
   "id": "3b070e20",
   "metadata": {},
   "outputs": [],
   "source": []
  },
  {
   "cell_type": "markdown",
   "id": "e818ec13",
   "metadata": {},
   "source": [
    "### Правильный ответ выберите на степике"
   ]
  },
  {
   "cell_type": "markdown",
   "id": "416c0644",
   "metadata": {},
   "source": [
    "## Задание 5\n",
    "### Загрузите датафрейм из файла task5.csv. В этой задаче вы попробуете перейти от мультииндекса к обычному индексу с сохранением информации об уровнях. Сейчас на нулевом уровне колонки разбиваются на Capacity и rating, а на первом уровне Capacity и rating детализируются на count/sum и min/max/mean соответственно.\n",
    "### Попытайтесь уйти от иерархии с сохранением информации о ней: сделайте обычный индекс с названием колонок:\n",
    "#### Capacity_count, Capacity_sum, rating_min, rating_max, rating_mean\n",
    "\n",
    "#### Не пытайтесь руками составить список и присвоить его т.к. на практике у вас может быть много колонок и руками перебирать будет долго. А еще можно что-то перепутать и тогда будет ошибка в последующих расчётах. Попробуйте перебрать значения мультииндекса в цикле и собрать тот самый список, который уже и присвоите обратно в датафрейм"
   ]
  },
  {
   "cell_type": "code",
   "execution_count": 2,
   "id": "04e46847",
   "metadata": {},
   "outputs": [],
   "source": [
    "df5_task = pd.read_csv('task5.csv', index_col=[0, 1, 2], header=[0, 1]) # не редактируйте ячейку"
   ]
  },
  {
   "cell_type": "code",
   "execution_count": 17,
   "id": "27db25dd",
   "metadata": {},
   "outputs": [
    {
     "data": {
      "text/plain": "                                                                        Capacity  \\\n                                                                           count   \nВосточный административный округ Нижегородский район         Бесплатная        1   \n                                 район Богородское           Бесплатная        2   \n                                                             Платная           1   \n                                 район Вешняки               Бесплатная        5   \n                                                             Платная           3   \n...                                                                          ...   \nЮжный административный округ     район Чертаново Северное    Платная           2   \n                                 район Чертаново Центральное Бесплатная        7   \n                                                             Платная           3   \n                                 район Чертаново Южное       Бесплатная        9   \n                                                             Платная           4   \n\n                                                                             \\\n                                                                        sum   \nВосточный административный округ Нижегородский район         Бесплатная   6   \n                                 район Богородское           Бесплатная  14   \n                                                             Платная      8   \n                                 район Вешняки               Бесплатная  35   \n                                                             Платная     17   \n...                                                                      ..   \nЮжный административный округ     район Чертаново Северное    Платная     20   \n                                 район Чертаново Центральное Бесплатная  68   \n                                                             Платная     21   \n                                 район Чертаново Южное       Бесплатная  86   \n                                                             Платная     36   \n\n                                                                        rating  \\\n                                                                           min   \nВосточный административный округ Нижегородский район         Бесплатная      8   \n                                 район Богородское           Бесплатная      8   \n                                                             Платная         0   \n                                 район Вешняки               Бесплатная      2   \n                                                             Платная         0   \n...                                                                        ...   \nЮжный административный округ     район Чертаново Северное    Платная         2   \n                                 район Чертаново Центральное Бесплатная      0   \n                                                             Платная         3   \n                                 район Чертаново Южное       Бесплатная      3   \n                                                             Платная         0   \n\n                                                                             \\\n                                                                        max   \nВосточный административный округ Нижегородский район         Бесплатная   8   \n                                 район Богородское           Бесплатная  10   \n                                                             Платная      0   \n                                 район Вешняки               Бесплатная  10   \n                                                             Платная      9   \n...                                                                      ..   \nЮжный административный округ     район Чертаново Северное    Платная      6   \n                                 район Чертаново Центральное Бесплатная   9   \n                                                             Платная      9   \n                                 район Чертаново Южное       Бесплатная  10   \n                                                             Платная      9   \n\n                                                                                   \n                                                                             mean  \nВосточный административный округ Нижегородский район         Бесплатная  8.000000  \n                                 район Богородское           Бесплатная  9.000000  \n                                                             Платная     0.000000  \n                                 район Вешняки               Бесплатная  6.800000  \n                                                             Платная     4.666667  \n...                                                                           ...  \nЮжный административный округ     район Чертаново Северное    Платная     4.000000  \n                                 район Чертаново Центральное Бесплатная  3.571429  \n                                                             Платная     6.000000  \n                                 район Чертаново Южное       Бесплатная  6.666667  \n                                                             Платная     5.000000  \n\n[247 rows x 5 columns]",
      "text/html": "<div>\n<style scoped>\n    .dataframe tbody tr th:only-of-type {\n        vertical-align: middle;\n    }\n\n    .dataframe tbody tr th {\n        vertical-align: top;\n    }\n\n    .dataframe thead tr th {\n        text-align: left;\n    }\n</style>\n<table border=\"1\" class=\"dataframe\">\n  <thead>\n    <tr>\n      <th></th>\n      <th></th>\n      <th></th>\n      <th colspan=\"2\" halign=\"left\">Capacity</th>\n      <th colspan=\"3\" halign=\"left\">rating</th>\n    </tr>\n    <tr>\n      <th></th>\n      <th></th>\n      <th></th>\n      <th>count</th>\n      <th>sum</th>\n      <th>min</th>\n      <th>max</th>\n      <th>mean</th>\n    </tr>\n  </thead>\n  <tbody>\n    <tr>\n      <th rowspan=\"5\" valign=\"top\">Восточный административный округ</th>\n      <th>Нижегородский район</th>\n      <th>Бесплатная</th>\n      <td>1</td>\n      <td>6</td>\n      <td>8</td>\n      <td>8</td>\n      <td>8.000000</td>\n    </tr>\n    <tr>\n      <th rowspan=\"2\" valign=\"top\">район Богородское</th>\n      <th>Бесплатная</th>\n      <td>2</td>\n      <td>14</td>\n      <td>8</td>\n      <td>10</td>\n      <td>9.000000</td>\n    </tr>\n    <tr>\n      <th>Платная</th>\n      <td>1</td>\n      <td>8</td>\n      <td>0</td>\n      <td>0</td>\n      <td>0.000000</td>\n    </tr>\n    <tr>\n      <th rowspan=\"2\" valign=\"top\">район Вешняки</th>\n      <th>Бесплатная</th>\n      <td>5</td>\n      <td>35</td>\n      <td>2</td>\n      <td>10</td>\n      <td>6.800000</td>\n    </tr>\n    <tr>\n      <th>Платная</th>\n      <td>3</td>\n      <td>17</td>\n      <td>0</td>\n      <td>9</td>\n      <td>4.666667</td>\n    </tr>\n    <tr>\n      <th>...</th>\n      <th>...</th>\n      <th>...</th>\n      <td>...</td>\n      <td>...</td>\n      <td>...</td>\n      <td>...</td>\n      <td>...</td>\n    </tr>\n    <tr>\n      <th rowspan=\"5\" valign=\"top\">Южный административный округ</th>\n      <th>район Чертаново Северное</th>\n      <th>Платная</th>\n      <td>2</td>\n      <td>20</td>\n      <td>2</td>\n      <td>6</td>\n      <td>4.000000</td>\n    </tr>\n    <tr>\n      <th rowspan=\"2\" valign=\"top\">район Чертаново Центральное</th>\n      <th>Бесплатная</th>\n      <td>7</td>\n      <td>68</td>\n      <td>0</td>\n      <td>9</td>\n      <td>3.571429</td>\n    </tr>\n    <tr>\n      <th>Платная</th>\n      <td>3</td>\n      <td>21</td>\n      <td>3</td>\n      <td>9</td>\n      <td>6.000000</td>\n    </tr>\n    <tr>\n      <th rowspan=\"2\" valign=\"top\">район Чертаново Южное</th>\n      <th>Бесплатная</th>\n      <td>9</td>\n      <td>86</td>\n      <td>3</td>\n      <td>10</td>\n      <td>6.666667</td>\n    </tr>\n    <tr>\n      <th>Платная</th>\n      <td>4</td>\n      <td>36</td>\n      <td>0</td>\n      <td>9</td>\n      <td>5.000000</td>\n    </tr>\n  </tbody>\n</table>\n<p>247 rows × 5 columns</p>\n</div>"
     },
     "execution_count": 17,
     "metadata": {},
     "output_type": "execute_result"
    }
   ],
   "source": [
    "df5_task"
   ]
  },
  {
   "cell_type": "code",
   "execution_count": 25,
   "id": "d514c66a",
   "metadata": {},
   "outputs": [
    {
     "data": {
      "text/plain": "{('Capacity', 'count'): 'Capacity_count',\n ('Capacity', 'sum'): 'Capacity_sum',\n ('rating', 'min'): 'rating_min',\n ('rating', 'max'): 'rating_max',\n ('rating', 'mean'): 'rating_mean'}"
     },
     "execution_count": 25,
     "metadata": {},
     "output_type": "execute_result"
    }
   ],
   "source": [
    "dict(map(lambda x: (x, x[0]+\"_\"+x[1]), df5_task.columns))"
   ]
  },
  {
   "cell_type": "code",
   "execution_count": 31,
   "outputs": [
    {
     "data": {
      "text/plain": "                                                                         Capacity_count  \\\nВосточный административный округ Нижегородский район         Бесплатная               1   \n                                 район Богородское           Бесплатная               2   \n                                                             Платная                  1   \n                                 район Вешняки               Бесплатная               5   \n                                                             Платная                  3   \n...                                                                                 ...   \nЮжный административный округ     район Чертаново Северное    Платная                  2   \n                                 район Чертаново Центральное Бесплатная               7   \n                                                             Платная                  3   \n                                 район Чертаново Южное       Бесплатная               9   \n                                                             Платная                  4   \n\n                                                                         Capacity_sum  \\\nВосточный административный округ Нижегородский район         Бесплатная             6   \n                                 район Богородское           Бесплатная            14   \n                                                             Платная                8   \n                                 район Вешняки               Бесплатная            35   \n                                                             Платная               17   \n...                                                                               ...   \nЮжный административный округ     район Чертаново Северное    Платная               20   \n                                 район Чертаново Центральное Бесплатная            68   \n                                                             Платная               21   \n                                 район Чертаново Южное       Бесплатная            86   \n                                                             Платная               36   \n\n                                                                         rating_min  \\\nВосточный административный округ Нижегородский район         Бесплатная           8   \n                                 район Богородское           Бесплатная           8   \n                                                             Платная              0   \n                                 район Вешняки               Бесплатная           2   \n                                                             Платная              0   \n...                                                                             ...   \nЮжный административный округ     район Чертаново Северное    Платная              2   \n                                 район Чертаново Центральное Бесплатная           0   \n                                                             Платная              3   \n                                 район Чертаново Южное       Бесплатная           3   \n                                                             Платная              0   \n\n                                                                         rating_max  \\\nВосточный административный округ Нижегородский район         Бесплатная           8   \n                                 район Богородское           Бесплатная          10   \n                                                             Платная              0   \n                                 район Вешняки               Бесплатная          10   \n                                                             Платная              9   \n...                                                                             ...   \nЮжный административный округ     район Чертаново Северное    Платная              6   \n                                 район Чертаново Центральное Бесплатная           9   \n                                                             Платная              9   \n                                 район Чертаново Южное       Бесплатная          10   \n                                                             Платная              9   \n\n                                                                         rating_mean  \nВосточный административный округ Нижегородский район         Бесплатная     8.000000  \n                                 район Богородское           Бесплатная     9.000000  \n                                                             Платная        0.000000  \n                                 район Вешняки               Бесплатная     6.800000  \n                                                             Платная        4.666667  \n...                                                                              ...  \nЮжный административный округ     район Чертаново Северное    Платная        4.000000  \n                                 район Чертаново Центральное Бесплатная     3.571429  \n                                                             Платная        6.000000  \n                                 район Чертаново Южное       Бесплатная     6.666667  \n                                                             Платная        5.000000  \n\n[247 rows x 5 columns]",
      "text/html": "<div>\n<style scoped>\n    .dataframe tbody tr th:only-of-type {\n        vertical-align: middle;\n    }\n\n    .dataframe tbody tr th {\n        vertical-align: top;\n    }\n\n    .dataframe thead th {\n        text-align: right;\n    }\n</style>\n<table border=\"1\" class=\"dataframe\">\n  <thead>\n    <tr style=\"text-align: right;\">\n      <th></th>\n      <th></th>\n      <th></th>\n      <th>Capacity_count</th>\n      <th>Capacity_sum</th>\n      <th>rating_min</th>\n      <th>rating_max</th>\n      <th>rating_mean</th>\n    </tr>\n  </thead>\n  <tbody>\n    <tr>\n      <th rowspan=\"5\" valign=\"top\">Восточный административный округ</th>\n      <th>Нижегородский район</th>\n      <th>Бесплатная</th>\n      <td>1</td>\n      <td>6</td>\n      <td>8</td>\n      <td>8</td>\n      <td>8.000000</td>\n    </tr>\n    <tr>\n      <th rowspan=\"2\" valign=\"top\">район Богородское</th>\n      <th>Бесплатная</th>\n      <td>2</td>\n      <td>14</td>\n      <td>8</td>\n      <td>10</td>\n      <td>9.000000</td>\n    </tr>\n    <tr>\n      <th>Платная</th>\n      <td>1</td>\n      <td>8</td>\n      <td>0</td>\n      <td>0</td>\n      <td>0.000000</td>\n    </tr>\n    <tr>\n      <th rowspan=\"2\" valign=\"top\">район Вешняки</th>\n      <th>Бесплатная</th>\n      <td>5</td>\n      <td>35</td>\n      <td>2</td>\n      <td>10</td>\n      <td>6.800000</td>\n    </tr>\n    <tr>\n      <th>Платная</th>\n      <td>3</td>\n      <td>17</td>\n      <td>0</td>\n      <td>9</td>\n      <td>4.666667</td>\n    </tr>\n    <tr>\n      <th>...</th>\n      <th>...</th>\n      <th>...</th>\n      <td>...</td>\n      <td>...</td>\n      <td>...</td>\n      <td>...</td>\n      <td>...</td>\n    </tr>\n    <tr>\n      <th rowspan=\"5\" valign=\"top\">Южный административный округ</th>\n      <th>район Чертаново Северное</th>\n      <th>Платная</th>\n      <td>2</td>\n      <td>20</td>\n      <td>2</td>\n      <td>6</td>\n      <td>4.000000</td>\n    </tr>\n    <tr>\n      <th rowspan=\"2\" valign=\"top\">район Чертаново Центральное</th>\n      <th>Бесплатная</th>\n      <td>7</td>\n      <td>68</td>\n      <td>0</td>\n      <td>9</td>\n      <td>3.571429</td>\n    </tr>\n    <tr>\n      <th>Платная</th>\n      <td>3</td>\n      <td>21</td>\n      <td>3</td>\n      <td>9</td>\n      <td>6.000000</td>\n    </tr>\n    <tr>\n      <th rowspan=\"2\" valign=\"top\">район Чертаново Южное</th>\n      <th>Бесплатная</th>\n      <td>9</td>\n      <td>86</td>\n      <td>3</td>\n      <td>10</td>\n      <td>6.666667</td>\n    </tr>\n    <tr>\n      <th>Платная</th>\n      <td>4</td>\n      <td>36</td>\n      <td>0</td>\n      <td>9</td>\n      <td>5.000000</td>\n    </tr>\n  </tbody>\n</table>\n<p>247 rows × 5 columns</p>\n</div>"
     },
     "execution_count": 31,
     "metadata": {},
     "output_type": "execute_result"
    }
   ],
   "source": [
    "df5_task.rename(dict(map(lambda x: (x[1], x[0]+\"_\"+x[1]), df5_task.columns)), axis=1).droplevel(0, 1)"
   ],
   "metadata": {
    "collapsed": false
   }
  },
  {
   "cell_type": "code",
   "execution_count": 36,
   "outputs": [
    {
     "data": {
      "text/plain": "                                                                         Capacity_count  \\\nВосточный административный округ Нижегородский район         Бесплатная               1   \n                                 район Богородское           Бесплатная               2   \n                                                             Платная                  1   \n                                 район Вешняки               Бесплатная               5   \n                                                             Платная                  3   \n...                                                                                 ...   \nЮжный административный округ     район Чертаново Северное    Платная                  2   \n                                 район Чертаново Центральное Бесплатная               7   \n                                                             Платная                  3   \n                                 район Чертаново Южное       Бесплатная               9   \n                                                             Платная                  4   \n\n                                                                         Capacity_sum  \\\nВосточный административный округ Нижегородский район         Бесплатная             6   \n                                 район Богородское           Бесплатная            14   \n                                                             Платная                8   \n                                 район Вешняки               Бесплатная            35   \n                                                             Платная               17   \n...                                                                               ...   \nЮжный административный округ     район Чертаново Северное    Платная               20   \n                                 район Чертаново Центральное Бесплатная            68   \n                                                             Платная               21   \n                                 район Чертаново Южное       Бесплатная            86   \n                                                             Платная               36   \n\n                                                                         rating_min  \\\nВосточный административный округ Нижегородский район         Бесплатная           8   \n                                 район Богородское           Бесплатная           8   \n                                                             Платная              0   \n                                 район Вешняки               Бесплатная           2   \n                                                             Платная              0   \n...                                                                             ...   \nЮжный административный округ     район Чертаново Северное    Платная              2   \n                                 район Чертаново Центральное Бесплатная           0   \n                                                             Платная              3   \n                                 район Чертаново Южное       Бесплатная           3   \n                                                             Платная              0   \n\n                                                                         rating_max  \\\nВосточный административный округ Нижегородский район         Бесплатная           8   \n                                 район Богородское           Бесплатная          10   \n                                                             Платная              0   \n                                 район Вешняки               Бесплатная          10   \n                                                             Платная              9   \n...                                                                             ...   \nЮжный административный округ     район Чертаново Северное    Платная              6   \n                                 район Чертаново Центральное Бесплатная           9   \n                                                             Платная              9   \n                                 район Чертаново Южное       Бесплатная          10   \n                                                             Платная              9   \n\n                                                                         rating_mean  \nВосточный административный округ Нижегородский район         Бесплатная     8.000000  \n                                 район Богородское           Бесплатная     9.000000  \n                                                             Платная        0.000000  \n                                 район Вешняки               Бесплатная     6.800000  \n                                                             Платная        4.666667  \n...                                                                              ...  \nЮжный административный округ     район Чертаново Северное    Платная        4.000000  \n                                 район Чертаново Центральное Бесплатная     3.571429  \n                                                             Платная        6.000000  \n                                 район Чертаново Южное       Бесплатная     6.666667  \n                                                             Платная        5.000000  \n\n[247 rows x 5 columns]",
      "text/html": "<div>\n<style scoped>\n    .dataframe tbody tr th:only-of-type {\n        vertical-align: middle;\n    }\n\n    .dataframe tbody tr th {\n        vertical-align: top;\n    }\n\n    .dataframe thead th {\n        text-align: right;\n    }\n</style>\n<table border=\"1\" class=\"dataframe\">\n  <thead>\n    <tr style=\"text-align: right;\">\n      <th></th>\n      <th></th>\n      <th></th>\n      <th>Capacity_count</th>\n      <th>Capacity_sum</th>\n      <th>rating_min</th>\n      <th>rating_max</th>\n      <th>rating_mean</th>\n    </tr>\n  </thead>\n  <tbody>\n    <tr>\n      <th rowspan=\"5\" valign=\"top\">Восточный административный округ</th>\n      <th>Нижегородский район</th>\n      <th>Бесплатная</th>\n      <td>1</td>\n      <td>6</td>\n      <td>8</td>\n      <td>8</td>\n      <td>8.000000</td>\n    </tr>\n    <tr>\n      <th rowspan=\"2\" valign=\"top\">район Богородское</th>\n      <th>Бесплатная</th>\n      <td>2</td>\n      <td>14</td>\n      <td>8</td>\n      <td>10</td>\n      <td>9.000000</td>\n    </tr>\n    <tr>\n      <th>Платная</th>\n      <td>1</td>\n      <td>8</td>\n      <td>0</td>\n      <td>0</td>\n      <td>0.000000</td>\n    </tr>\n    <tr>\n      <th rowspan=\"2\" valign=\"top\">район Вешняки</th>\n      <th>Бесплатная</th>\n      <td>5</td>\n      <td>35</td>\n      <td>2</td>\n      <td>10</td>\n      <td>6.800000</td>\n    </tr>\n    <tr>\n      <th>Платная</th>\n      <td>3</td>\n      <td>17</td>\n      <td>0</td>\n      <td>9</td>\n      <td>4.666667</td>\n    </tr>\n    <tr>\n      <th>...</th>\n      <th>...</th>\n      <th>...</th>\n      <td>...</td>\n      <td>...</td>\n      <td>...</td>\n      <td>...</td>\n      <td>...</td>\n    </tr>\n    <tr>\n      <th rowspan=\"5\" valign=\"top\">Южный административный округ</th>\n      <th>район Чертаново Северное</th>\n      <th>Платная</th>\n      <td>2</td>\n      <td>20</td>\n      <td>2</td>\n      <td>6</td>\n      <td>4.000000</td>\n    </tr>\n    <tr>\n      <th rowspan=\"2\" valign=\"top\">район Чертаново Центральное</th>\n      <th>Бесплатная</th>\n      <td>7</td>\n      <td>68</td>\n      <td>0</td>\n      <td>9</td>\n      <td>3.571429</td>\n    </tr>\n    <tr>\n      <th>Платная</th>\n      <td>3</td>\n      <td>21</td>\n      <td>3</td>\n      <td>9</td>\n      <td>6.000000</td>\n    </tr>\n    <tr>\n      <th rowspan=\"2\" valign=\"top\">район Чертаново Южное</th>\n      <th>Бесплатная</th>\n      <td>9</td>\n      <td>86</td>\n      <td>3</td>\n      <td>10</td>\n      <td>6.666667</td>\n    </tr>\n    <tr>\n      <th>Платная</th>\n      <td>4</td>\n      <td>36</td>\n      <td>0</td>\n      <td>9</td>\n      <td>5.000000</td>\n    </tr>\n  </tbody>\n</table>\n<p>247 rows × 5 columns</p>\n</div>"
     },
     "execution_count": 36,
     "metadata": {},
     "output_type": "execute_result"
    }
   ],
   "source": [
    "df5_task.columns = map(lambda x: x[0]+\"_\"+x[1], df5_task.columns)\n",
    "df5_task"
   ],
   "metadata": {
    "collapsed": false
   }
  },
  {
   "cell_type": "code",
   "execution_count": null,
   "outputs": [],
   "source": [],
   "metadata": {
    "collapsed": false
   }
  },
  {
   "cell_type": "code",
   "execution_count": 32,
   "id": "d3c947c5",
   "metadata": {},
   "outputs": [],
   "source": [
    "df5_result = df5_task.rename(dict(map(lambda x: (x[1], x[0]+\"_\"+x[1]), df5_task.columns)), axis=1).droplevel(0, 1)"
   ]
  },
  {
   "cell_type": "code",
   "execution_count": 33,
   "id": "f1f25c72",
   "metadata": {},
   "outputs": [
    {
     "data": {
      "text/plain": "                                                                         Capacity_count  \\\nВосточный административный округ Нижегородский район         Бесплатная               1   \n                                 район Богородское           Бесплатная               2   \n                                                             Платная                  1   \n                                 район Вешняки               Бесплатная               5   \n                                                             Платная                  3   \n...                                                                                 ...   \nЮжный административный округ     район Чертаново Северное    Платная                  2   \n                                 район Чертаново Центральное Бесплатная               7   \n                                                             Платная                  3   \n                                 район Чертаново Южное       Бесплатная               9   \n                                                             Платная                  4   \n\n                                                                         Capacity_sum  \\\nВосточный административный округ Нижегородский район         Бесплатная             6   \n                                 район Богородское           Бесплатная            14   \n                                                             Платная                8   \n                                 район Вешняки               Бесплатная            35   \n                                                             Платная               17   \n...                                                                               ...   \nЮжный административный округ     район Чертаново Северное    Платная               20   \n                                 район Чертаново Центральное Бесплатная            68   \n                                                             Платная               21   \n                                 район Чертаново Южное       Бесплатная            86   \n                                                             Платная               36   \n\n                                                                         rating_min  \\\nВосточный административный округ Нижегородский район         Бесплатная           8   \n                                 район Богородское           Бесплатная           8   \n                                                             Платная              0   \n                                 район Вешняки               Бесплатная           2   \n                                                             Платная              0   \n...                                                                             ...   \nЮжный административный округ     район Чертаново Северное    Платная              2   \n                                 район Чертаново Центральное Бесплатная           0   \n                                                             Платная              3   \n                                 район Чертаново Южное       Бесплатная           3   \n                                                             Платная              0   \n\n                                                                         rating_max  \\\nВосточный административный округ Нижегородский район         Бесплатная           8   \n                                 район Богородское           Бесплатная          10   \n                                                             Платная              0   \n                                 район Вешняки               Бесплатная          10   \n                                                             Платная              9   \n...                                                                             ...   \nЮжный административный округ     район Чертаново Северное    Платная              6   \n                                 район Чертаново Центральное Бесплатная           9   \n                                                             Платная              9   \n                                 район Чертаново Южное       Бесплатная          10   \n                                                             Платная              9   \n\n                                                                         rating_mean  \nВосточный административный округ Нижегородский район         Бесплатная     8.000000  \n                                 район Богородское           Бесплатная     9.000000  \n                                                             Платная        0.000000  \n                                 район Вешняки               Бесплатная     6.800000  \n                                                             Платная        4.666667  \n...                                                                              ...  \nЮжный административный округ     район Чертаново Северное    Платная        4.000000  \n                                 район Чертаново Центральное Бесплатная     3.571429  \n                                                             Платная        6.000000  \n                                 район Чертаново Южное       Бесплатная     6.666667  \n                                                             Платная        5.000000  \n\n[247 rows x 5 columns]",
      "text/html": "<div>\n<style scoped>\n    .dataframe tbody tr th:only-of-type {\n        vertical-align: middle;\n    }\n\n    .dataframe tbody tr th {\n        vertical-align: top;\n    }\n\n    .dataframe thead th {\n        text-align: right;\n    }\n</style>\n<table border=\"1\" class=\"dataframe\">\n  <thead>\n    <tr style=\"text-align: right;\">\n      <th></th>\n      <th></th>\n      <th></th>\n      <th>Capacity_count</th>\n      <th>Capacity_sum</th>\n      <th>rating_min</th>\n      <th>rating_max</th>\n      <th>rating_mean</th>\n    </tr>\n  </thead>\n  <tbody>\n    <tr>\n      <th rowspan=\"5\" valign=\"top\">Восточный административный округ</th>\n      <th>Нижегородский район</th>\n      <th>Бесплатная</th>\n      <td>1</td>\n      <td>6</td>\n      <td>8</td>\n      <td>8</td>\n      <td>8.000000</td>\n    </tr>\n    <tr>\n      <th rowspan=\"2\" valign=\"top\">район Богородское</th>\n      <th>Бесплатная</th>\n      <td>2</td>\n      <td>14</td>\n      <td>8</td>\n      <td>10</td>\n      <td>9.000000</td>\n    </tr>\n    <tr>\n      <th>Платная</th>\n      <td>1</td>\n      <td>8</td>\n      <td>0</td>\n      <td>0</td>\n      <td>0.000000</td>\n    </tr>\n    <tr>\n      <th rowspan=\"2\" valign=\"top\">район Вешняки</th>\n      <th>Бесплатная</th>\n      <td>5</td>\n      <td>35</td>\n      <td>2</td>\n      <td>10</td>\n      <td>6.800000</td>\n    </tr>\n    <tr>\n      <th>Платная</th>\n      <td>3</td>\n      <td>17</td>\n      <td>0</td>\n      <td>9</td>\n      <td>4.666667</td>\n    </tr>\n    <tr>\n      <th>...</th>\n      <th>...</th>\n      <th>...</th>\n      <td>...</td>\n      <td>...</td>\n      <td>...</td>\n      <td>...</td>\n      <td>...</td>\n    </tr>\n    <tr>\n      <th rowspan=\"5\" valign=\"top\">Южный административный округ</th>\n      <th>район Чертаново Северное</th>\n      <th>Платная</th>\n      <td>2</td>\n      <td>20</td>\n      <td>2</td>\n      <td>6</td>\n      <td>4.000000</td>\n    </tr>\n    <tr>\n      <th rowspan=\"2\" valign=\"top\">район Чертаново Центральное</th>\n      <th>Бесплатная</th>\n      <td>7</td>\n      <td>68</td>\n      <td>0</td>\n      <td>9</td>\n      <td>3.571429</td>\n    </tr>\n    <tr>\n      <th>Платная</th>\n      <td>3</td>\n      <td>21</td>\n      <td>3</td>\n      <td>9</td>\n      <td>6.000000</td>\n    </tr>\n    <tr>\n      <th rowspan=\"2\" valign=\"top\">район Чертаново Южное</th>\n      <th>Бесплатная</th>\n      <td>9</td>\n      <td>86</td>\n      <td>3</td>\n      <td>10</td>\n      <td>6.666667</td>\n    </tr>\n    <tr>\n      <th>Платная</th>\n      <td>4</td>\n      <td>36</td>\n      <td>0</td>\n      <td>9</td>\n      <td>5.000000</td>\n    </tr>\n  </tbody>\n</table>\n<p>247 rows × 5 columns</p>\n</div>"
     },
     "execution_count": 33,
     "metadata": {},
     "output_type": "execute_result"
    }
   ],
   "source": [
    "df5_result"
   ]
  },
  {
   "cell_type": "markdown",
   "id": "a8dc546f",
   "metadata": {},
   "source": [
    "### Сохраните и отправьте файл на степик."
   ]
  },
  {
   "cell_type": "code",
   "execution_count": 34,
   "id": "5bed5409",
   "metadata": {},
   "outputs": [],
   "source": [
    "df5_result.to_csv('.\\df5_result.csv')"
   ]
  },
  {
   "cell_type": "markdown",
   "id": "fd268435",
   "metadata": {},
   "source": [
    "## Задача 6\n",
    "### Загрузите данные из task5.csv. По всей Москве рассчитайте:\n",
    "### -Общее количество бесплатных парковок,\n",
    "### -Общее количество платных парковок,\n",
    "### -Общее количество мест на бесплатных парковках,\n",
    "### -Общее количество мест на платных парковках\n",
    "\n",
    "### Введите в поле с ответом получившиеся значения через пробел. В ответе должны быть целые числа\n",
    "### Пример: 10 12 90 110"
   ]
  },
  {
   "cell_type": "code",
   "execution_count": 37,
   "id": "4deb7e9e",
   "metadata": {},
   "outputs": [],
   "source": [
    "df6_task = pd.read_csv('task5.csv', index_col=[0, 1, 2], header=[0, 1]) "
   ]
  },
  {
   "cell_type": "code",
   "execution_count": 38,
   "id": "4a256c7e",
   "metadata": {},
   "outputs": [
    {
     "data": {
      "text/plain": "                                                                        Capacity  \\\n                                                                           count   \nВосточный административный округ Нижегородский район         Бесплатная        1   \n                                 район Богородское           Бесплатная        2   \n                                                             Платная           1   \n                                 район Вешняки               Бесплатная        5   \n                                                             Платная           3   \n...                                                                          ...   \nЮжный административный округ     район Чертаново Северное    Платная           2   \n                                 район Чертаново Центральное Бесплатная        7   \n                                                             Платная           3   \n                                 район Чертаново Южное       Бесплатная        9   \n                                                             Платная           4   \n\n                                                                             \\\n                                                                        sum   \nВосточный административный округ Нижегородский район         Бесплатная   6   \n                                 район Богородское           Бесплатная  14   \n                                                             Платная      8   \n                                 район Вешняки               Бесплатная  35   \n                                                             Платная     17   \n...                                                                      ..   \nЮжный административный округ     район Чертаново Северное    Платная     20   \n                                 район Чертаново Центральное Бесплатная  68   \n                                                             Платная     21   \n                                 район Чертаново Южное       Бесплатная  86   \n                                                             Платная     36   \n\n                                                                        rating  \\\n                                                                           min   \nВосточный административный округ Нижегородский район         Бесплатная      8   \n                                 район Богородское           Бесплатная      8   \n                                                             Платная         0   \n                                 район Вешняки               Бесплатная      2   \n                                                             Платная         0   \n...                                                                        ...   \nЮжный административный округ     район Чертаново Северное    Платная         2   \n                                 район Чертаново Центральное Бесплатная      0   \n                                                             Платная         3   \n                                 район Чертаново Южное       Бесплатная      3   \n                                                             Платная         0   \n\n                                                                             \\\n                                                                        max   \nВосточный административный округ Нижегородский район         Бесплатная   8   \n                                 район Богородское           Бесплатная  10   \n                                                             Платная      0   \n                                 район Вешняки               Бесплатная  10   \n                                                             Платная      9   \n...                                                                      ..   \nЮжный административный округ     район Чертаново Северное    Платная      6   \n                                 район Чертаново Центральное Бесплатная   9   \n                                                             Платная      9   \n                                 район Чертаново Южное       Бесплатная  10   \n                                                             Платная      9   \n\n                                                                                   \n                                                                             mean  \nВосточный административный округ Нижегородский район         Бесплатная  8.000000  \n                                 район Богородское           Бесплатная  9.000000  \n                                                             Платная     0.000000  \n                                 район Вешняки               Бесплатная  6.800000  \n                                                             Платная     4.666667  \n...                                                                           ...  \nЮжный административный округ     район Чертаново Северное    Платная     4.000000  \n                                 район Чертаново Центральное Бесплатная  3.571429  \n                                                             Платная     6.000000  \n                                 район Чертаново Южное       Бесплатная  6.666667  \n                                                             Платная     5.000000  \n\n[247 rows x 5 columns]",
      "text/html": "<div>\n<style scoped>\n    .dataframe tbody tr th:only-of-type {\n        vertical-align: middle;\n    }\n\n    .dataframe tbody tr th {\n        vertical-align: top;\n    }\n\n    .dataframe thead tr th {\n        text-align: left;\n    }\n</style>\n<table border=\"1\" class=\"dataframe\">\n  <thead>\n    <tr>\n      <th></th>\n      <th></th>\n      <th></th>\n      <th colspan=\"2\" halign=\"left\">Capacity</th>\n      <th colspan=\"3\" halign=\"left\">rating</th>\n    </tr>\n    <tr>\n      <th></th>\n      <th></th>\n      <th></th>\n      <th>count</th>\n      <th>sum</th>\n      <th>min</th>\n      <th>max</th>\n      <th>mean</th>\n    </tr>\n  </thead>\n  <tbody>\n    <tr>\n      <th rowspan=\"5\" valign=\"top\">Восточный административный округ</th>\n      <th>Нижегородский район</th>\n      <th>Бесплатная</th>\n      <td>1</td>\n      <td>6</td>\n      <td>8</td>\n      <td>8</td>\n      <td>8.000000</td>\n    </tr>\n    <tr>\n      <th rowspan=\"2\" valign=\"top\">район Богородское</th>\n      <th>Бесплатная</th>\n      <td>2</td>\n      <td>14</td>\n      <td>8</td>\n      <td>10</td>\n      <td>9.000000</td>\n    </tr>\n    <tr>\n      <th>Платная</th>\n      <td>1</td>\n      <td>8</td>\n      <td>0</td>\n      <td>0</td>\n      <td>0.000000</td>\n    </tr>\n    <tr>\n      <th rowspan=\"2\" valign=\"top\">район Вешняки</th>\n      <th>Бесплатная</th>\n      <td>5</td>\n      <td>35</td>\n      <td>2</td>\n      <td>10</td>\n      <td>6.800000</td>\n    </tr>\n    <tr>\n      <th>Платная</th>\n      <td>3</td>\n      <td>17</td>\n      <td>0</td>\n      <td>9</td>\n      <td>4.666667</td>\n    </tr>\n    <tr>\n      <th>...</th>\n      <th>...</th>\n      <th>...</th>\n      <td>...</td>\n      <td>...</td>\n      <td>...</td>\n      <td>...</td>\n      <td>...</td>\n    </tr>\n    <tr>\n      <th rowspan=\"5\" valign=\"top\">Южный административный округ</th>\n      <th>район Чертаново Северное</th>\n      <th>Платная</th>\n      <td>2</td>\n      <td>20</td>\n      <td>2</td>\n      <td>6</td>\n      <td>4.000000</td>\n    </tr>\n    <tr>\n      <th rowspan=\"2\" valign=\"top\">район Чертаново Центральное</th>\n      <th>Бесплатная</th>\n      <td>7</td>\n      <td>68</td>\n      <td>0</td>\n      <td>9</td>\n      <td>3.571429</td>\n    </tr>\n    <tr>\n      <th>Платная</th>\n      <td>3</td>\n      <td>21</td>\n      <td>3</td>\n      <td>9</td>\n      <td>6.000000</td>\n    </tr>\n    <tr>\n      <th rowspan=\"2\" valign=\"top\">район Чертаново Южное</th>\n      <th>Бесплатная</th>\n      <td>9</td>\n      <td>86</td>\n      <td>3</td>\n      <td>10</td>\n      <td>6.666667</td>\n    </tr>\n    <tr>\n      <th>Платная</th>\n      <td>4</td>\n      <td>36</td>\n      <td>0</td>\n      <td>9</td>\n      <td>5.000000</td>\n    </tr>\n  </tbody>\n</table>\n<p>247 rows × 5 columns</p>\n</div>"
     },
     "execution_count": 38,
     "metadata": {},
     "output_type": "execute_result"
    }
   ],
   "source": [
    "df6_task"
   ]
  },
  {
   "cell_type": "code",
   "execution_count": 43,
   "id": "ea8d7175",
   "metadata": {},
   "outputs": [
    {
     "data": {
      "text/plain": "518"
     },
     "execution_count": 43,
     "metadata": {},
     "output_type": "execute_result"
    }
   ],
   "source": [
    "df6_task.loc[:,:,'Бесплатная'].Capacity['count'].sum()"
   ]
  },
  {
   "cell_type": "code",
   "execution_count": 44,
   "id": "fac4c2ef",
   "metadata": {},
   "outputs": [
    {
     "data": {
      "text/plain": "529"
     },
     "execution_count": 44,
     "metadata": {},
     "output_type": "execute_result"
    }
   ],
   "source": [
    "df6_task.loc[:,:,'Платная'].Capacity['count'].sum()"
   ]
  },
  {
   "cell_type": "code",
   "execution_count": 45,
   "id": "38cd4643",
   "metadata": {},
   "outputs": [
    {
     "data": {
      "text/plain": "3455"
     },
     "execution_count": 45,
     "metadata": {},
     "output_type": "execute_result"
    }
   ],
   "source": [
    "df6_task.loc[:,:,'Бесплатная'].Capacity['sum'].sum()"
   ]
  },
  {
   "cell_type": "code",
   "execution_count": 46,
   "id": "f8e1befb",
   "metadata": {},
   "outputs": [
    {
     "data": {
      "text/plain": "3642"
     },
     "execution_count": 46,
     "metadata": {},
     "output_type": "execute_result"
    }
   ],
   "source": [
    "df6_task.loc[:,:,'Платная'].Capacity['sum'].sum()"
   ]
  },
  {
   "cell_type": "code",
   "execution_count": 67,
   "id": "b5a619d8",
   "metadata": {},
   "outputs": [
    {
     "name": "stderr",
     "output_type": "stream",
     "text": [
      "C:\\Temp\\ipykernel_7032\\1061028587.py:1: FutureWarning: Using the level keyword in DataFrame and Series aggregations is deprecated and will be removed in a future version. Use groupby instead. df.sum(level=1) should use df.groupby(level=1).sum().\n",
      "  df6_task.swaplevel(0, 2).sum(level=0)\n"
     ]
    },
    {
     "data": {
      "text/plain": "           Capacity       rating                 \n              count   sum    min  max        mean\nБесплатная      518  3455    316  917  610.116818\nПлатная         529  3642    309  904  607.048249",
      "text/html": "<div>\n<style scoped>\n    .dataframe tbody tr th:only-of-type {\n        vertical-align: middle;\n    }\n\n    .dataframe tbody tr th {\n        vertical-align: top;\n    }\n\n    .dataframe thead tr th {\n        text-align: left;\n    }\n</style>\n<table border=\"1\" class=\"dataframe\">\n  <thead>\n    <tr>\n      <th></th>\n      <th colspan=\"2\" halign=\"left\">Capacity</th>\n      <th colspan=\"3\" halign=\"left\">rating</th>\n    </tr>\n    <tr>\n      <th></th>\n      <th>count</th>\n      <th>sum</th>\n      <th>min</th>\n      <th>max</th>\n      <th>mean</th>\n    </tr>\n  </thead>\n  <tbody>\n    <tr>\n      <th>Бесплатная</th>\n      <td>518</td>\n      <td>3455</td>\n      <td>316</td>\n      <td>917</td>\n      <td>610.116818</td>\n    </tr>\n    <tr>\n      <th>Платная</th>\n      <td>529</td>\n      <td>3642</td>\n      <td>309</td>\n      <td>904</td>\n      <td>607.048249</td>\n    </tr>\n  </tbody>\n</table>\n</div>"
     },
     "execution_count": 67,
     "metadata": {},
     "output_type": "execute_result"
    }
   ],
   "source": [
    "df6_task.swaplevel(0, 2).sum(level=0)"
   ]
  },
  {
   "cell_type": "code",
   "execution_count": 75,
   "outputs": [
    {
     "ename": "OSError",
     "evalue": "[Errno 22] Invalid argument: 'net_property.csv'",
     "output_type": "error",
     "traceback": [
      "\u001B[1;31m---------------------------------------------------------------------------\u001B[0m",
      "\u001B[1;31mOSError\u001B[0m                                   Traceback (most recent call last)",
      "Cell \u001B[1;32mIn[75], line 1\u001B[0m\n\u001B[1;32m----> 1\u001B[0m \u001B[43mpd\u001B[49m\u001B[38;5;241;43m.\u001B[39;49m\u001B[43mread_csv\u001B[49m\u001B[43m(\u001B[49m\u001B[38;5;124;43m'\u001B[39;49m\u001B[38;5;124;43mnet_property.csv\u001B[39;49m\u001B[38;5;124;43m'\u001B[39;49m\u001B[43m)\u001B[49m\n",
      "File \u001B[1;32m~\\AppData\\Local\\Programs\\Python\\Python310\\lib\\site-packages\\pandas\\util\\_decorators.py:211\u001B[0m, in \u001B[0;36mdeprecate_kwarg.<locals>._deprecate_kwarg.<locals>.wrapper\u001B[1;34m(*args, **kwargs)\u001B[0m\n\u001B[0;32m    209\u001B[0m     \u001B[38;5;28;01melse\u001B[39;00m:\n\u001B[0;32m    210\u001B[0m         kwargs[new_arg_name] \u001B[38;5;241m=\u001B[39m new_arg_value\n\u001B[1;32m--> 211\u001B[0m \u001B[38;5;28;01mreturn\u001B[39;00m func(\u001B[38;5;241m*\u001B[39margs, \u001B[38;5;241m*\u001B[39m\u001B[38;5;241m*\u001B[39mkwargs)\n",
      "File \u001B[1;32m~\\AppData\\Local\\Programs\\Python\\Python310\\lib\\site-packages\\pandas\\util\\_decorators.py:331\u001B[0m, in \u001B[0;36mdeprecate_nonkeyword_arguments.<locals>.decorate.<locals>.wrapper\u001B[1;34m(*args, **kwargs)\u001B[0m\n\u001B[0;32m    325\u001B[0m \u001B[38;5;28;01mif\u001B[39;00m \u001B[38;5;28mlen\u001B[39m(args) \u001B[38;5;241m>\u001B[39m num_allow_args:\n\u001B[0;32m    326\u001B[0m     warnings\u001B[38;5;241m.\u001B[39mwarn(\n\u001B[0;32m    327\u001B[0m         msg\u001B[38;5;241m.\u001B[39mformat(arguments\u001B[38;5;241m=\u001B[39m_format_argument_list(allow_args)),\n\u001B[0;32m    328\u001B[0m         \u001B[38;5;167;01mFutureWarning\u001B[39;00m,\n\u001B[0;32m    329\u001B[0m         stacklevel\u001B[38;5;241m=\u001B[39mfind_stack_level(),\n\u001B[0;32m    330\u001B[0m     )\n\u001B[1;32m--> 331\u001B[0m \u001B[38;5;28;01mreturn\u001B[39;00m func(\u001B[38;5;241m*\u001B[39margs, \u001B[38;5;241m*\u001B[39m\u001B[38;5;241m*\u001B[39mkwargs)\n",
      "File \u001B[1;32m~\\AppData\\Local\\Programs\\Python\\Python310\\lib\\site-packages\\pandas\\io\\parsers\\readers.py:950\u001B[0m, in \u001B[0;36mread_csv\u001B[1;34m(filepath_or_buffer, sep, delimiter, header, names, index_col, usecols, squeeze, prefix, mangle_dupe_cols, dtype, engine, converters, true_values, false_values, skipinitialspace, skiprows, skipfooter, nrows, na_values, keep_default_na, na_filter, verbose, skip_blank_lines, parse_dates, infer_datetime_format, keep_date_col, date_parser, dayfirst, cache_dates, iterator, chunksize, compression, thousands, decimal, lineterminator, quotechar, quoting, doublequote, escapechar, comment, encoding, encoding_errors, dialect, error_bad_lines, warn_bad_lines, on_bad_lines, delim_whitespace, low_memory, memory_map, float_precision, storage_options)\u001B[0m\n\u001B[0;32m    935\u001B[0m kwds_defaults \u001B[38;5;241m=\u001B[39m _refine_defaults_read(\n\u001B[0;32m    936\u001B[0m     dialect,\n\u001B[0;32m    937\u001B[0m     delimiter,\n\u001B[1;32m   (...)\u001B[0m\n\u001B[0;32m    946\u001B[0m     defaults\u001B[38;5;241m=\u001B[39m{\u001B[38;5;124m\"\u001B[39m\u001B[38;5;124mdelimiter\u001B[39m\u001B[38;5;124m\"\u001B[39m: \u001B[38;5;124m\"\u001B[39m\u001B[38;5;124m,\u001B[39m\u001B[38;5;124m\"\u001B[39m},\n\u001B[0;32m    947\u001B[0m )\n\u001B[0;32m    948\u001B[0m kwds\u001B[38;5;241m.\u001B[39mupdate(kwds_defaults)\n\u001B[1;32m--> 950\u001B[0m \u001B[38;5;28;01mreturn\u001B[39;00m \u001B[43m_read\u001B[49m\u001B[43m(\u001B[49m\u001B[43mfilepath_or_buffer\u001B[49m\u001B[43m,\u001B[49m\u001B[43m \u001B[49m\u001B[43mkwds\u001B[49m\u001B[43m)\u001B[49m\n",
      "File \u001B[1;32m~\\AppData\\Local\\Programs\\Python\\Python310\\lib\\site-packages\\pandas\\io\\parsers\\readers.py:605\u001B[0m, in \u001B[0;36m_read\u001B[1;34m(filepath_or_buffer, kwds)\u001B[0m\n\u001B[0;32m    602\u001B[0m _validate_names(kwds\u001B[38;5;241m.\u001B[39mget(\u001B[38;5;124m\"\u001B[39m\u001B[38;5;124mnames\u001B[39m\u001B[38;5;124m\"\u001B[39m, \u001B[38;5;28;01mNone\u001B[39;00m))\n\u001B[0;32m    604\u001B[0m \u001B[38;5;66;03m# Create the parser.\u001B[39;00m\n\u001B[1;32m--> 605\u001B[0m parser \u001B[38;5;241m=\u001B[39m TextFileReader(filepath_or_buffer, \u001B[38;5;241m*\u001B[39m\u001B[38;5;241m*\u001B[39mkwds)\n\u001B[0;32m    607\u001B[0m \u001B[38;5;28;01mif\u001B[39;00m chunksize \u001B[38;5;129;01mor\u001B[39;00m iterator:\n\u001B[0;32m    608\u001B[0m     \u001B[38;5;28;01mreturn\u001B[39;00m parser\n",
      "File \u001B[1;32m~\\AppData\\Local\\Programs\\Python\\Python310\\lib\\site-packages\\pandas\\io\\parsers\\readers.py:1442\u001B[0m, in \u001B[0;36mTextFileReader.__init__\u001B[1;34m(self, f, engine, **kwds)\u001B[0m\n\u001B[0;32m   1439\u001B[0m     \u001B[38;5;28mself\u001B[39m\u001B[38;5;241m.\u001B[39moptions[\u001B[38;5;124m\"\u001B[39m\u001B[38;5;124mhas_index_names\u001B[39m\u001B[38;5;124m\"\u001B[39m] \u001B[38;5;241m=\u001B[39m kwds[\u001B[38;5;124m\"\u001B[39m\u001B[38;5;124mhas_index_names\u001B[39m\u001B[38;5;124m\"\u001B[39m]\n\u001B[0;32m   1441\u001B[0m \u001B[38;5;28mself\u001B[39m\u001B[38;5;241m.\u001B[39mhandles: IOHandles \u001B[38;5;241m|\u001B[39m \u001B[38;5;28;01mNone\u001B[39;00m \u001B[38;5;241m=\u001B[39m \u001B[38;5;28;01mNone\u001B[39;00m\n\u001B[1;32m-> 1442\u001B[0m \u001B[38;5;28mself\u001B[39m\u001B[38;5;241m.\u001B[39m_engine \u001B[38;5;241m=\u001B[39m \u001B[38;5;28;43mself\u001B[39;49m\u001B[38;5;241;43m.\u001B[39;49m\u001B[43m_make_engine\u001B[49m\u001B[43m(\u001B[49m\u001B[43mf\u001B[49m\u001B[43m,\u001B[49m\u001B[43m \u001B[49m\u001B[38;5;28;43mself\u001B[39;49m\u001B[38;5;241;43m.\u001B[39;49m\u001B[43mengine\u001B[49m\u001B[43m)\u001B[49m\n",
      "File \u001B[1;32m~\\AppData\\Local\\Programs\\Python\\Python310\\lib\\site-packages\\pandas\\io\\parsers\\readers.py:1735\u001B[0m, in \u001B[0;36mTextFileReader._make_engine\u001B[1;34m(self, f, engine)\u001B[0m\n\u001B[0;32m   1733\u001B[0m     \u001B[38;5;28;01mif\u001B[39;00m \u001B[38;5;124m\"\u001B[39m\u001B[38;5;124mb\u001B[39m\u001B[38;5;124m\"\u001B[39m \u001B[38;5;129;01mnot\u001B[39;00m \u001B[38;5;129;01min\u001B[39;00m mode:\n\u001B[0;32m   1734\u001B[0m         mode \u001B[38;5;241m+\u001B[39m\u001B[38;5;241m=\u001B[39m \u001B[38;5;124m\"\u001B[39m\u001B[38;5;124mb\u001B[39m\u001B[38;5;124m\"\u001B[39m\n\u001B[1;32m-> 1735\u001B[0m \u001B[38;5;28mself\u001B[39m\u001B[38;5;241m.\u001B[39mhandles \u001B[38;5;241m=\u001B[39m \u001B[43mget_handle\u001B[49m\u001B[43m(\u001B[49m\n\u001B[0;32m   1736\u001B[0m \u001B[43m    \u001B[49m\u001B[43mf\u001B[49m\u001B[43m,\u001B[49m\n\u001B[0;32m   1737\u001B[0m \u001B[43m    \u001B[49m\u001B[43mmode\u001B[49m\u001B[43m,\u001B[49m\n\u001B[0;32m   1738\u001B[0m \u001B[43m    \u001B[49m\u001B[43mencoding\u001B[49m\u001B[38;5;241;43m=\u001B[39;49m\u001B[38;5;28;43mself\u001B[39;49m\u001B[38;5;241;43m.\u001B[39;49m\u001B[43moptions\u001B[49m\u001B[38;5;241;43m.\u001B[39;49m\u001B[43mget\u001B[49m\u001B[43m(\u001B[49m\u001B[38;5;124;43m\"\u001B[39;49m\u001B[38;5;124;43mencoding\u001B[39;49m\u001B[38;5;124;43m\"\u001B[39;49m\u001B[43m,\u001B[49m\u001B[43m \u001B[49m\u001B[38;5;28;43;01mNone\u001B[39;49;00m\u001B[43m)\u001B[49m\u001B[43m,\u001B[49m\n\u001B[0;32m   1739\u001B[0m \u001B[43m    \u001B[49m\u001B[43mcompression\u001B[49m\u001B[38;5;241;43m=\u001B[39;49m\u001B[38;5;28;43mself\u001B[39;49m\u001B[38;5;241;43m.\u001B[39;49m\u001B[43moptions\u001B[49m\u001B[38;5;241;43m.\u001B[39;49m\u001B[43mget\u001B[49m\u001B[43m(\u001B[49m\u001B[38;5;124;43m\"\u001B[39;49m\u001B[38;5;124;43mcompression\u001B[39;49m\u001B[38;5;124;43m\"\u001B[39;49m\u001B[43m,\u001B[49m\u001B[43m \u001B[49m\u001B[38;5;28;43;01mNone\u001B[39;49;00m\u001B[43m)\u001B[49m\u001B[43m,\u001B[49m\n\u001B[0;32m   1740\u001B[0m \u001B[43m    \u001B[49m\u001B[43mmemory_map\u001B[49m\u001B[38;5;241;43m=\u001B[39;49m\u001B[38;5;28;43mself\u001B[39;49m\u001B[38;5;241;43m.\u001B[39;49m\u001B[43moptions\u001B[49m\u001B[38;5;241;43m.\u001B[39;49m\u001B[43mget\u001B[49m\u001B[43m(\u001B[49m\u001B[38;5;124;43m\"\u001B[39;49m\u001B[38;5;124;43mmemory_map\u001B[39;49m\u001B[38;5;124;43m\"\u001B[39;49m\u001B[43m,\u001B[49m\u001B[43m \u001B[49m\u001B[38;5;28;43;01mFalse\u001B[39;49;00m\u001B[43m)\u001B[49m\u001B[43m,\u001B[49m\n\u001B[0;32m   1741\u001B[0m \u001B[43m    \u001B[49m\u001B[43mis_text\u001B[49m\u001B[38;5;241;43m=\u001B[39;49m\u001B[43mis_text\u001B[49m\u001B[43m,\u001B[49m\n\u001B[0;32m   1742\u001B[0m \u001B[43m    \u001B[49m\u001B[43merrors\u001B[49m\u001B[38;5;241;43m=\u001B[39;49m\u001B[38;5;28;43mself\u001B[39;49m\u001B[38;5;241;43m.\u001B[39;49m\u001B[43moptions\u001B[49m\u001B[38;5;241;43m.\u001B[39;49m\u001B[43mget\u001B[49m\u001B[43m(\u001B[49m\u001B[38;5;124;43m\"\u001B[39;49m\u001B[38;5;124;43mencoding_errors\u001B[39;49m\u001B[38;5;124;43m\"\u001B[39;49m\u001B[43m,\u001B[49m\u001B[43m \u001B[49m\u001B[38;5;124;43m\"\u001B[39;49m\u001B[38;5;124;43mstrict\u001B[39;49m\u001B[38;5;124;43m\"\u001B[39;49m\u001B[43m)\u001B[49m\u001B[43m,\u001B[49m\n\u001B[0;32m   1743\u001B[0m \u001B[43m    \u001B[49m\u001B[43mstorage_options\u001B[49m\u001B[38;5;241;43m=\u001B[39;49m\u001B[38;5;28;43mself\u001B[39;49m\u001B[38;5;241;43m.\u001B[39;49m\u001B[43moptions\u001B[49m\u001B[38;5;241;43m.\u001B[39;49m\u001B[43mget\u001B[49m\u001B[43m(\u001B[49m\u001B[38;5;124;43m\"\u001B[39;49m\u001B[38;5;124;43mstorage_options\u001B[39;49m\u001B[38;5;124;43m\"\u001B[39;49m\u001B[43m,\u001B[49m\u001B[43m \u001B[49m\u001B[38;5;28;43;01mNone\u001B[39;49;00m\u001B[43m)\u001B[49m\u001B[43m,\u001B[49m\n\u001B[0;32m   1744\u001B[0m \u001B[43m\u001B[49m\u001B[43m)\u001B[49m\n\u001B[0;32m   1745\u001B[0m \u001B[38;5;28;01massert\u001B[39;00m \u001B[38;5;28mself\u001B[39m\u001B[38;5;241m.\u001B[39mhandles \u001B[38;5;129;01mis\u001B[39;00m \u001B[38;5;129;01mnot\u001B[39;00m \u001B[38;5;28;01mNone\u001B[39;00m\n\u001B[0;32m   1746\u001B[0m f \u001B[38;5;241m=\u001B[39m \u001B[38;5;28mself\u001B[39m\u001B[38;5;241m.\u001B[39mhandles\u001B[38;5;241m.\u001B[39mhandle\n",
      "File \u001B[1;32m~\\AppData\\Local\\Programs\\Python\\Python310\\lib\\site-packages\\pandas\\io\\common.py:856\u001B[0m, in \u001B[0;36mget_handle\u001B[1;34m(path_or_buf, mode, encoding, compression, memory_map, is_text, errors, storage_options)\u001B[0m\n\u001B[0;32m    851\u001B[0m \u001B[38;5;28;01melif\u001B[39;00m \u001B[38;5;28misinstance\u001B[39m(handle, \u001B[38;5;28mstr\u001B[39m):\n\u001B[0;32m    852\u001B[0m     \u001B[38;5;66;03m# Check whether the filename is to be opened in binary mode.\u001B[39;00m\n\u001B[0;32m    853\u001B[0m     \u001B[38;5;66;03m# Binary mode does not support 'encoding' and 'newline'.\u001B[39;00m\n\u001B[0;32m    854\u001B[0m     \u001B[38;5;28;01mif\u001B[39;00m ioargs\u001B[38;5;241m.\u001B[39mencoding \u001B[38;5;129;01mand\u001B[39;00m \u001B[38;5;124m\"\u001B[39m\u001B[38;5;124mb\u001B[39m\u001B[38;5;124m\"\u001B[39m \u001B[38;5;129;01mnot\u001B[39;00m \u001B[38;5;129;01min\u001B[39;00m ioargs\u001B[38;5;241m.\u001B[39mmode:\n\u001B[0;32m    855\u001B[0m         \u001B[38;5;66;03m# Encoding\u001B[39;00m\n\u001B[1;32m--> 856\u001B[0m         handle \u001B[38;5;241m=\u001B[39m \u001B[38;5;28;43mopen\u001B[39;49m\u001B[43m(\u001B[49m\n\u001B[0;32m    857\u001B[0m \u001B[43m            \u001B[49m\u001B[43mhandle\u001B[49m\u001B[43m,\u001B[49m\n\u001B[0;32m    858\u001B[0m \u001B[43m            \u001B[49m\u001B[43mioargs\u001B[49m\u001B[38;5;241;43m.\u001B[39;49m\u001B[43mmode\u001B[49m\u001B[43m,\u001B[49m\n\u001B[0;32m    859\u001B[0m \u001B[43m            \u001B[49m\u001B[43mencoding\u001B[49m\u001B[38;5;241;43m=\u001B[39;49m\u001B[43mioargs\u001B[49m\u001B[38;5;241;43m.\u001B[39;49m\u001B[43mencoding\u001B[49m\u001B[43m,\u001B[49m\n\u001B[0;32m    860\u001B[0m \u001B[43m            \u001B[49m\u001B[43merrors\u001B[49m\u001B[38;5;241;43m=\u001B[39;49m\u001B[43merrors\u001B[49m\u001B[43m,\u001B[49m\n\u001B[0;32m    861\u001B[0m \u001B[43m            \u001B[49m\u001B[43mnewline\u001B[49m\u001B[38;5;241;43m=\u001B[39;49m\u001B[38;5;124;43m\"\u001B[39;49m\u001B[38;5;124;43m\"\u001B[39;49m\u001B[43m,\u001B[49m\n\u001B[0;32m    862\u001B[0m \u001B[43m        \u001B[49m\u001B[43m)\u001B[49m\n\u001B[0;32m    863\u001B[0m     \u001B[38;5;28;01melse\u001B[39;00m:\n\u001B[0;32m    864\u001B[0m         \u001B[38;5;66;03m# Binary mode\u001B[39;00m\n\u001B[0;32m    865\u001B[0m         handle \u001B[38;5;241m=\u001B[39m \u001B[38;5;28mopen\u001B[39m(handle, ioargs\u001B[38;5;241m.\u001B[39mmode)\n",
      "\u001B[1;31mOSError\u001B[0m: [Errno 22] Invalid argument: 'net_property.csv'"
     ]
    }
   ],
   "source": [
    "pd.read_csv('net_property.csv')"
   ],
   "metadata": {
    "collapsed": false
   }
  },
  {
   "cell_type": "code",
   "execution_count": null,
   "outputs": [],
   "source": [],
   "metadata": {
    "collapsed": false
   }
  },
  {
   "cell_type": "code",
   "execution_count": null,
   "outputs": [],
   "source": [],
   "metadata": {
    "collapsed": false
   }
  },
  {
   "cell_type": "code",
   "execution_count": null,
   "outputs": [],
   "source": [],
   "metadata": {
    "collapsed": false
   }
  },
  {
   "cell_type": "code",
   "execution_count": null,
   "outputs": [],
   "source": [],
   "metadata": {
    "collapsed": false
   }
  },
  {
   "cell_type": "code",
   "execution_count": null,
   "outputs": [],
   "source": [],
   "metadata": {
    "collapsed": false
   }
  },
  {
   "cell_type": "code",
   "execution_count": null,
   "outputs": [],
   "source": [],
   "metadata": {
    "collapsed": false
   }
  },
  {
   "cell_type": "code",
   "execution_count": null,
   "outputs": [],
   "source": [],
   "metadata": {
    "collapsed": false
   }
  },
  {
   "cell_type": "code",
   "execution_count": null,
   "outputs": [],
   "source": [],
   "metadata": {
    "collapsed": false
   }
  },
  {
   "cell_type": "code",
   "execution_count": null,
   "outputs": [],
   "source": [],
   "metadata": {
    "collapsed": false
   }
  },
  {
   "cell_type": "code",
   "execution_count": null,
   "outputs": [],
   "source": [],
   "metadata": {
    "collapsed": false
   }
  },
  {
   "cell_type": "code",
   "execution_count": null,
   "outputs": [],
   "source": [],
   "metadata": {
    "collapsed": false
   }
  },
  {
   "cell_type": "code",
   "execution_count": null,
   "outputs": [],
   "source": [],
   "metadata": {
    "collapsed": false
   }
  }
 ],
 "metadata": {
  "kernelspec": {
   "display_name": "Python 3 (ipykernel)",
   "language": "python",
   "name": "python3"
  },
  "language_info": {
   "codemirror_mode": {
    "name": "ipython",
    "version": 3
   },
   "file_extension": ".py",
   "mimetype": "text/x-python",
   "name": "python",
   "nbconvert_exporter": "python",
   "pygments_lexer": "ipython3",
   "version": "3.9.12"
  }
 },
 "nbformat": 4,
 "nbformat_minor": 5
}
