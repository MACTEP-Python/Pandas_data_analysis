{
 "cells": [
  {
   "cell_type": "code",
   "execution_count": 1,
   "outputs": [],
   "source": [
    "import numpy as np\n",
    "import pandas as pd\n"
   ],
   "metadata": {
    "collapsed": false
   }
  },
  {
   "cell_type": "code",
   "execution_count": 2,
   "outputs": [],
   "source": [
    "df_main = pd.read_csv('main.csv')\n",
    "df_net_property = pd.read_csv('net_property.csv')\n",
    "df_seats_property = pd.read_csv('seats_property.csv')\n",
    "df_type_property = pd.read_csv('type_property.csv')"
   ],
   "metadata": {
    "collapsed": false
   }
  },
  {
   "cell_type": "code",
   "execution_count": 3,
   "outputs": [
    {
     "data": {
      "text/plain": "           ID  SeatsCount  ver_ID SeatsCount_group\n673      5882          75       2                4\n3965    19627          20       2                3\n10104   19657          85       2                4\n5032    19678          46       1                4\n1449    19681          24       1                3\n...       ...         ...     ...              ...\n2212   375905          34       1                4\n8218   375933           5       2                1\n8637   375940          10       2                2\n2158   375942           0       1                1\n6693   375956           0       1                1\n\n[8432 rows x 4 columns]",
      "text/html": "<div>\n<style scoped>\n    .dataframe tbody tr th:only-of-type {\n        vertical-align: middle;\n    }\n\n    .dataframe tbody tr th {\n        vertical-align: top;\n    }\n\n    .dataframe thead th {\n        text-align: right;\n    }\n</style>\n<table border=\"1\" class=\"dataframe\">\n  <thead>\n    <tr style=\"text-align: right;\">\n      <th></th>\n      <th>ID</th>\n      <th>SeatsCount</th>\n      <th>ver_ID</th>\n      <th>SeatsCount_group</th>\n    </tr>\n  </thead>\n  <tbody>\n    <tr>\n      <th>673</th>\n      <td>5882</td>\n      <td>75</td>\n      <td>2</td>\n      <td>4</td>\n    </tr>\n    <tr>\n      <th>3965</th>\n      <td>19627</td>\n      <td>20</td>\n      <td>2</td>\n      <td>3</td>\n    </tr>\n    <tr>\n      <th>10104</th>\n      <td>19657</td>\n      <td>85</td>\n      <td>2</td>\n      <td>4</td>\n    </tr>\n    <tr>\n      <th>5032</th>\n      <td>19678</td>\n      <td>46</td>\n      <td>1</td>\n      <td>4</td>\n    </tr>\n    <tr>\n      <th>1449</th>\n      <td>19681</td>\n      <td>24</td>\n      <td>1</td>\n      <td>3</td>\n    </tr>\n    <tr>\n      <th>...</th>\n      <td>...</td>\n      <td>...</td>\n      <td>...</td>\n      <td>...</td>\n    </tr>\n    <tr>\n      <th>2212</th>\n      <td>375905</td>\n      <td>34</td>\n      <td>1</td>\n      <td>4</td>\n    </tr>\n    <tr>\n      <th>8218</th>\n      <td>375933</td>\n      <td>5</td>\n      <td>2</td>\n      <td>1</td>\n    </tr>\n    <tr>\n      <th>8637</th>\n      <td>375940</td>\n      <td>10</td>\n      <td>2</td>\n      <td>2</td>\n    </tr>\n    <tr>\n      <th>2158</th>\n      <td>375942</td>\n      <td>0</td>\n      <td>1</td>\n      <td>1</td>\n    </tr>\n    <tr>\n      <th>6693</th>\n      <td>375956</td>\n      <td>0</td>\n      <td>1</td>\n      <td>1</td>\n    </tr>\n  </tbody>\n</table>\n<p>8432 rows × 4 columns</p>\n</div>"
     },
     "execution_count": 3,
     "metadata": {},
     "output_type": "execute_result"
    }
   ],
   "source": [
    "t = df_seats_property.sort_values(by=['ID', 'ver_ID'], ascending=[True, False]).drop_duplicates('ID', keep='first')\n",
    "t['SeatsCount_group'] = pd.cut(t.SeatsCount, bins=[0, 5, 15, 25, np.inf], include_lowest=True, labels=list('1234'))\n",
    "t"
   ],
   "metadata": {
    "collapsed": false
   }
  },
  {
   "cell_type": "code",
   "execution_count": 4,
   "outputs": [
    {
     "data": {
      "text/plain": "(2355, 2)"
     },
     "execution_count": 4,
     "metadata": {},
     "output_type": "execute_result"
    }
   ],
   "source": [
    "t2 = df_net_property.query('IsNetObject ==\"да\"')\n",
    "t2.shape"
   ],
   "metadata": {
    "collapsed": false
   }
  },
  {
   "cell_type": "code",
   "execution_count": 5,
   "outputs": [
    {
     "data": {
      "text/plain": "(2401, 3)"
     },
     "execution_count": 5,
     "metadata": {},
     "output_type": "execute_result"
    }
   ],
   "source": [
    "t3 = df_type_property[(df_type_property.is_actual==True) & (df_type_property.TypeObject == 'кафе')]\n",
    "t3.shape"
   ],
   "metadata": {
    "collapsed": false
   }
  },
  {
   "cell_type": "code",
   "execution_count": 6,
   "outputs": [
    {
     "data": {
      "text/plain": "SeatsCount_group\n1     2\n2    12\n3    10\n4    46\nName: ID, dtype: int64"
     },
     "execution_count": 6,
     "metadata": {},
     "output_type": "execute_result"
    }
   ],
   "source": [
    "df_main.merge(t3, how='left').merge(t2, how='left').merge(t, how='left').dropna().groupby('SeatsCount_group')['ID'].count()"
   ],
   "metadata": {
    "collapsed": false
   }
  },
  {
   "cell_type": "code",
   "execution_count": null,
   "outputs": [],
   "source": [],
   "metadata": {
    "collapsed": false
   }
  },
  {
   "cell_type": "code",
   "execution_count": 45,
   "outputs": [
    {
     "data": {
      "text/plain": "          ID IsNetObject TypeObject is_actual  SeatsCount  ver_ID  \\\n0      25950          да        NaN       NaN        94.0     1.0   \n1     357629          да        NaN       NaN         8.0     2.0   \n2     256733          да        NaN       NaN         NaN     NaN   \n3      26149          да        NaN       NaN         NaN     NaN   \n4      77502          да        NaN       NaN         NaN     NaN   \n...      ...         ...        ...       ...         ...     ...   \n2350  314845          да        NaN       NaN         NaN     NaN   \n2351  154865          да        NaN       NaN        13.0     1.0   \n2352  354381          да        NaN       NaN         0.0     1.0   \n2353  178958          да        NaN       NaN         NaN     NaN   \n2354  366823          да        NaN       NaN        15.0     1.0   \n\n     SeatsCount_group  \n0                   4  \n1                   2  \n2                 NaN  \n3                 NaN  \n4                 NaN  \n...               ...  \n2350              NaN  \n2351                2  \n2352                1  \n2353              NaN  \n2354                2  \n\n[2355 rows x 7 columns]",
      "text/html": "<div>\n<style scoped>\n    .dataframe tbody tr th:only-of-type {\n        vertical-align: middle;\n    }\n\n    .dataframe tbody tr th {\n        vertical-align: top;\n    }\n\n    .dataframe thead th {\n        text-align: right;\n    }\n</style>\n<table border=\"1\" class=\"dataframe\">\n  <thead>\n    <tr style=\"text-align: right;\">\n      <th></th>\n      <th>ID</th>\n      <th>IsNetObject</th>\n      <th>TypeObject</th>\n      <th>is_actual</th>\n      <th>SeatsCount</th>\n      <th>ver_ID</th>\n      <th>SeatsCount_group</th>\n    </tr>\n  </thead>\n  <tbody>\n    <tr>\n      <th>0</th>\n      <td>25950</td>\n      <td>да</td>\n      <td>NaN</td>\n      <td>NaN</td>\n      <td>94.0</td>\n      <td>1.0</td>\n      <td>4</td>\n    </tr>\n    <tr>\n      <th>1</th>\n      <td>357629</td>\n      <td>да</td>\n      <td>NaN</td>\n      <td>NaN</td>\n      <td>8.0</td>\n      <td>2.0</td>\n      <td>2</td>\n    </tr>\n    <tr>\n      <th>2</th>\n      <td>256733</td>\n      <td>да</td>\n      <td>NaN</td>\n      <td>NaN</td>\n      <td>NaN</td>\n      <td>NaN</td>\n      <td>NaN</td>\n    </tr>\n    <tr>\n      <th>3</th>\n      <td>26149</td>\n      <td>да</td>\n      <td>NaN</td>\n      <td>NaN</td>\n      <td>NaN</td>\n      <td>NaN</td>\n      <td>NaN</td>\n    </tr>\n    <tr>\n      <th>4</th>\n      <td>77502</td>\n      <td>да</td>\n      <td>NaN</td>\n      <td>NaN</td>\n      <td>NaN</td>\n      <td>NaN</td>\n      <td>NaN</td>\n    </tr>\n    <tr>\n      <th>...</th>\n      <td>...</td>\n      <td>...</td>\n      <td>...</td>\n      <td>...</td>\n      <td>...</td>\n      <td>...</td>\n      <td>...</td>\n    </tr>\n    <tr>\n      <th>2350</th>\n      <td>314845</td>\n      <td>да</td>\n      <td>NaN</td>\n      <td>NaN</td>\n      <td>NaN</td>\n      <td>NaN</td>\n      <td>NaN</td>\n    </tr>\n    <tr>\n      <th>2351</th>\n      <td>154865</td>\n      <td>да</td>\n      <td>NaN</td>\n      <td>NaN</td>\n      <td>13.0</td>\n      <td>1.0</td>\n      <td>2</td>\n    </tr>\n    <tr>\n      <th>2352</th>\n      <td>354381</td>\n      <td>да</td>\n      <td>NaN</td>\n      <td>NaN</td>\n      <td>0.0</td>\n      <td>1.0</td>\n      <td>1</td>\n    </tr>\n    <tr>\n      <th>2353</th>\n      <td>178958</td>\n      <td>да</td>\n      <td>NaN</td>\n      <td>NaN</td>\n      <td>NaN</td>\n      <td>NaN</td>\n      <td>NaN</td>\n    </tr>\n    <tr>\n      <th>2354</th>\n      <td>366823</td>\n      <td>да</td>\n      <td>NaN</td>\n      <td>NaN</td>\n      <td>15.0</td>\n      <td>1.0</td>\n      <td>2</td>\n    </tr>\n  </tbody>\n</table>\n<p>2355 rows × 7 columns</p>\n</div>"
     },
     "execution_count": 45,
     "metadata": {},
     "output_type": "execute_result"
    }
   ],
   "source": [
    "t4 = t2.merge(t3, on='ID', how='left')\n",
    "df1 = t4.merge(t, on='ID', how='left')\n",
    "df1\n"
   ],
   "metadata": {
    "collapsed": false
   }
  },
  {
   "cell_type": "code",
   "execution_count": 48,
   "outputs": [
    {
     "data": {
      "text/plain": "          ID IsNetObject TypeObject is_actual  SeatsCount  ver_ID  \\\n21    340372          да       кафе      True        48.0     1.0   \n43    344252          да       кафе      True       188.0     1.0   \n48    261905          да       кафе      True        13.0     2.0   \n56    215843          да       кафе      True        33.0     2.0   \n103   284911          да       кафе      True        25.0     1.0   \n...      ...         ...        ...       ...         ...     ...   \n2293   27128          да       кафе      True       255.0     2.0   \n2315  299073          да       кафе      True         9.0     2.0   \n2328  298813          да       кафе      True        30.0     2.0   \n2341  277806          да       кафе      True        20.0     2.0   \n2343  279733          да       кафе      True        15.0     2.0   \n\n     SeatsCount_group  \n21                  4  \n43                  4  \n48                  2  \n56                  4  \n103                 3  \n...               ...  \n2293                4  \n2315                2  \n2328                4  \n2341                3  \n2343                2  \n\n[127 rows x 7 columns]",
      "text/html": "<div>\n<style scoped>\n    .dataframe tbody tr th:only-of-type {\n        vertical-align: middle;\n    }\n\n    .dataframe tbody tr th {\n        vertical-align: top;\n    }\n\n    .dataframe thead th {\n        text-align: right;\n    }\n</style>\n<table border=\"1\" class=\"dataframe\">\n  <thead>\n    <tr style=\"text-align: right;\">\n      <th></th>\n      <th>ID</th>\n      <th>IsNetObject</th>\n      <th>TypeObject</th>\n      <th>is_actual</th>\n      <th>SeatsCount</th>\n      <th>ver_ID</th>\n      <th>SeatsCount_group</th>\n    </tr>\n  </thead>\n  <tbody>\n    <tr>\n      <th>21</th>\n      <td>340372</td>\n      <td>да</td>\n      <td>кафе</td>\n      <td>True</td>\n      <td>48.0</td>\n      <td>1.0</td>\n      <td>4</td>\n    </tr>\n    <tr>\n      <th>43</th>\n      <td>344252</td>\n      <td>да</td>\n      <td>кафе</td>\n      <td>True</td>\n      <td>188.0</td>\n      <td>1.0</td>\n      <td>4</td>\n    </tr>\n    <tr>\n      <th>48</th>\n      <td>261905</td>\n      <td>да</td>\n      <td>кафе</td>\n      <td>True</td>\n      <td>13.0</td>\n      <td>2.0</td>\n      <td>2</td>\n    </tr>\n    <tr>\n      <th>56</th>\n      <td>215843</td>\n      <td>да</td>\n      <td>кафе</td>\n      <td>True</td>\n      <td>33.0</td>\n      <td>2.0</td>\n      <td>4</td>\n    </tr>\n    <tr>\n      <th>103</th>\n      <td>284911</td>\n      <td>да</td>\n      <td>кафе</td>\n      <td>True</td>\n      <td>25.0</td>\n      <td>1.0</td>\n      <td>3</td>\n    </tr>\n    <tr>\n      <th>...</th>\n      <td>...</td>\n      <td>...</td>\n      <td>...</td>\n      <td>...</td>\n      <td>...</td>\n      <td>...</td>\n      <td>...</td>\n    </tr>\n    <tr>\n      <th>2293</th>\n      <td>27128</td>\n      <td>да</td>\n      <td>кафе</td>\n      <td>True</td>\n      <td>255.0</td>\n      <td>2.0</td>\n      <td>4</td>\n    </tr>\n    <tr>\n      <th>2315</th>\n      <td>299073</td>\n      <td>да</td>\n      <td>кафе</td>\n      <td>True</td>\n      <td>9.0</td>\n      <td>2.0</td>\n      <td>2</td>\n    </tr>\n    <tr>\n      <th>2328</th>\n      <td>298813</td>\n      <td>да</td>\n      <td>кафе</td>\n      <td>True</td>\n      <td>30.0</td>\n      <td>2.0</td>\n      <td>4</td>\n    </tr>\n    <tr>\n      <th>2341</th>\n      <td>277806</td>\n      <td>да</td>\n      <td>кафе</td>\n      <td>True</td>\n      <td>20.0</td>\n      <td>2.0</td>\n      <td>3</td>\n    </tr>\n    <tr>\n      <th>2343</th>\n      <td>279733</td>\n      <td>да</td>\n      <td>кафе</td>\n      <td>True</td>\n      <td>15.0</td>\n      <td>2.0</td>\n      <td>2</td>\n    </tr>\n  </tbody>\n</table>\n<p>127 rows × 7 columns</p>\n</div>"
     },
     "execution_count": 48,
     "metadata": {},
     "output_type": "execute_result"
    }
   ],
   "source": [
    "df1.dropna(subset=['TypeObject', 'is_actual', 'SeatsCount_group'])"
   ],
   "metadata": {
    "collapsed": false
   }
  },
  {
   "cell_type": "code",
   "execution_count": 51,
   "outputs": [],
   "source": [
    "t4 = t4.dropna()"
   ],
   "metadata": {
    "collapsed": false
   }
  },
  {
   "cell_type": "code",
   "execution_count": 60,
   "outputs": [
    {
     "data": {
      "text/plain": "          ID IsNetObject TypeObject is_actual  SeatsCount  ver_ID  \\\n0      25950          да        NaN       NaN        94.0     1.0   \n1     357629          да        NaN       NaN         8.0     2.0   \n2     256733          да        NaN       NaN         NaN     NaN   \n3      26149          да        NaN       NaN         NaN     NaN   \n4      77502          да        NaN       NaN         NaN     NaN   \n...      ...         ...        ...       ...         ...     ...   \n2350  314845          да        NaN       NaN         NaN     NaN   \n2351  154865          да        NaN       NaN        13.0     1.0   \n2352  354381          да        NaN       NaN         0.0     1.0   \n2353  178958          да        NaN       NaN         NaN     NaN   \n2354  366823          да        NaN       NaN        15.0     1.0   \n\n     SeatsCount_group  \n0                   4  \n1                   2  \n2                 NaN  \n3                 NaN  \n4                 NaN  \n...               ...  \n2350              NaN  \n2351                2  \n2352                1  \n2353              NaN  \n2354                2  \n\n[2355 rows x 7 columns]",
      "text/html": "<div>\n<style scoped>\n    .dataframe tbody tr th:only-of-type {\n        vertical-align: middle;\n    }\n\n    .dataframe tbody tr th {\n        vertical-align: top;\n    }\n\n    .dataframe thead th {\n        text-align: right;\n    }\n</style>\n<table border=\"1\" class=\"dataframe\">\n  <thead>\n    <tr style=\"text-align: right;\">\n      <th></th>\n      <th>ID</th>\n      <th>IsNetObject</th>\n      <th>TypeObject</th>\n      <th>is_actual</th>\n      <th>SeatsCount</th>\n      <th>ver_ID</th>\n      <th>SeatsCount_group</th>\n    </tr>\n  </thead>\n  <tbody>\n    <tr>\n      <th>0</th>\n      <td>25950</td>\n      <td>да</td>\n      <td>NaN</td>\n      <td>NaN</td>\n      <td>94.0</td>\n      <td>1.0</td>\n      <td>4</td>\n    </tr>\n    <tr>\n      <th>1</th>\n      <td>357629</td>\n      <td>да</td>\n      <td>NaN</td>\n      <td>NaN</td>\n      <td>8.0</td>\n      <td>2.0</td>\n      <td>2</td>\n    </tr>\n    <tr>\n      <th>2</th>\n      <td>256733</td>\n      <td>да</td>\n      <td>NaN</td>\n      <td>NaN</td>\n      <td>NaN</td>\n      <td>NaN</td>\n      <td>NaN</td>\n    </tr>\n    <tr>\n      <th>3</th>\n      <td>26149</td>\n      <td>да</td>\n      <td>NaN</td>\n      <td>NaN</td>\n      <td>NaN</td>\n      <td>NaN</td>\n      <td>NaN</td>\n    </tr>\n    <tr>\n      <th>4</th>\n      <td>77502</td>\n      <td>да</td>\n      <td>NaN</td>\n      <td>NaN</td>\n      <td>NaN</td>\n      <td>NaN</td>\n      <td>NaN</td>\n    </tr>\n    <tr>\n      <th>...</th>\n      <td>...</td>\n      <td>...</td>\n      <td>...</td>\n      <td>...</td>\n      <td>...</td>\n      <td>...</td>\n      <td>...</td>\n    </tr>\n    <tr>\n      <th>2350</th>\n      <td>314845</td>\n      <td>да</td>\n      <td>NaN</td>\n      <td>NaN</td>\n      <td>NaN</td>\n      <td>NaN</td>\n      <td>NaN</td>\n    </tr>\n    <tr>\n      <th>2351</th>\n      <td>154865</td>\n      <td>да</td>\n      <td>NaN</td>\n      <td>NaN</td>\n      <td>13.0</td>\n      <td>1.0</td>\n      <td>2</td>\n    </tr>\n    <tr>\n      <th>2352</th>\n      <td>354381</td>\n      <td>да</td>\n      <td>NaN</td>\n      <td>NaN</td>\n      <td>0.0</td>\n      <td>1.0</td>\n      <td>1</td>\n    </tr>\n    <tr>\n      <th>2353</th>\n      <td>178958</td>\n      <td>да</td>\n      <td>NaN</td>\n      <td>NaN</td>\n      <td>NaN</td>\n      <td>NaN</td>\n      <td>NaN</td>\n    </tr>\n    <tr>\n      <th>2354</th>\n      <td>366823</td>\n      <td>да</td>\n      <td>NaN</td>\n      <td>NaN</td>\n      <td>15.0</td>\n      <td>1.0</td>\n      <td>2</td>\n    </tr>\n  </tbody>\n</table>\n<p>2355 rows × 7 columns</p>\n</div>"
     },
     "execution_count": 60,
     "metadata": {},
     "output_type": "execute_result"
    }
   ],
   "source": [
    "df1"
   ],
   "metadata": {
    "collapsed": false
   }
  },
  {
   "cell_type": "code",
   "execution_count": null,
   "outputs": [],
   "source": [],
   "metadata": {
    "collapsed": false
   }
  },
  {
   "cell_type": "code",
   "execution_count": null,
   "outputs": [],
   "source": [],
   "metadata": {
    "collapsed": false
   }
  },
  {
   "cell_type": "code",
   "execution_count": 12,
   "outputs": [
    {
     "data": {
      "text/plain": "          ID  SeatsCount  ver_ID                         TypeObject is_actual  \\\n0       5882          75       2                               кафе      True   \n1      19627          20       2                                NaN       NaN   \n2      19657          85       2                               кафе      True   \n3      19678          46       1  предприятие быстрого обслуживания      True   \n4      19681          24       1  предприятие быстрого обслуживания     False   \n...      ...         ...     ...                                ...       ...   \n8428  375905          34       1                               кафе      True   \n8429  375933           5       2                         закусочная      True   \n8430  375940          10       2                                NaN       NaN   \n8431  375942           0       1  предприятие быстрого обслуживания      True   \n8432  375956           0       1                               кафе     False   \n\n     IsNetObject  \n0            нет  \n1            нет  \n2            нет  \n3             да  \n4            нет  \n...          ...  \n8428         нет  \n8429         нет  \n8430         нет  \n8431         нет  \n8432          да  \n\n[8433 rows x 6 columns]",
      "text/html": "<div>\n<style scoped>\n    .dataframe tbody tr th:only-of-type {\n        vertical-align: middle;\n    }\n\n    .dataframe tbody tr th {\n        vertical-align: top;\n    }\n\n    .dataframe thead th {\n        text-align: right;\n    }\n</style>\n<table border=\"1\" class=\"dataframe\">\n  <thead>\n    <tr style=\"text-align: right;\">\n      <th></th>\n      <th>ID</th>\n      <th>SeatsCount</th>\n      <th>ver_ID</th>\n      <th>TypeObject</th>\n      <th>is_actual</th>\n      <th>IsNetObject</th>\n    </tr>\n  </thead>\n  <tbody>\n    <tr>\n      <th>0</th>\n      <td>5882</td>\n      <td>75</td>\n      <td>2</td>\n      <td>кафе</td>\n      <td>True</td>\n      <td>нет</td>\n    </tr>\n    <tr>\n      <th>1</th>\n      <td>19627</td>\n      <td>20</td>\n      <td>2</td>\n      <td>NaN</td>\n      <td>NaN</td>\n      <td>нет</td>\n    </tr>\n    <tr>\n      <th>2</th>\n      <td>19657</td>\n      <td>85</td>\n      <td>2</td>\n      <td>кафе</td>\n      <td>True</td>\n      <td>нет</td>\n    </tr>\n    <tr>\n      <th>3</th>\n      <td>19678</td>\n      <td>46</td>\n      <td>1</td>\n      <td>предприятие быстрого обслуживания</td>\n      <td>True</td>\n      <td>да</td>\n    </tr>\n    <tr>\n      <th>4</th>\n      <td>19681</td>\n      <td>24</td>\n      <td>1</td>\n      <td>предприятие быстрого обслуживания</td>\n      <td>False</td>\n      <td>нет</td>\n    </tr>\n    <tr>\n      <th>...</th>\n      <td>...</td>\n      <td>...</td>\n      <td>...</td>\n      <td>...</td>\n      <td>...</td>\n      <td>...</td>\n    </tr>\n    <tr>\n      <th>8428</th>\n      <td>375905</td>\n      <td>34</td>\n      <td>1</td>\n      <td>кафе</td>\n      <td>True</td>\n      <td>нет</td>\n    </tr>\n    <tr>\n      <th>8429</th>\n      <td>375933</td>\n      <td>5</td>\n      <td>2</td>\n      <td>закусочная</td>\n      <td>True</td>\n      <td>нет</td>\n    </tr>\n    <tr>\n      <th>8430</th>\n      <td>375940</td>\n      <td>10</td>\n      <td>2</td>\n      <td>NaN</td>\n      <td>NaN</td>\n      <td>нет</td>\n    </tr>\n    <tr>\n      <th>8431</th>\n      <td>375942</td>\n      <td>0</td>\n      <td>1</td>\n      <td>предприятие быстрого обслуживания</td>\n      <td>True</td>\n      <td>нет</td>\n    </tr>\n    <tr>\n      <th>8432</th>\n      <td>375956</td>\n      <td>0</td>\n      <td>1</td>\n      <td>кафе</td>\n      <td>False</td>\n      <td>да</td>\n    </tr>\n  </tbody>\n</table>\n<p>8433 rows × 6 columns</p>\n</div>"
     },
     "execution_count": 12,
     "metadata": {},
     "output_type": "execute_result"
    }
   ],
   "source": [
    "t = t.merge(df_type_property, on='ID', how='left').merge(df_net_property, on='ID', how='left')\n",
    "t"
   ],
   "metadata": {
    "collapsed": false
   }
  },
  {
   "cell_type": "code",
   "execution_count": 17,
   "outputs": [
    {
     "data": {
      "text/plain": "          ID  SeatsCount  ver_ID                         TypeObject is_actual  \\\n0       5882          75       2                               кафе      True   \n1      19627          20       2                                NaN       NaN   \n2      19657          85       2                               кафе      True   \n3      19678          46       1  предприятие быстрого обслуживания      True   \n4      19681          24       1  предприятие быстрого обслуживания     False   \n...      ...         ...     ...                                ...       ...   \n8428  375905          34       1                               кафе      True   \n8429  375933           5       2                         закусочная      True   \n8430  375940          10       2                                NaN       NaN   \n8431  375942           0       1  предприятие быстрого обслуживания      True   \n8432  375956           0       1                               кафе     False   \n\n     IsNetObject SeatsCount_group  \n0            нет                4  \n1            нет                3  \n2            нет                4  \n3             да                4  \n4            нет                3  \n...          ...              ...  \n8428         нет                4  \n8429         нет                1  \n8430         нет                2  \n8431         нет                1  \n8432          да                1  \n\n[8433 rows x 7 columns]",
      "text/html": "<div>\n<style scoped>\n    .dataframe tbody tr th:only-of-type {\n        vertical-align: middle;\n    }\n\n    .dataframe tbody tr th {\n        vertical-align: top;\n    }\n\n    .dataframe thead th {\n        text-align: right;\n    }\n</style>\n<table border=\"1\" class=\"dataframe\">\n  <thead>\n    <tr style=\"text-align: right;\">\n      <th></th>\n      <th>ID</th>\n      <th>SeatsCount</th>\n      <th>ver_ID</th>\n      <th>TypeObject</th>\n      <th>is_actual</th>\n      <th>IsNetObject</th>\n      <th>SeatsCount_group</th>\n    </tr>\n  </thead>\n  <tbody>\n    <tr>\n      <th>0</th>\n      <td>5882</td>\n      <td>75</td>\n      <td>2</td>\n      <td>кафе</td>\n      <td>True</td>\n      <td>нет</td>\n      <td>4</td>\n    </tr>\n    <tr>\n      <th>1</th>\n      <td>19627</td>\n      <td>20</td>\n      <td>2</td>\n      <td>NaN</td>\n      <td>NaN</td>\n      <td>нет</td>\n      <td>3</td>\n    </tr>\n    <tr>\n      <th>2</th>\n      <td>19657</td>\n      <td>85</td>\n      <td>2</td>\n      <td>кафе</td>\n      <td>True</td>\n      <td>нет</td>\n      <td>4</td>\n    </tr>\n    <tr>\n      <th>3</th>\n      <td>19678</td>\n      <td>46</td>\n      <td>1</td>\n      <td>предприятие быстрого обслуживания</td>\n      <td>True</td>\n      <td>да</td>\n      <td>4</td>\n    </tr>\n    <tr>\n      <th>4</th>\n      <td>19681</td>\n      <td>24</td>\n      <td>1</td>\n      <td>предприятие быстрого обслуживания</td>\n      <td>False</td>\n      <td>нет</td>\n      <td>3</td>\n    </tr>\n    <tr>\n      <th>...</th>\n      <td>...</td>\n      <td>...</td>\n      <td>...</td>\n      <td>...</td>\n      <td>...</td>\n      <td>...</td>\n      <td>...</td>\n    </tr>\n    <tr>\n      <th>8428</th>\n      <td>375905</td>\n      <td>34</td>\n      <td>1</td>\n      <td>кафе</td>\n      <td>True</td>\n      <td>нет</td>\n      <td>4</td>\n    </tr>\n    <tr>\n      <th>8429</th>\n      <td>375933</td>\n      <td>5</td>\n      <td>2</td>\n      <td>закусочная</td>\n      <td>True</td>\n      <td>нет</td>\n      <td>1</td>\n    </tr>\n    <tr>\n      <th>8430</th>\n      <td>375940</td>\n      <td>10</td>\n      <td>2</td>\n      <td>NaN</td>\n      <td>NaN</td>\n      <td>нет</td>\n      <td>2</td>\n    </tr>\n    <tr>\n      <th>8431</th>\n      <td>375942</td>\n      <td>0</td>\n      <td>1</td>\n      <td>предприятие быстрого обслуживания</td>\n      <td>True</td>\n      <td>нет</td>\n      <td>1</td>\n    </tr>\n    <tr>\n      <th>8432</th>\n      <td>375956</td>\n      <td>0</td>\n      <td>1</td>\n      <td>кафе</td>\n      <td>False</td>\n      <td>да</td>\n      <td>1</td>\n    </tr>\n  </tbody>\n</table>\n<p>8433 rows × 7 columns</p>\n</div>"
     },
     "execution_count": 17,
     "metadata": {},
     "output_type": "execute_result"
    }
   ],
   "source": [
    "t['SeatsCount_group'] = pd.cut(t.SeatsCount, bins=[0, 5, 15, 25, np.inf], include_lowest=True, labels=list('1234'))\n",
    "t"
   ],
   "metadata": {
    "collapsed": false
   }
  },
  {
   "cell_type": "code",
   "execution_count": 29,
   "outputs": [
    {
     "data": {
      "text/plain": "          ID  SeatsCount  ver_ID TypeObject is_actual IsNetObject  \\\n50     20182          35       1       кафе      True          да   \n246    22005         163       2       кафе      True          да   \n257    22089          86       1       кафе      True          да   \n274    22375          90       1       кафе      True          да   \n276    22383         128       1       кафе      True          да   \n...      ...         ...     ...        ...       ...         ...   \n7782  363535          22       2       кафе      True          да   \n8115  370025         140       2       кафе      True          да   \n8192  371701           7       1       кафе      True          да   \n8368  374676           9       2       кафе      True          да   \n8397  375409          55       2       кафе      True          да   \n\n     SeatsCount_group  \n50                  4  \n246                 4  \n257                 4  \n274                 4  \n276                 4  \n...               ...  \n7782                3  \n8115                4  \n8192                2  \n8368                2  \n8397                4  \n\n[127 rows x 7 columns]",
      "text/html": "<div>\n<style scoped>\n    .dataframe tbody tr th:only-of-type {\n        vertical-align: middle;\n    }\n\n    .dataframe tbody tr th {\n        vertical-align: top;\n    }\n\n    .dataframe thead th {\n        text-align: right;\n    }\n</style>\n<table border=\"1\" class=\"dataframe\">\n  <thead>\n    <tr style=\"text-align: right;\">\n      <th></th>\n      <th>ID</th>\n      <th>SeatsCount</th>\n      <th>ver_ID</th>\n      <th>TypeObject</th>\n      <th>is_actual</th>\n      <th>IsNetObject</th>\n      <th>SeatsCount_group</th>\n    </tr>\n  </thead>\n  <tbody>\n    <tr>\n      <th>50</th>\n      <td>20182</td>\n      <td>35</td>\n      <td>1</td>\n      <td>кафе</td>\n      <td>True</td>\n      <td>да</td>\n      <td>4</td>\n    </tr>\n    <tr>\n      <th>246</th>\n      <td>22005</td>\n      <td>163</td>\n      <td>2</td>\n      <td>кафе</td>\n      <td>True</td>\n      <td>да</td>\n      <td>4</td>\n    </tr>\n    <tr>\n      <th>257</th>\n      <td>22089</td>\n      <td>86</td>\n      <td>1</td>\n      <td>кафе</td>\n      <td>True</td>\n      <td>да</td>\n      <td>4</td>\n    </tr>\n    <tr>\n      <th>274</th>\n      <td>22375</td>\n      <td>90</td>\n      <td>1</td>\n      <td>кафе</td>\n      <td>True</td>\n      <td>да</td>\n      <td>4</td>\n    </tr>\n    <tr>\n      <th>276</th>\n      <td>22383</td>\n      <td>128</td>\n      <td>1</td>\n      <td>кафе</td>\n      <td>True</td>\n      <td>да</td>\n      <td>4</td>\n    </tr>\n    <tr>\n      <th>...</th>\n      <td>...</td>\n      <td>...</td>\n      <td>...</td>\n      <td>...</td>\n      <td>...</td>\n      <td>...</td>\n      <td>...</td>\n    </tr>\n    <tr>\n      <th>7782</th>\n      <td>363535</td>\n      <td>22</td>\n      <td>2</td>\n      <td>кафе</td>\n      <td>True</td>\n      <td>да</td>\n      <td>3</td>\n    </tr>\n    <tr>\n      <th>8115</th>\n      <td>370025</td>\n      <td>140</td>\n      <td>2</td>\n      <td>кафе</td>\n      <td>True</td>\n      <td>да</td>\n      <td>4</td>\n    </tr>\n    <tr>\n      <th>8192</th>\n      <td>371701</td>\n      <td>7</td>\n      <td>1</td>\n      <td>кафе</td>\n      <td>True</td>\n      <td>да</td>\n      <td>2</td>\n    </tr>\n    <tr>\n      <th>8368</th>\n      <td>374676</td>\n      <td>9</td>\n      <td>2</td>\n      <td>кафе</td>\n      <td>True</td>\n      <td>да</td>\n      <td>2</td>\n    </tr>\n    <tr>\n      <th>8397</th>\n      <td>375409</td>\n      <td>55</td>\n      <td>2</td>\n      <td>кафе</td>\n      <td>True</td>\n      <td>да</td>\n      <td>4</td>\n    </tr>\n  </tbody>\n</table>\n<p>127 rows × 7 columns</p>\n</div>"
     },
     "execution_count": 29,
     "metadata": {},
     "output_type": "execute_result"
    }
   ],
   "source": [
    "t[(t.IsNetObject == 'да') & (t.is_actual==True) & (t.TypeObject == 'кафе')]"
   ],
   "metadata": {
    "collapsed": false
   }
  },
  {
   "cell_type": "code",
   "execution_count": 83,
   "outputs": [
    {
     "data": {
      "text/plain": "           ID  SeatsCount  ver_ID SeatsCount_group\n673      5882          75       2                4\n3965    19627          20       2                3\n10104   19657          85       2                4\n5032    19678          46       1                4\n1449    19681          24       1                3\n...       ...         ...     ...              ...\n2212   375905          34       1                4\n8218   375933           5       2                1\n8637   375940          10       2                2\n2158   375942           0       1                1\n6693   375956           0       1                1\n\n[8432 rows x 4 columns]",
      "text/html": "<div>\n<style scoped>\n    .dataframe tbody tr th:only-of-type {\n        vertical-align: middle;\n    }\n\n    .dataframe tbody tr th {\n        vertical-align: top;\n    }\n\n    .dataframe thead th {\n        text-align: right;\n    }\n</style>\n<table border=\"1\" class=\"dataframe\">\n  <thead>\n    <tr style=\"text-align: right;\">\n      <th></th>\n      <th>ID</th>\n      <th>SeatsCount</th>\n      <th>ver_ID</th>\n      <th>SeatsCount_group</th>\n    </tr>\n  </thead>\n  <tbody>\n    <tr>\n      <th>673</th>\n      <td>5882</td>\n      <td>75</td>\n      <td>2</td>\n      <td>4</td>\n    </tr>\n    <tr>\n      <th>3965</th>\n      <td>19627</td>\n      <td>20</td>\n      <td>2</td>\n      <td>3</td>\n    </tr>\n    <tr>\n      <th>10104</th>\n      <td>19657</td>\n      <td>85</td>\n      <td>2</td>\n      <td>4</td>\n    </tr>\n    <tr>\n      <th>5032</th>\n      <td>19678</td>\n      <td>46</td>\n      <td>1</td>\n      <td>4</td>\n    </tr>\n    <tr>\n      <th>1449</th>\n      <td>19681</td>\n      <td>24</td>\n      <td>1</td>\n      <td>3</td>\n    </tr>\n    <tr>\n      <th>...</th>\n      <td>...</td>\n      <td>...</td>\n      <td>...</td>\n      <td>...</td>\n    </tr>\n    <tr>\n      <th>2212</th>\n      <td>375905</td>\n      <td>34</td>\n      <td>1</td>\n      <td>4</td>\n    </tr>\n    <tr>\n      <th>8218</th>\n      <td>375933</td>\n      <td>5</td>\n      <td>2</td>\n      <td>1</td>\n    </tr>\n    <tr>\n      <th>8637</th>\n      <td>375940</td>\n      <td>10</td>\n      <td>2</td>\n      <td>2</td>\n    </tr>\n    <tr>\n      <th>2158</th>\n      <td>375942</td>\n      <td>0</td>\n      <td>1</td>\n      <td>1</td>\n    </tr>\n    <tr>\n      <th>6693</th>\n      <td>375956</td>\n      <td>0</td>\n      <td>1</td>\n      <td>1</td>\n    </tr>\n  </tbody>\n</table>\n<p>8432 rows × 4 columns</p>\n</div>"
     },
     "execution_count": 83,
     "metadata": {},
     "output_type": "execute_result"
    }
   ],
   "source": [
    "t = df_seats_property.sort_values(by=['ID', 'ver_ID'], ascending=[True, False]).drop_duplicates('ID', keep='first')\n",
    "t['SeatsCount_group'] = pd.cut(t.SeatsCount, bins=[0, 5, 15, 25, np.inf], include_lowest=True, labels=list('1234'))\n",
    "t"
   ],
   "metadata": {
    "collapsed": false
   }
  },
  {
   "cell_type": "code",
   "execution_count": 79,
   "outputs": [],
   "source": [
    "t4 = t2.merge(t3, on='ID', how='left')"
   ],
   "metadata": {
    "collapsed": false
   }
  },
  {
   "cell_type": "code",
   "execution_count": 84,
   "outputs": [
    {
     "data": {
      "text/plain": "          ID IsNetObject TypeObject is_actual  SeatsCount  ver_ID  \\\n21    340372          да       кафе      True        48.0     1.0   \n43    344252          да       кафе      True       188.0     1.0   \n48    261905          да       кафе      True        13.0     2.0   \n56    215843          да       кафе      True        33.0     2.0   \n103   284911          да       кафе      True        25.0     1.0   \n...      ...         ...        ...       ...         ...     ...   \n2293   27128          да       кафе      True       255.0     2.0   \n2315  299073          да       кафе      True         9.0     2.0   \n2328  298813          да       кафе      True        30.0     2.0   \n2341  277806          да       кафе      True        20.0     2.0   \n2343  279733          да       кафе      True        15.0     2.0   \n\n     SeatsCount_group  \n21                  4  \n43                  4  \n48                  2  \n56                  4  \n103                 3  \n...               ...  \n2293                4  \n2315                2  \n2328                4  \n2341                3  \n2343                2  \n\n[127 rows x 7 columns]",
      "text/html": "<div>\n<style scoped>\n    .dataframe tbody tr th:only-of-type {\n        vertical-align: middle;\n    }\n\n    .dataframe tbody tr th {\n        vertical-align: top;\n    }\n\n    .dataframe thead th {\n        text-align: right;\n    }\n</style>\n<table border=\"1\" class=\"dataframe\">\n  <thead>\n    <tr style=\"text-align: right;\">\n      <th></th>\n      <th>ID</th>\n      <th>IsNetObject</th>\n      <th>TypeObject</th>\n      <th>is_actual</th>\n      <th>SeatsCount</th>\n      <th>ver_ID</th>\n      <th>SeatsCount_group</th>\n    </tr>\n  </thead>\n  <tbody>\n    <tr>\n      <th>21</th>\n      <td>340372</td>\n      <td>да</td>\n      <td>кафе</td>\n      <td>True</td>\n      <td>48.0</td>\n      <td>1.0</td>\n      <td>4</td>\n    </tr>\n    <tr>\n      <th>43</th>\n      <td>344252</td>\n      <td>да</td>\n      <td>кафе</td>\n      <td>True</td>\n      <td>188.0</td>\n      <td>1.0</td>\n      <td>4</td>\n    </tr>\n    <tr>\n      <th>48</th>\n      <td>261905</td>\n      <td>да</td>\n      <td>кафе</td>\n      <td>True</td>\n      <td>13.0</td>\n      <td>2.0</td>\n      <td>2</td>\n    </tr>\n    <tr>\n      <th>56</th>\n      <td>215843</td>\n      <td>да</td>\n      <td>кафе</td>\n      <td>True</td>\n      <td>33.0</td>\n      <td>2.0</td>\n      <td>4</td>\n    </tr>\n    <tr>\n      <th>103</th>\n      <td>284911</td>\n      <td>да</td>\n      <td>кафе</td>\n      <td>True</td>\n      <td>25.0</td>\n      <td>1.0</td>\n      <td>3</td>\n    </tr>\n    <tr>\n      <th>...</th>\n      <td>...</td>\n      <td>...</td>\n      <td>...</td>\n      <td>...</td>\n      <td>...</td>\n      <td>...</td>\n      <td>...</td>\n    </tr>\n    <tr>\n      <th>2293</th>\n      <td>27128</td>\n      <td>да</td>\n      <td>кафе</td>\n      <td>True</td>\n      <td>255.0</td>\n      <td>2.0</td>\n      <td>4</td>\n    </tr>\n    <tr>\n      <th>2315</th>\n      <td>299073</td>\n      <td>да</td>\n      <td>кафе</td>\n      <td>True</td>\n      <td>9.0</td>\n      <td>2.0</td>\n      <td>2</td>\n    </tr>\n    <tr>\n      <th>2328</th>\n      <td>298813</td>\n      <td>да</td>\n      <td>кафе</td>\n      <td>True</td>\n      <td>30.0</td>\n      <td>2.0</td>\n      <td>4</td>\n    </tr>\n    <tr>\n      <th>2341</th>\n      <td>277806</td>\n      <td>да</td>\n      <td>кафе</td>\n      <td>True</td>\n      <td>20.0</td>\n      <td>2.0</td>\n      <td>3</td>\n    </tr>\n    <tr>\n      <th>2343</th>\n      <td>279733</td>\n      <td>да</td>\n      <td>кафе</td>\n      <td>True</td>\n      <td>15.0</td>\n      <td>2.0</td>\n      <td>2</td>\n    </tr>\n  </tbody>\n</table>\n<p>127 rows × 7 columns</p>\n</div>"
     },
     "execution_count": 84,
     "metadata": {},
     "output_type": "execute_result"
    }
   ],
   "source": [
    "t4.merge(t, on='ID', how='left').dropna(axis=0)"
   ],
   "metadata": {
    "collapsed": false
   }
  },
  {
   "cell_type": "code",
   "execution_count": null,
   "outputs": [],
   "source": [],
   "metadata": {
    "collapsed": false
   }
  }
 ],
 "metadata": {
  "kernelspec": {
   "display_name": "Python 3",
   "language": "python",
   "name": "python3"
  },
  "language_info": {
   "codemirror_mode": {
    "name": "ipython",
    "version": 2
   },
   "file_extension": ".py",
   "mimetype": "text/x-python",
   "name": "python",
   "nbconvert_exporter": "python",
   "pygments_lexer": "ipython2",
   "version": "2.7.6"
  }
 },
 "nbformat": 4,
 "nbformat_minor": 0
}
