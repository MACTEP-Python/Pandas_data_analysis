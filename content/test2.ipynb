{
 "cells": [
  {
   "cell_type": "code",
   "execution_count": 81,
   "metadata": {
    "collapsed": true,
    "id": "Oc7HFJ9yeIVG",
    "executionInfo": {
     "status": "ok",
     "timestamp": 1673868766434,
     "user_tz": -180,
     "elapsed": 956,
     "user": {
      "displayName": "Андрей Геннадьевич Кабецкий",
      "userId": "07107237412685999960"
     }
    }
   },
   "outputs": [],
   "source": [
    "import numpy as np\n",
    "import pandas as pd\n",
    "\n",
    "\n",
    "df_main = pd.read_csv('main.csv')\n",
    "df_net_property = pd.read_csv('net_property.csv')\n",
    "df_seats_property = pd.read_csv('seats_property.csv')\n",
    "df_type_property = pd.read_csv('type_property.csv')\n",
    "# df_main = pd.read_csv(r'/content/sample_data/main.csv')\n",
    "# df_net_property = pd.read_csv('/content/sample_data/net_property.csv')\n",
    "# df_seats_property = pd.read_csv('/content/sample_data/seats_property.csv')\n",
    "# df_type_property = pd.read_csv('/content/sample_data/type_property.csv')"
   ]
  },
  {
   "cell_type": "markdown",
   "source": [
    "## Привожу в порядок посадочные места. Убираю полные дубликаты и убираю дубликаты с минимальной ver_ID"
   ],
   "metadata": {
    "collapsed": false,
    "id": "2ckkJfwPeIVQ"
   }
  },
  {
   "cell_type": "code",
   "execution_count": 83,
   "outputs": [
    {
     "data": {
      "text/plain": "           ID  SeatsCount  ver_ID SeatsCount_group\n673      5882          75       2                4\n3965    19627          20       2                3\n10104   19657          85       2                4\n5032    19678          46       1                4\n1449    19681          24       1                3\n...       ...         ...     ...              ...\n2212   375905          34       1                4\n8218   375933           5       2                1\n8637   375940          10       2                2\n2158   375942           0       1                1\n6693   375956           0       1                1\n\n[8432 rows x 4 columns]",
      "text/html": "<div>\n<style scoped>\n    .dataframe tbody tr th:only-of-type {\n        vertical-align: middle;\n    }\n\n    .dataframe tbody tr th {\n        vertical-align: top;\n    }\n\n    .dataframe thead th {\n        text-align: right;\n    }\n</style>\n<table border=\"1\" class=\"dataframe\">\n  <thead>\n    <tr style=\"text-align: right;\">\n      <th></th>\n      <th>ID</th>\n      <th>SeatsCount</th>\n      <th>ver_ID</th>\n      <th>SeatsCount_group</th>\n    </tr>\n  </thead>\n  <tbody>\n    <tr>\n      <th>673</th>\n      <td>5882</td>\n      <td>75</td>\n      <td>2</td>\n      <td>4</td>\n    </tr>\n    <tr>\n      <th>3965</th>\n      <td>19627</td>\n      <td>20</td>\n      <td>2</td>\n      <td>3</td>\n    </tr>\n    <tr>\n      <th>10104</th>\n      <td>19657</td>\n      <td>85</td>\n      <td>2</td>\n      <td>4</td>\n    </tr>\n    <tr>\n      <th>5032</th>\n      <td>19678</td>\n      <td>46</td>\n      <td>1</td>\n      <td>4</td>\n    </tr>\n    <tr>\n      <th>1449</th>\n      <td>19681</td>\n      <td>24</td>\n      <td>1</td>\n      <td>3</td>\n    </tr>\n    <tr>\n      <th>...</th>\n      <td>...</td>\n      <td>...</td>\n      <td>...</td>\n      <td>...</td>\n    </tr>\n    <tr>\n      <th>2212</th>\n      <td>375905</td>\n      <td>34</td>\n      <td>1</td>\n      <td>4</td>\n    </tr>\n    <tr>\n      <th>8218</th>\n      <td>375933</td>\n      <td>5</td>\n      <td>2</td>\n      <td>1</td>\n    </tr>\n    <tr>\n      <th>8637</th>\n      <td>375940</td>\n      <td>10</td>\n      <td>2</td>\n      <td>2</td>\n    </tr>\n    <tr>\n      <th>2158</th>\n      <td>375942</td>\n      <td>0</td>\n      <td>1</td>\n      <td>1</td>\n    </tr>\n    <tr>\n      <th>6693</th>\n      <td>375956</td>\n      <td>0</td>\n      <td>1</td>\n      <td>1</td>\n    </tr>\n  </tbody>\n</table>\n<p>8432 rows × 4 columns</p>\n</div>"
     },
     "execution_count": 83,
     "metadata": {},
     "output_type": "execute_result"
    }
   ],
   "source": [
    "df_seats_property = df_seats_property.sort_values(by=['ID', 'ver_ID'], ascending=[True, False]) \\\n",
    "    .drop_duplicates('ID', keep='first')\n",
    "\n",
    "# Разбиваю на группы\n",
    "t_seats = df_seats_property\n",
    "t_seats['SeatsCount_group'] = pd.cut(t_seats.SeatsCount,\n",
    "                                     bins=[0, 5, 15, 25, np.inf],\n",
    "                                     include_lowest=True,\n",
    "                                     labels=list('1234'))\n",
    "t_seats"
   ],
   "metadata": {
    "id": "Xhg5pSi4eIVV",
    "colab": {
     "base_uri": "https://localhost:8080/",
     "height": 424
    },
    "executionInfo": {
     "status": "ok",
     "timestamp": 1673868933287,
     "user_tz": -180,
     "elapsed": 328,
     "user": {
      "displayName": "Андрей Геннадьевич Кабецкий",
      "userId": "07107237412685999960"
     }
    },
    "outputId": "a29a5c85-6406-41ab-b7b2-b30ee7781f64"
   }
  },
  {
   "cell_type": "markdown",
   "source": [
    "Собираю датафрейм с \"Сетевые объекты\" со специализацией \"кафе\" и актуальной версией специализации is_actual == True"
   ],
   "metadata": {
    "collapsed": false,
    "id": "2rDH3lPQeIVZ"
   }
  },
  {
   "cell_type": "code",
   "execution_count": 84,
   "outputs": [],
   "source": [
    "df_net_property.drop_duplicates(inplace=True) #Убрал одну дублирующуюся запись"
   ],
   "metadata": {
    "id": "XwcDewh2eIVZ"
   }
  },
  {
   "cell_type": "code",
   "execution_count": 85,
   "outputs": [],
   "source": [
    "df1 = df_main.merge(df_net_property, on='ID', how='left').merge(df_type_property, on='ID', how='left')\n",
    "df1 = df1.merge(t_seats, on='ID', how='left')"
   ],
   "metadata": {
    "collapsed": false
   }
  },
  {
   "cell_type": "code",
   "source": [
    "df1 = df1.query('is_actual == True and TypeObject == \"кафе\" and IsNetObject == \"да\"')"
   ],
   "metadata": {
    "id": "SUyQ0UQG36WO",
    "executionInfo": {
     "status": "ok",
     "timestamp": 1673869188632,
     "user_tz": -180,
     "elapsed": 272,
     "user": {
      "displayName": "Андрей Геннадьевич Кабецкий",
      "userId": "07107237412685999960"
     }
    }
   },
   "execution_count": 86,
   "outputs": []
  },
  {
   "cell_type": "code",
   "execution_count": 87,
   "outputs": [
    {
     "data": {
      "text/plain": "4    46\n2    12\n3    10\n1     2\nName: SeatsCount_group, dtype: int64"
     },
     "execution_count": 87,
     "metadata": {},
     "output_type": "execute_result"
    }
   ],
   "source": [
    "df1.SeatsCount_group.value_counts()"
   ],
   "metadata": {
    "colab": {
     "base_uri": "https://localhost:8080/"
    },
    "id": "q-q48FQxeIVf",
    "executionInfo": {
     "status": "ok",
     "timestamp": 1673869193249,
     "user_tz": -180,
     "elapsed": 272,
     "user": {
      "displayName": "Андрей Геннадьевич Кабецкий",
      "userId": "07107237412685999960"
     }
    },
    "outputId": "13dddd76-d52b-4f6e-d258-ecf3aa975357"
   }
  },
  {
   "cell_type": "code",
   "execution_count": 10,
   "outputs": [
    {
     "data": {
      "text/plain": "(70, 9)"
     },
     "execution_count": 10,
     "metadata": {},
     "output_type": "execute_result"
    }
   ],
   "source": [],
   "metadata": {
    "id": "HwlCpHhVeIVg"
   }
  },
  {
   "cell_type": "code",
   "execution_count": 97,
   "outputs": [],
   "source": [
    "df_address = pd.read_excel('Список_адресов.xlsx', sheet_name=1, skiprows=[0])\n",
    "df_ID = pd.read_excel('Список_ID.xlsx', sheet_name=0, skiprows=[0])\n",
    "df_address.rename(columns={\"Unnamed: 0\": 'f_address'}, inplace=True)"
   ],
   "metadata": {
    "id": "ifPT9XlXeIVg"
   }
  },
  {
   "cell_type": "code",
   "execution_count": 99,
   "outputs": [],
   "source": [
    "df_type_property = df_type_property[df_type_property.is_actual == True]"
   ],
   "metadata": {
    "id": "csAeymEseIVh"
   }
  },
  {
   "cell_type": "code",
   "execution_count": 100,
   "outputs": [],
   "source": [
    "t1 = df_main.merge(df_ID)\n",
    "t2 = df_main.merge(df_address, left_on='Address', right_on='f_address').drop('f_address', axis=1)\n",
    "df_f = pd.concat([t1, t2]).drop_duplicates()"
   ],
   "metadata": {
    "id": "_t_u-3CHeIVh"
   }
  },
  {
   "cell_type": "code",
   "execution_count": 102,
   "outputs": [],
   "source": [
    "df_seats_property = df_seats_property.sort_values(by=['ID', 'ver_ID'], ascending=[True, False]) \\\n",
    "    .drop_duplicates('ID', keep='first')\n",
    "df_f = df_f.merge(df_net_property, on='ID', how='left').merge(df_seats_property, on='ID', how='left').merge(df_type_property, on='ID', how='left')"
   ],
   "metadata": {
    "collapsed": false
   }
  },
  {
   "cell_type": "code",
   "execution_count": 103,
   "outputs": [],
   "source": [
    "df_result = df_f.fillna({'IsNetObject': '', 'SeatsCount': 0, 'TypeObject': 'отсутствует'})[['ID', 'Name', 'Address', 'IsNetObject', 'TypeObject', 'SeatsCount']]\n",
    "df_result = df_result.sort_values('ID', ascending=False)"
   ],
   "metadata": {
    "collapsed": false
   }
  },
  {
   "cell_type": "code",
   "execution_count": 104,
   "outputs": [],
   "source": [
    "translated_col = 'Ид,Наименование,Адрес,Сетевой?,Специализация,КоличМест'.split(',')\n",
    "df_result.rename(columns={df_result.columns[i]: translated_col[i] for i in range(len(translated_col))}, inplace=True)\n",
    "df_result = df_result.drop_duplicates()"
   ],
   "metadata": {
    "collapsed": false
   }
  },
  {
   "cell_type": "code",
   "execution_count": 105,
   "outputs": [],
   "source": [
    "df_result.to_csv('Ex_6.csv', index=False)"
   ],
   "metadata": {
    "collapsed": false
   }
  }
 ],
 "metadata": {
  "kernelspec": {
   "display_name": "Python 3",
   "language": "python",
   "name": "python3"
  },
  "language_info": {
   "codemirror_mode": {
    "name": "ipython",
    "version": 2
   },
   "file_extension": ".py",
   "mimetype": "text/x-python",
   "name": "python",
   "nbconvert_exporter": "python",
   "pygments_lexer": "ipython2",
   "version": "2.7.6"
  },
  "colab": {
   "provenance": []
  }
 },
 "nbformat": 4,
 "nbformat_minor": 0
}
