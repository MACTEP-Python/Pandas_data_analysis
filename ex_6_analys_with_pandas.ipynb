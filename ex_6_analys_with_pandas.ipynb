{
 "cells": [
  {
   "cell_type": "code",
   "execution_count": 1,
   "metadata": {
    "collapsed": true
   },
   "outputs": [],
   "source": [
    "import pandas as pd\n",
    "import sqlite3"
   ]
  },
  {
   "cell_type": "markdown",
   "source": [
    "## Создаю соединение с файлом БД"
   ],
   "metadata": {
    "collapsed": false
   }
  },
  {
   "cell_type": "code",
   "execution_count": 2,
   "outputs": [],
   "source": [
    "con = sqlite3.connect('.\\content\\indicators_db.sqlite3')"
   ],
   "metadata": {
    "collapsed": false
   }
  },
  {
   "cell_type": "markdown",
   "source": [
    "Создаю функциональную обертку для удобства запросов в БД"
   ],
   "metadata": {
    "collapsed": false
   }
  },
  {
   "cell_type": "code",
   "execution_count": 3,
   "outputs": [],
   "source": [
    "def read_sql(sql_query, connection=con):\n",
    "    return pd.read_sql(sql= sql_query, con=connection)"
   ],
   "metadata": {
    "collapsed": false
   }
  },
  {
   "cell_type": "markdown",
   "source": [
    "В переменную буду передавать запросы"
   ],
   "metadata": {
    "collapsed": false
   }
  },
  {
   "cell_type": "code",
   "execution_count": 4,
   "outputs": [],
   "source": [
    "sql_q = 'select * from main.org_indicators_2020_2022'"
   ],
   "metadata": {
    "collapsed": false
   }
  },
  {
   "cell_type": "code",
   "execution_count": 5,
   "outputs": [
    {
     "data": {
      "text/plain": "      ID  YEAR    INDICATOR_NAME     VALUE\n0  20988  2020           Выручка  29337447\n1  20988  2020  Оценка на Яндекс         2\n2  20988  2020            Налоги    720554\n3  20988  2020    Оценка на 2GIS         3\n4  24828  2020           Выручка  36633885",
      "text/html": "<div>\n<style scoped>\n    .dataframe tbody tr th:only-of-type {\n        vertical-align: middle;\n    }\n\n    .dataframe tbody tr th {\n        vertical-align: top;\n    }\n\n    .dataframe thead th {\n        text-align: right;\n    }\n</style>\n<table border=\"1\" class=\"dataframe\">\n  <thead>\n    <tr style=\"text-align: right;\">\n      <th></th>\n      <th>ID</th>\n      <th>YEAR</th>\n      <th>INDICATOR_NAME</th>\n      <th>VALUE</th>\n    </tr>\n  </thead>\n  <tbody>\n    <tr>\n      <th>0</th>\n      <td>20988</td>\n      <td>2020</td>\n      <td>Выручка</td>\n      <td>29337447</td>\n    </tr>\n    <tr>\n      <th>1</th>\n      <td>20988</td>\n      <td>2020</td>\n      <td>Оценка на Яндекс</td>\n      <td>2</td>\n    </tr>\n    <tr>\n      <th>2</th>\n      <td>20988</td>\n      <td>2020</td>\n      <td>Налоги</td>\n      <td>720554</td>\n    </tr>\n    <tr>\n      <th>3</th>\n      <td>20988</td>\n      <td>2020</td>\n      <td>Оценка на 2GIS</td>\n      <td>3</td>\n    </tr>\n    <tr>\n      <th>4</th>\n      <td>24828</td>\n      <td>2020</td>\n      <td>Выручка</td>\n      <td>36633885</td>\n    </tr>\n  </tbody>\n</table>\n</div>"
     },
     "execution_count": 5,
     "metadata": {},
     "output_type": "execute_result"
    }
   ],
   "source": [
    "df= read_sql(sql_q)\n",
    "df.head()"
   ],
   "metadata": {
    "collapsed": false
   }
  },
  {
   "cell_type": "markdown",
   "source": [
    "## Загрузка дополнительных таблиц"
   ],
   "metadata": {
    "collapsed": false
   }
  },
  {
   "cell_type": "code",
   "execution_count": 6,
   "outputs": [],
   "source": [
    "df_main = pd.read_csv('./content/main.csv')\n",
    "df_net_property = pd.read_csv('./content/net_property.csv')\n",
    "df_seats_property = pd.read_csv('./content/seats_property.csv')\n",
    "df_type_property = pd.read_csv('./content/type_property.csv')\n",
    "# Актуализирую таблицу с посадочными местами\n",
    "df_seats_property = df_seats_property.sort_values(by=['ID', 'ver_ID'], ascending=[True, False]) \\\n",
    "    .drop_duplicates('ID', keep='first')"
   ],
   "metadata": {
    "collapsed": false
   }
  },
  {
   "cell_type": "markdown",
   "source": [
    "Задание 1. Для каждой организации из main.csv подтяните выручку и число сотрудников за 2020, 2021 и 2022."
   ],
   "metadata": {
    "collapsed": false
   }
  },
  {
   "cell_type": "code",
   "execution_count": 14,
   "outputs": [
    {
     "data": {
      "text/plain": "        ID  YEAR     INDICATOR_NAME     VALUE\n0    20988  2020            Выручка  29337447\n1    24828  2020            Выручка  36633885\n2   358126  2020  Число сотрудников        19\n3   373052  2020  Число сотрудников        16\n4   373052  2020            Выручка  36385240\n5   303239  2020  Число сотрудников        13\n6   303239  2020            Выручка  25968809\n7   351220  2020            Выручка  33571779\n8   351220  2020  Число сотрудников         6\n9   342854  2020            Выручка  36813374\n10  363640  2020            Выручка  35651299\n11  211210  2020  Число сотрудников         9\n12  353273  2020            Выручка  28771191\n13  353273  2020  Число сотрудников         6\n14   72656  2020            Выручка  27867322\n15  254675  2020            Выручка  21737701\n16  151822  2020  Число сотрудников        16\n17  151822  2020            Выручка  31563787\n18  223862  2020  Число сотрудников         7\n19  223862  2020            Выручка  30152526",
      "text/html": "<div>\n<style scoped>\n    .dataframe tbody tr th:only-of-type {\n        vertical-align: middle;\n    }\n\n    .dataframe tbody tr th {\n        vertical-align: top;\n    }\n\n    .dataframe thead th {\n        text-align: right;\n    }\n</style>\n<table border=\"1\" class=\"dataframe\">\n  <thead>\n    <tr style=\"text-align: right;\">\n      <th></th>\n      <th>ID</th>\n      <th>YEAR</th>\n      <th>INDICATOR_NAME</th>\n      <th>VALUE</th>\n    </tr>\n  </thead>\n  <tbody>\n    <tr>\n      <th>0</th>\n      <td>20988</td>\n      <td>2020</td>\n      <td>Выручка</td>\n      <td>29337447</td>\n    </tr>\n    <tr>\n      <th>1</th>\n      <td>24828</td>\n      <td>2020</td>\n      <td>Выручка</td>\n      <td>36633885</td>\n    </tr>\n    <tr>\n      <th>2</th>\n      <td>358126</td>\n      <td>2020</td>\n      <td>Число сотрудников</td>\n      <td>19</td>\n    </tr>\n    <tr>\n      <th>3</th>\n      <td>373052</td>\n      <td>2020</td>\n      <td>Число сотрудников</td>\n      <td>16</td>\n    </tr>\n    <tr>\n      <th>4</th>\n      <td>373052</td>\n      <td>2020</td>\n      <td>Выручка</td>\n      <td>36385240</td>\n    </tr>\n    <tr>\n      <th>5</th>\n      <td>303239</td>\n      <td>2020</td>\n      <td>Число сотрудников</td>\n      <td>13</td>\n    </tr>\n    <tr>\n      <th>6</th>\n      <td>303239</td>\n      <td>2020</td>\n      <td>Выручка</td>\n      <td>25968809</td>\n    </tr>\n    <tr>\n      <th>7</th>\n      <td>351220</td>\n      <td>2020</td>\n      <td>Выручка</td>\n      <td>33571779</td>\n    </tr>\n    <tr>\n      <th>8</th>\n      <td>351220</td>\n      <td>2020</td>\n      <td>Число сотрудников</td>\n      <td>6</td>\n    </tr>\n    <tr>\n      <th>9</th>\n      <td>342854</td>\n      <td>2020</td>\n      <td>Выручка</td>\n      <td>36813374</td>\n    </tr>\n    <tr>\n      <th>10</th>\n      <td>363640</td>\n      <td>2020</td>\n      <td>Выручка</td>\n      <td>35651299</td>\n    </tr>\n    <tr>\n      <th>11</th>\n      <td>211210</td>\n      <td>2020</td>\n      <td>Число сотрудников</td>\n      <td>9</td>\n    </tr>\n    <tr>\n      <th>12</th>\n      <td>353273</td>\n      <td>2020</td>\n      <td>Выручка</td>\n      <td>28771191</td>\n    </tr>\n    <tr>\n      <th>13</th>\n      <td>353273</td>\n      <td>2020</td>\n      <td>Число сотрудников</td>\n      <td>6</td>\n    </tr>\n    <tr>\n      <th>14</th>\n      <td>72656</td>\n      <td>2020</td>\n      <td>Выручка</td>\n      <td>27867322</td>\n    </tr>\n    <tr>\n      <th>15</th>\n      <td>254675</td>\n      <td>2020</td>\n      <td>Выручка</td>\n      <td>21737701</td>\n    </tr>\n    <tr>\n      <th>16</th>\n      <td>151822</td>\n      <td>2020</td>\n      <td>Число сотрудников</td>\n      <td>16</td>\n    </tr>\n    <tr>\n      <th>17</th>\n      <td>151822</td>\n      <td>2020</td>\n      <td>Выручка</td>\n      <td>31563787</td>\n    </tr>\n    <tr>\n      <th>18</th>\n      <td>223862</td>\n      <td>2020</td>\n      <td>Число сотрудников</td>\n      <td>7</td>\n    </tr>\n    <tr>\n      <th>19</th>\n      <td>223862</td>\n      <td>2020</td>\n      <td>Выручка</td>\n      <td>30152526</td>\n    </tr>\n  </tbody>\n</table>\n</div>"
     },
     "execution_count": 14,
     "metadata": {},
     "output_type": "execute_result"
    }
   ],
   "source": [
    "# sql_q = '''select ID, YEAR, INDICATOR_NAME, SUM(VALUE) as VALUE\n",
    "# from main.org_indicators_2020_2022\n",
    "# where INDICATOR_NAME in ('Выручка', 'Число сотрудников')\n",
    "# group by ID, YEAR, INDICATOR_NAME;'''\n",
    "sql_q = '''select *\n",
    "from main.org_indicators_2020_2022\n",
    "where INDICATOR_NAME in ('Выручка', 'Число сотрудников');'''\n",
    "df = read_sql(sql_q)\n",
    "df.head(20)"
   ],
   "metadata": {
    "collapsed": false
   }
  },
  {
   "cell_type": "code",
   "execution_count": 172,
   "outputs": [
    {
     "data": {
      "text/plain": "      ID  YEAR     INDICATOR_NAME     VALUE\n0  19630  2020            Выручка  31222228\n1  19630  2021            Выручка  21721921\n2  19630  2021  Число сотрудников        15\n3  19630  2022  Число сотрудников         9\n4  19643  2020            Выручка  35670701",
      "text/html": "<div>\n<style scoped>\n    .dataframe tbody tr th:only-of-type {\n        vertical-align: middle;\n    }\n\n    .dataframe tbody tr th {\n        vertical-align: top;\n    }\n\n    .dataframe thead th {\n        text-align: right;\n    }\n</style>\n<table border=\"1\" class=\"dataframe\">\n  <thead>\n    <tr style=\"text-align: right;\">\n      <th></th>\n      <th>ID</th>\n      <th>YEAR</th>\n      <th>INDICATOR_NAME</th>\n      <th>VALUE</th>\n    </tr>\n  </thead>\n  <tbody>\n    <tr>\n      <th>0</th>\n      <td>19630</td>\n      <td>2020</td>\n      <td>Выручка</td>\n      <td>31222228</td>\n    </tr>\n    <tr>\n      <th>1</th>\n      <td>19630</td>\n      <td>2021</td>\n      <td>Выручка</td>\n      <td>21721921</td>\n    </tr>\n    <tr>\n      <th>2</th>\n      <td>19630</td>\n      <td>2021</td>\n      <td>Число сотрудников</td>\n      <td>15</td>\n    </tr>\n    <tr>\n      <th>3</th>\n      <td>19630</td>\n      <td>2022</td>\n      <td>Число сотрудников</td>\n      <td>9</td>\n    </tr>\n    <tr>\n      <th>4</th>\n      <td>19643</td>\n      <td>2020</td>\n      <td>Выручка</td>\n      <td>35670701</td>\n    </tr>\n  </tbody>\n</table>\n</div>"
     },
     "execution_count": 172,
     "metadata": {},
     "output_type": "execute_result"
    }
   ],
   "source": [
    "t = df.groupby(['ID', 'YEAR', 'INDICATOR_NAME'], as_index=False)['VALUE'].sum()\n",
    "t.head()"
   ],
   "metadata": {
    "collapsed": false
   }
  },
  {
   "cell_type": "code",
   "execution_count": 207,
   "outputs": [
    {
     "data": {
      "text/plain": "INDICATOR_NAME     Выручка                         Число сотрудников        \\\nYEAR                  2020        2021        2022              2020  2021   \nID                                                                           \n19630           31222228.0  21721921.0         NaN               NaN  15.0   \n19643           35670701.0  39125612.0         NaN              17.0   NaN   \n19647           34926614.0  23176004.0  27925131.0              16.0  15.0   \n19657           23410468.0  28065717.0  36074059.0               NaN   8.0   \n19677                  NaN  30803884.0  25303592.0              17.0   9.0   \n\nINDICATOR_NAME        \nYEAR            2022  \nID                    \n19630            9.0  \n19643            NaN  \n19647            NaN  \n19657           12.0  \n19677            NaN  ",
      "text/html": "<div>\n<style scoped>\n    .dataframe tbody tr th:only-of-type {\n        vertical-align: middle;\n    }\n\n    .dataframe tbody tr th {\n        vertical-align: top;\n    }\n\n    .dataframe thead tr th {\n        text-align: left;\n    }\n\n    .dataframe thead tr:last-of-type th {\n        text-align: right;\n    }\n</style>\n<table border=\"1\" class=\"dataframe\">\n  <thead>\n    <tr>\n      <th>INDICATOR_NAME</th>\n      <th colspan=\"3\" halign=\"left\">Выручка</th>\n      <th colspan=\"3\" halign=\"left\">Число сотрудников</th>\n    </tr>\n    <tr>\n      <th>YEAR</th>\n      <th>2020</th>\n      <th>2021</th>\n      <th>2022</th>\n      <th>2020</th>\n      <th>2021</th>\n      <th>2022</th>\n    </tr>\n    <tr>\n      <th>ID</th>\n      <th></th>\n      <th></th>\n      <th></th>\n      <th></th>\n      <th></th>\n      <th></th>\n    </tr>\n  </thead>\n  <tbody>\n    <tr>\n      <th>19630</th>\n      <td>31222228.0</td>\n      <td>21721921.0</td>\n      <td>NaN</td>\n      <td>NaN</td>\n      <td>15.0</td>\n      <td>9.0</td>\n    </tr>\n    <tr>\n      <th>19643</th>\n      <td>35670701.0</td>\n      <td>39125612.0</td>\n      <td>NaN</td>\n      <td>17.0</td>\n      <td>NaN</td>\n      <td>NaN</td>\n    </tr>\n    <tr>\n      <th>19647</th>\n      <td>34926614.0</td>\n      <td>23176004.0</td>\n      <td>27925131.0</td>\n      <td>16.0</td>\n      <td>15.0</td>\n      <td>NaN</td>\n    </tr>\n    <tr>\n      <th>19657</th>\n      <td>23410468.0</td>\n      <td>28065717.0</td>\n      <td>36074059.0</td>\n      <td>NaN</td>\n      <td>8.0</td>\n      <td>12.0</td>\n    </tr>\n    <tr>\n      <th>19677</th>\n      <td>NaN</td>\n      <td>30803884.0</td>\n      <td>25303592.0</td>\n      <td>17.0</td>\n      <td>9.0</td>\n      <td>NaN</td>\n    </tr>\n  </tbody>\n</table>\n</div>"
     },
     "execution_count": 207,
     "metadata": {},
     "output_type": "execute_result"
    }
   ],
   "source": [
    "t1 = t.pivot_table(index='ID', columns=['INDICATOR_NAME', 'YEAR'], values='VALUE')\n",
    "t1.head()"
   ],
   "metadata": {
    "collapsed": false
   }
  },
  {
   "cell_type": "code",
   "execution_count": 208,
   "outputs": [
    {
     "data": {
      "text/plain": "       Выручка 2020  Выручка 2021  Выручка 2022  Число сотрудников 2020  \\\nID                                                                        \n19630    31222228.0    21721921.0           NaN                     NaN   \n19643    35670701.0    39125612.0           NaN                    17.0   \n19647    34926614.0    23176004.0    27925131.0                    16.0   \n19657    23410468.0    28065717.0    36074059.0                     NaN   \n19677           NaN    30803884.0    25303592.0                    17.0   \n\n       Число сотрудников 2021  Число сотрудников 2022  \nID                                                     \n19630                    15.0                     9.0  \n19643                     NaN                     NaN  \n19647                    15.0                     NaN  \n19657                     8.0                    12.0  \n19677                     9.0                     NaN  ",
      "text/html": "<div>\n<style scoped>\n    .dataframe tbody tr th:only-of-type {\n        vertical-align: middle;\n    }\n\n    .dataframe tbody tr th {\n        vertical-align: top;\n    }\n\n    .dataframe thead th {\n        text-align: right;\n    }\n</style>\n<table border=\"1\" class=\"dataframe\">\n  <thead>\n    <tr style=\"text-align: right;\">\n      <th></th>\n      <th>Выручка 2020</th>\n      <th>Выручка 2021</th>\n      <th>Выручка 2022</th>\n      <th>Число сотрудников 2020</th>\n      <th>Число сотрудников 2021</th>\n      <th>Число сотрудников 2022</th>\n    </tr>\n    <tr>\n      <th>ID</th>\n      <th></th>\n      <th></th>\n      <th></th>\n      <th></th>\n      <th></th>\n      <th></th>\n    </tr>\n  </thead>\n  <tbody>\n    <tr>\n      <th>19630</th>\n      <td>31222228.0</td>\n      <td>21721921.0</td>\n      <td>NaN</td>\n      <td>NaN</td>\n      <td>15.0</td>\n      <td>9.0</td>\n    </tr>\n    <tr>\n      <th>19643</th>\n      <td>35670701.0</td>\n      <td>39125612.0</td>\n      <td>NaN</td>\n      <td>17.0</td>\n      <td>NaN</td>\n      <td>NaN</td>\n    </tr>\n    <tr>\n      <th>19647</th>\n      <td>34926614.0</td>\n      <td>23176004.0</td>\n      <td>27925131.0</td>\n      <td>16.0</td>\n      <td>15.0</td>\n      <td>NaN</td>\n    </tr>\n    <tr>\n      <th>19657</th>\n      <td>23410468.0</td>\n      <td>28065717.0</td>\n      <td>36074059.0</td>\n      <td>NaN</td>\n      <td>8.0</td>\n      <td>12.0</td>\n    </tr>\n    <tr>\n      <th>19677</th>\n      <td>NaN</td>\n      <td>30803884.0</td>\n      <td>25303592.0</td>\n      <td>17.0</td>\n      <td>9.0</td>\n      <td>NaN</td>\n    </tr>\n  </tbody>\n</table>\n</div>"
     },
     "execution_count": 208,
     "metadata": {},
     "output_type": "execute_result"
    }
   ],
   "source": [
    "t1.columns = [x+' '+str(y) for x, y in t1.columns]\n",
    "t1.head()"
   ],
   "metadata": {
    "collapsed": false
   }
  },
  {
   "cell_type": "code",
   "execution_count": 130,
   "outputs": [],
   "source": [],
   "metadata": {
    "collapsed": false
   }
  },
  {
   "cell_type": "code",
   "execution_count": 210,
   "outputs": [
    {
     "data": {
      "text/plain": "       ID              Name  \\\n0   20988               ГУЗ   \n1   24828       Кафе Халяль   \n2  358126          Scarface   \n3  373052        Кулинариум   \n4  303239  One price coffee   \n\n                                             Address  Выручка 2020  \\\n0               город Москва, улица Казакова, дом 15    29337447.0   \n1  город Москва, 8-я улица Текстильщиков, дом 5, ...    36633885.0   \n2  Российская Федерация, город Москва, внутригоро...           NaN   \n3  Российская Федерация, город Москва, внутригоро...    36385240.0   \n4  Российская Федерация, город Москва, внутригоро...    25968809.0   \n\n   Выручка 2021  Выручка 2022  Число сотрудников 2020  Число сотрудников 2021  \\\n0    24299167.0    31395846.0                     NaN                     NaN   \n1    31262894.0    33854306.0                     NaN                    10.0   \n2    20278817.0    26250473.0                    19.0                    16.0   \n3    26416139.0    39003318.0                    16.0                     6.0   \n4    30183522.0           NaN                    13.0                    17.0   \n\n   Число сотрудников 2022  \n0                    15.0  \n1                     NaN  \n2                     6.0  \n3                     NaN  \n4                    18.0  ",
      "text/html": "<div>\n<style scoped>\n    .dataframe tbody tr th:only-of-type {\n        vertical-align: middle;\n    }\n\n    .dataframe tbody tr th {\n        vertical-align: top;\n    }\n\n    .dataframe thead th {\n        text-align: right;\n    }\n</style>\n<table border=\"1\" class=\"dataframe\">\n  <thead>\n    <tr style=\"text-align: right;\">\n      <th></th>\n      <th>ID</th>\n      <th>Name</th>\n      <th>Address</th>\n      <th>Выручка 2020</th>\n      <th>Выручка 2021</th>\n      <th>Выручка 2022</th>\n      <th>Число сотрудников 2020</th>\n      <th>Число сотрудников 2021</th>\n      <th>Число сотрудников 2022</th>\n    </tr>\n  </thead>\n  <tbody>\n    <tr>\n      <th>0</th>\n      <td>20988</td>\n      <td>ГУЗ</td>\n      <td>город Москва, улица Казакова, дом 15</td>\n      <td>29337447.0</td>\n      <td>24299167.0</td>\n      <td>31395846.0</td>\n      <td>NaN</td>\n      <td>NaN</td>\n      <td>15.0</td>\n    </tr>\n    <tr>\n      <th>1</th>\n      <td>24828</td>\n      <td>Кафе Халяль</td>\n      <td>город Москва, 8-я улица Текстильщиков, дом 5, ...</td>\n      <td>36633885.0</td>\n      <td>31262894.0</td>\n      <td>33854306.0</td>\n      <td>NaN</td>\n      <td>10.0</td>\n      <td>NaN</td>\n    </tr>\n    <tr>\n      <th>2</th>\n      <td>358126</td>\n      <td>Scarface</td>\n      <td>Российская Федерация, город Москва, внутригоро...</td>\n      <td>NaN</td>\n      <td>20278817.0</td>\n      <td>26250473.0</td>\n      <td>19.0</td>\n      <td>16.0</td>\n      <td>6.0</td>\n    </tr>\n    <tr>\n      <th>3</th>\n      <td>373052</td>\n      <td>Кулинариум</td>\n      <td>Российская Федерация, город Москва, внутригоро...</td>\n      <td>36385240.0</td>\n      <td>26416139.0</td>\n      <td>39003318.0</td>\n      <td>16.0</td>\n      <td>6.0</td>\n      <td>NaN</td>\n    </tr>\n    <tr>\n      <th>4</th>\n      <td>303239</td>\n      <td>One price coffee</td>\n      <td>Российская Федерация, город Москва, внутригоро...</td>\n      <td>25968809.0</td>\n      <td>30183522.0</td>\n      <td>NaN</td>\n      <td>13.0</td>\n      <td>17.0</td>\n      <td>18.0</td>\n    </tr>\n  </tbody>\n</table>\n</div>"
     },
     "execution_count": 210,
     "metadata": {},
     "output_type": "execute_result"
    }
   ],
   "source": [
    "df1 = df_main.merge(t1, on='ID')\n",
    "df1.head()"
   ],
   "metadata": {
    "collapsed": false
   }
  },
  {
   "cell_type": "code",
   "execution_count": 213,
   "outputs": [],
   "source": [
    "df1['Дельта по выручке'] = df1['Выручка 2022'] - df1['Выручка 2020']"
   ],
   "metadata": {
    "collapsed": false
   }
  },
  {
   "cell_type": "code",
   "execution_count": 214,
   "outputs": [],
   "source": [
    "df1['Дельта по сотрудникам'] = df1['Число сотрудников 2022'] - df1['Число сотрудников 2020']"
   ],
   "metadata": {
    "collapsed": false
   }
  },
  {
   "cell_type": "code",
   "execution_count": 217,
   "outputs": [
    {
     "data": {
      "text/plain": "Index(['ID', 'Name', 'Address', 'Выручка 2020', 'Выручка 2021', 'Выручка 2022',\n       'Число сотрудников 2020', 'Число сотрудников 2021',\n       'Число сотрудников 2022', 'Дельта по выручке', 'Дельта по сотрудникам'],\n      dtype='object')"
     },
     "execution_count": 217,
     "metadata": {},
     "output_type": "execute_result"
    }
   ],
   "source": [],
   "metadata": {
    "collapsed": false
   }
  },
  {
   "cell_type": "code",
   "execution_count": 220,
   "outputs": [
    {
     "data": {
      "text/plain": "   Идентификатор      Наименование  \\\n0          20988               ГУЗ   \n1          24828       Кафе Халяль   \n2         358126          Scarface   \n3         373052        Кулинариум   \n4         303239  One price coffee   \n\n                                               Адрес  Выручка 2020  \\\n0               город Москва, улица Казакова, дом 15    29337447.0   \n1  город Москва, 8-я улица Текстильщиков, дом 5, ...    36633885.0   \n2  Российская Федерация, город Москва, внутригоро...           NaN   \n3  Российская Федерация, город Москва, внутригоро...    36385240.0   \n4  Российская Федерация, город Москва, внутригоро...    25968809.0   \n\n   Выручка 2021  Выручка 2022  Дельта по выручке  Число сотрудников 2020  \\\n0    24299167.0    31395846.0          2058399.0                     NaN   \n1    31262894.0    33854306.0         -2779579.0                     NaN   \n2    20278817.0    26250473.0                NaN                    19.0   \n3    26416139.0    39003318.0          2618078.0                    16.0   \n4    30183522.0           NaN                NaN                    13.0   \n\n   Число сотрудников 2021  Число сотрудников 2022  Дельта по сотрудникам  \n0                     NaN                    15.0                    NaN  \n1                    10.0                     NaN                    NaN  \n2                    16.0                     6.0                  -13.0  \n3                     6.0                     NaN                    NaN  \n4                    17.0                    18.0                    5.0  ",
      "text/html": "<div>\n<style scoped>\n    .dataframe tbody tr th:only-of-type {\n        vertical-align: middle;\n    }\n\n    .dataframe tbody tr th {\n        vertical-align: top;\n    }\n\n    .dataframe thead th {\n        text-align: right;\n    }\n</style>\n<table border=\"1\" class=\"dataframe\">\n  <thead>\n    <tr style=\"text-align: right;\">\n      <th></th>\n      <th>Идентификатор</th>\n      <th>Наименование</th>\n      <th>Адрес</th>\n      <th>Выручка 2020</th>\n      <th>Выручка 2021</th>\n      <th>Выручка 2022</th>\n      <th>Дельта по выручке</th>\n      <th>Число сотрудников 2020</th>\n      <th>Число сотрудников 2021</th>\n      <th>Число сотрудников 2022</th>\n      <th>Дельта по сотрудникам</th>\n    </tr>\n  </thead>\n  <tbody>\n    <tr>\n      <th>0</th>\n      <td>20988</td>\n      <td>ГУЗ</td>\n      <td>город Москва, улица Казакова, дом 15</td>\n      <td>29337447.0</td>\n      <td>24299167.0</td>\n      <td>31395846.0</td>\n      <td>2058399.0</td>\n      <td>NaN</td>\n      <td>NaN</td>\n      <td>15.0</td>\n      <td>NaN</td>\n    </tr>\n    <tr>\n      <th>1</th>\n      <td>24828</td>\n      <td>Кафе Халяль</td>\n      <td>город Москва, 8-я улица Текстильщиков, дом 5, ...</td>\n      <td>36633885.0</td>\n      <td>31262894.0</td>\n      <td>33854306.0</td>\n      <td>-2779579.0</td>\n      <td>NaN</td>\n      <td>10.0</td>\n      <td>NaN</td>\n      <td>NaN</td>\n    </tr>\n    <tr>\n      <th>2</th>\n      <td>358126</td>\n      <td>Scarface</td>\n      <td>Российская Федерация, город Москва, внутригоро...</td>\n      <td>NaN</td>\n      <td>20278817.0</td>\n      <td>26250473.0</td>\n      <td>NaN</td>\n      <td>19.0</td>\n      <td>16.0</td>\n      <td>6.0</td>\n      <td>-13.0</td>\n    </tr>\n    <tr>\n      <th>3</th>\n      <td>373052</td>\n      <td>Кулинариум</td>\n      <td>Российская Федерация, город Москва, внутригоро...</td>\n      <td>36385240.0</td>\n      <td>26416139.0</td>\n      <td>39003318.0</td>\n      <td>2618078.0</td>\n      <td>16.0</td>\n      <td>6.0</td>\n      <td>NaN</td>\n      <td>NaN</td>\n    </tr>\n    <tr>\n      <th>4</th>\n      <td>303239</td>\n      <td>One price coffee</td>\n      <td>Российская Федерация, город Москва, внутригоро...</td>\n      <td>25968809.0</td>\n      <td>30183522.0</td>\n      <td>NaN</td>\n      <td>NaN</td>\n      <td>13.0</td>\n      <td>17.0</td>\n      <td>18.0</td>\n      <td>5.0</td>\n    </tr>\n  </tbody>\n</table>\n</div>"
     },
     "execution_count": 220,
     "metadata": {},
     "output_type": "execute_result"
    }
   ],
   "source": [
    "df1 = df1.rename(columns={'ID': 'Идентификатор', 'Name': 'Наименование', 'Address': 'Адрес'})\n",
    "df1 = df1[['Идентификатор', 'Наименование', 'Адрес', 'Выручка 2020',\n",
    "       'Выручка 2021', 'Выручка 2022', 'Дельта по выручке', 'Число сотрудников 2020',\n",
    "       'Число сотрудников 2021', 'Число сотрудников 2022',\n",
    "       'Дельта по сотрудникам']]\n",
    "df1.head()"
   ],
   "metadata": {
    "collapsed": false
   }
  },
  {
   "cell_type": "code",
   "execution_count": 223,
   "outputs": [
    {
     "data": {
      "text/plain": "      Идентификатор                 Наименование  \\\n9205         342920   СИДРОВ ПРОЛИВ (пивной бар)   \n152          353466  ВАНИЛЬНЫЙ ШПАТЕЛЬ мороженое   \n9596         374427                  Море лосося   \n2194         296321                   Рыбалюбовь   \n8778         278158                     Шаурмама   \n\n                                                  Адрес  Выручка 2020  \\\n9205        город Москва, проспект Вернадского, дом 86В    20302399.0   \n152         город Москва, проспект Вернадского, дом 86В    20069455.0   \n9596  город Москва, улица Адмирала Макарова, дом 6, ...    20000135.0   \n2194  улица Ленинская Слобода, дом 26, помещение 102Н/5    20377254.0   \n8778  Российская Федерация, город Москва, внутригоро...    20440312.0   \n\n      Выручка 2021  Выручка 2022  Дельта по выручке  Число сотрудников 2020  \\\n9205           NaN    39959846.0         19657447.0                     6.0   \n152     38619799.0    39575437.0         19505982.0                     NaN   \n9596           NaN    39484937.0         19484802.0                     7.0   \n2194    21392412.0    39849066.0         19471812.0                     NaN   \n8778    35770505.0    39769836.0         19329524.0                    18.0   \n\n      Число сотрудников 2021  Число сотрудников 2022  Дельта по сотрудникам  \n9205                    11.0                    14.0                    8.0  \n152                     14.0                     NaN                    NaN  \n9596                     NaN                    19.0                   12.0  \n2194                     NaN                    13.0                    NaN  \n8778                     NaN                     NaN                    NaN  ",
      "text/html": "<div>\n<style scoped>\n    .dataframe tbody tr th:only-of-type {\n        vertical-align: middle;\n    }\n\n    .dataframe tbody tr th {\n        vertical-align: top;\n    }\n\n    .dataframe thead th {\n        text-align: right;\n    }\n</style>\n<table border=\"1\" class=\"dataframe\">\n  <thead>\n    <tr style=\"text-align: right;\">\n      <th></th>\n      <th>Идентификатор</th>\n      <th>Наименование</th>\n      <th>Адрес</th>\n      <th>Выручка 2020</th>\n      <th>Выручка 2021</th>\n      <th>Выручка 2022</th>\n      <th>Дельта по выручке</th>\n      <th>Число сотрудников 2020</th>\n      <th>Число сотрудников 2021</th>\n      <th>Число сотрудников 2022</th>\n      <th>Дельта по сотрудникам</th>\n    </tr>\n  </thead>\n  <tbody>\n    <tr>\n      <th>9205</th>\n      <td>342920</td>\n      <td>СИДРОВ ПРОЛИВ (пивной бар)</td>\n      <td>город Москва, проспект Вернадского, дом 86В</td>\n      <td>20302399.0</td>\n      <td>NaN</td>\n      <td>39959846.0</td>\n      <td>19657447.0</td>\n      <td>6.0</td>\n      <td>11.0</td>\n      <td>14.0</td>\n      <td>8.0</td>\n    </tr>\n    <tr>\n      <th>152</th>\n      <td>353466</td>\n      <td>ВАНИЛЬНЫЙ ШПАТЕЛЬ мороженое</td>\n      <td>город Москва, проспект Вернадского, дом 86В</td>\n      <td>20069455.0</td>\n      <td>38619799.0</td>\n      <td>39575437.0</td>\n      <td>19505982.0</td>\n      <td>NaN</td>\n      <td>14.0</td>\n      <td>NaN</td>\n      <td>NaN</td>\n    </tr>\n    <tr>\n      <th>9596</th>\n      <td>374427</td>\n      <td>Море лосося</td>\n      <td>город Москва, улица Адмирала Макарова, дом 6, ...</td>\n      <td>20000135.0</td>\n      <td>NaN</td>\n      <td>39484937.0</td>\n      <td>19484802.0</td>\n      <td>7.0</td>\n      <td>NaN</td>\n      <td>19.0</td>\n      <td>12.0</td>\n    </tr>\n    <tr>\n      <th>2194</th>\n      <td>296321</td>\n      <td>Рыбалюбовь</td>\n      <td>улица Ленинская Слобода, дом 26, помещение 102Н/5</td>\n      <td>20377254.0</td>\n      <td>21392412.0</td>\n      <td>39849066.0</td>\n      <td>19471812.0</td>\n      <td>NaN</td>\n      <td>NaN</td>\n      <td>13.0</td>\n      <td>NaN</td>\n    </tr>\n    <tr>\n      <th>8778</th>\n      <td>278158</td>\n      <td>Шаурмама</td>\n      <td>Российская Федерация, город Москва, внутригоро...</td>\n      <td>20440312.0</td>\n      <td>35770505.0</td>\n      <td>39769836.0</td>\n      <td>19329524.0</td>\n      <td>18.0</td>\n      <td>NaN</td>\n      <td>NaN</td>\n      <td>NaN</td>\n    </tr>\n  </tbody>\n</table>\n</div>"
     },
     "execution_count": 223,
     "metadata": {},
     "output_type": "execute_result"
    }
   ],
   "source": [
    "df1 = df1.sort_values(by=['Дельта по выручке', 'Идентификатор'], ascending=[False, True])\n",
    "df1.head()"
   ],
   "metadata": {
    "collapsed": false
   }
  },
  {
   "cell_type": "code",
   "execution_count": 225,
   "outputs": [
    {
     "data": {
      "text/plain": "      Идентификатор                Наименование  \\\n9205         342920  СИДРОВ ПРОЛИВ (пивной бар)   \n9596         374427                 Море лосося   \n5890         360584             Выпечка, шаурма   \n8745         344731                Кофе с собой   \n4904         373914                        Кафе   \n\n                                                  Адрес  Выручка 2020  \\\n9205        город Москва, проспект Вернадского, дом 86В    20302399.0   \n9596  город Москва, улица Адмирала Макарова, дом 6, ...    20000135.0   \n5890  Российская Федерация, город Москва, внутригоро...    20114682.0   \n8745  Российская Федерация, город Москва, внутригоро...    21020009.0   \n4904  город Москва, улица Айвазовского, владение 7, ...    20663231.0   \n\n      Выручка 2021  Выручка 2022  Дельта по выручке  Число сотрудников 2020  \\\n9205           NaN    39959846.0         19657447.0                     6.0   \n9596           NaN    39484937.0         19484802.0                     7.0   \n5890    23403344.0    39418028.0         19303346.0                    13.0   \n8745    39682516.0    39851594.0         18831585.0                     8.0   \n4904    31079091.0    38834892.0         18171661.0                     7.0   \n\n      Число сотрудников 2021  Число сотрудников 2022  Дельта по сотрудникам  \n9205                    11.0                    14.0                    8.0  \n9596                     NaN                    19.0                   12.0  \n5890                     NaN                    11.0                   -2.0  \n8745                     NaN                    10.0                    2.0  \n4904                    16.0                    14.0                    7.0  ",
      "text/html": "<div>\n<style scoped>\n    .dataframe tbody tr th:only-of-type {\n        vertical-align: middle;\n    }\n\n    .dataframe tbody tr th {\n        vertical-align: top;\n    }\n\n    .dataframe thead th {\n        text-align: right;\n    }\n</style>\n<table border=\"1\" class=\"dataframe\">\n  <thead>\n    <tr style=\"text-align: right;\">\n      <th></th>\n      <th>Идентификатор</th>\n      <th>Наименование</th>\n      <th>Адрес</th>\n      <th>Выручка 2020</th>\n      <th>Выручка 2021</th>\n      <th>Выручка 2022</th>\n      <th>Дельта по выручке</th>\n      <th>Число сотрудников 2020</th>\n      <th>Число сотрудников 2021</th>\n      <th>Число сотрудников 2022</th>\n      <th>Дельта по сотрудникам</th>\n    </tr>\n  </thead>\n  <tbody>\n    <tr>\n      <th>9205</th>\n      <td>342920</td>\n      <td>СИДРОВ ПРОЛИВ (пивной бар)</td>\n      <td>город Москва, проспект Вернадского, дом 86В</td>\n      <td>20302399.0</td>\n      <td>NaN</td>\n      <td>39959846.0</td>\n      <td>19657447.0</td>\n      <td>6.0</td>\n      <td>11.0</td>\n      <td>14.0</td>\n      <td>8.0</td>\n    </tr>\n    <tr>\n      <th>9596</th>\n      <td>374427</td>\n      <td>Море лосося</td>\n      <td>город Москва, улица Адмирала Макарова, дом 6, ...</td>\n      <td>20000135.0</td>\n      <td>NaN</td>\n      <td>39484937.0</td>\n      <td>19484802.0</td>\n      <td>7.0</td>\n      <td>NaN</td>\n      <td>19.0</td>\n      <td>12.0</td>\n    </tr>\n    <tr>\n      <th>5890</th>\n      <td>360584</td>\n      <td>Выпечка, шаурма</td>\n      <td>Российская Федерация, город Москва, внутригоро...</td>\n      <td>20114682.0</td>\n      <td>23403344.0</td>\n      <td>39418028.0</td>\n      <td>19303346.0</td>\n      <td>13.0</td>\n      <td>NaN</td>\n      <td>11.0</td>\n      <td>-2.0</td>\n    </tr>\n    <tr>\n      <th>8745</th>\n      <td>344731</td>\n      <td>Кофе с собой</td>\n      <td>Российская Федерация, город Москва, внутригоро...</td>\n      <td>21020009.0</td>\n      <td>39682516.0</td>\n      <td>39851594.0</td>\n      <td>18831585.0</td>\n      <td>8.0</td>\n      <td>NaN</td>\n      <td>10.0</td>\n      <td>2.0</td>\n    </tr>\n    <tr>\n      <th>4904</th>\n      <td>373914</td>\n      <td>Кафе</td>\n      <td>город Москва, улица Айвазовского, владение 7, ...</td>\n      <td>20663231.0</td>\n      <td>31079091.0</td>\n      <td>38834892.0</td>\n      <td>18171661.0</td>\n      <td>7.0</td>\n      <td>16.0</td>\n      <td>14.0</td>\n      <td>7.0</td>\n    </tr>\n  </tbody>\n</table>\n</div>"
     },
     "execution_count": 225,
     "metadata": {},
     "output_type": "execute_result"
    }
   ],
   "source": [
    "df_result = df1.dropna(subset=['Выручка 2020', 'Выручка 2022', 'Число сотрудников 2020', 'Число сотрудников 2022'])\n",
    "df_result.head()"
   ],
   "metadata": {
    "collapsed": false
   }
  },
  {
   "cell_type": "code",
   "execution_count": 226,
   "outputs": [],
   "source": [
    "df_result.to_csv('ex_6_1.csv', index=False)"
   ],
   "metadata": {
    "collapsed": false
   }
  }
 ],
 "metadata": {
  "kernelspec": {
   "display_name": "Python 3",
   "language": "python",
   "name": "python3"
  },
  "language_info": {
   "codemirror_mode": {
    "name": "ipython",
    "version": 2
   },
   "file_extension": ".py",
   "mimetype": "text/x-python",
   "name": "python",
   "nbconvert_exporter": "python",
   "pygments_lexer": "ipython2",
   "version": "2.7.6"
  }
 },
 "nbformat": 4,
 "nbformat_minor": 0
}
