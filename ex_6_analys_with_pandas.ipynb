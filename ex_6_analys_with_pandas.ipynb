{
 "cells": [
  {
   "cell_type": "code",
   "execution_count": null,
   "metadata": {
    "collapsed": true
   },
   "outputs": [],
   "source": [
    "import pandas as pd\n",
    "import numpy as np\n",
    "import sqlite3"
   ]
  },
  {
   "cell_type": "markdown",
   "source": [
    "## Создаю соединение с файлом БД"
   ],
   "metadata": {
    "collapsed": false
   }
  },
  {
   "cell_type": "code",
   "execution_count": null,
   "outputs": [],
   "source": [
    "con = sqlite3.connect('.\\content\\indicators_db.sqlite3')"
   ],
   "metadata": {
    "collapsed": false
   }
  },
  {
   "cell_type": "markdown",
   "source": [
    "Создаю функциональную обертку для удобства запросов в БД"
   ],
   "metadata": {
    "collapsed": false
   }
  },
  {
   "cell_type": "code",
   "execution_count": null,
   "outputs": [],
   "source": [
    "def read_sql(sql_query, connection=con):\n",
    "    return pd.read_sql(sql= sql_query, con=connection)"
   ],
   "metadata": {
    "collapsed": false
   }
  },
  {
   "cell_type": "markdown",
   "source": [
    "В переменную буду передавать запросы"
   ],
   "metadata": {
    "collapsed": false
   }
  },
  {
   "cell_type": "code",
   "execution_count": null,
   "outputs": [],
   "source": [
    "sql_q = 'select * from main.org_indicators_2020_2022'"
   ],
   "metadata": {
    "collapsed": false
   }
  },
  {
   "cell_type": "code",
   "execution_count": null,
   "outputs": [],
   "source": [
    "df= read_sql(sql_q)\n",
    "df.head()"
   ],
   "metadata": {
    "collapsed": false
   }
  },
  {
   "cell_type": "markdown",
   "source": [
    "#### Загрузка дополнительных таблиц"
   ],
   "metadata": {
    "collapsed": false
   }
  },
  {
   "cell_type": "code",
   "execution_count": null,
   "outputs": [],
   "source": [
    "df_main = pd.read_csv('./content/main.csv')\n",
    "df_net_property = pd.read_csv('./content/net_property.csv')\n",
    "df_seats_property = pd.read_csv('./content/seats_property.csv')\n",
    "df_type_property = pd.read_csv('./content/type_property.csv')\n",
    "# Актуализирую таблицу с посадочными местами\n",
    "df_seats_property = df_seats_property.sort_values(by=['ID', 'ver_ID'], ascending=[True, False]) \\\n",
    "    .drop_duplicates('ID', keep='first')"
   ],
   "metadata": {
    "collapsed": false
   }
  },
  {
   "cell_type": "markdown",
   "source": [
    "# Задание 1.\n",
    "<i>Для каждой организации из main.csv подтяните выручку и число сотрудников за 2020, 2021 и 2022. Для каждой организации из main.csv подтяните выручку и число сотрудников за 2020, 2021 и 2022. Посчитайте дельту по выручке и сотрудникам между 2022 и 2020. Отсортируйте организации по убыванию выручки. Для организаций с одинаковой выручкой выполните сортировку по возрастанию ID. Если у организации нет данных по выручке или числу сотрудников за 2020 или 2022, то исключите их. Названия колонок сделайте на русском языке.</i>"
   ],
   "metadata": {
    "collapsed": false
   }
  },
  {
   "cell_type": "markdown",
   "source": [
    "##### В SQL запросе сразу провожу агрегацию VALUE группировкой по колонкам  ID YEAR INDICATOR_NAME. Фильтрую INDICATOR_NAME  по Выручке и числу сотрудников"
   ],
   "metadata": {
    "collapsed": false
   }
  },
  {
   "cell_type": "code",
   "execution_count": null,
   "outputs": [],
   "source": [
    "sql_q = '''select ID, YEAR, INDICATOR_NAME, SUM(VALUE) as VALUE\n",
    "from main.org_indicators_2020_2022\n",
    "where INDICATOR_NAME in ('Выручка', 'Число сотрудников')\n",
    "group by ID, YEAR, INDICATOR_NAME;'''\n",
    "# sql_q = '''select *\n",
    "# from main.org_indicators_2020_2022\n",
    "# where INDICATOR_NAME in ('Выручка', 'Число сотрудников');'''\n",
    "df = read_sql(sql_q)\n",
    "df.head(20)"
   ],
   "metadata": {
    "collapsed": false
   }
  },
  {
   "cell_type": "code",
   "execution_count": null,
   "outputs": [],
   "source": [],
   "metadata": {
    "collapsed": false
   }
  },
  {
   "cell_type": "code",
   "execution_count": null,
   "outputs": [],
   "source": [
    "t1 = df.pivot_table(index='ID', columns=['INDICATOR_NAME', 'YEAR'], values='VALUE')\n",
    "t1.head()"
   ],
   "metadata": {
    "collapsed": false
   }
  },
  {
   "cell_type": "markdown",
   "source": [
    "##### Преобразование имен колонок. Убираю мультииндекс"
   ],
   "metadata": {
    "collapsed": false
   }
  },
  {
   "cell_type": "code",
   "execution_count": null,
   "outputs": [],
   "source": [
    "t1.columns = [x+' '+str(y) for x, y in t1.columns]\n",
    "t1.head()"
   ],
   "metadata": {
    "collapsed": false
   }
  },
  {
   "cell_type": "code",
   "execution_count": null,
   "outputs": [],
   "source": [
    "t1.reset_index(inplace=True)"
   ],
   "metadata": {
    "collapsed": false
   }
  },
  {
   "cell_type": "markdown",
   "source": [
    "Объединяю 2 датафрейма (Main и t1)"
   ],
   "metadata": {
    "collapsed": false
   }
  },
  {
   "cell_type": "code",
   "execution_count": null,
   "outputs": [],
   "source": [
    "df1 = df_main.merge(t1, on='ID')\n",
    "df1.head()"
   ],
   "metadata": {
    "collapsed": false
   }
  },
  {
   "cell_type": "markdown",
   "source": [
    "Считаю дельты по годам. Вычитаю из года более позднего (2022), год более ранний (2020)"
   ],
   "metadata": {
    "collapsed": false
   }
  },
  {
   "cell_type": "code",
   "execution_count": null,
   "outputs": [],
   "source": [
    "df1['Дельта по выручке'] = df1['Выручка 2022'] - df1['Выручка 2020']\n",
    "df1['Дельта по сотрудникам'] = df1['Число сотрудников 2022'] - df1['Число сотрудников 2020']"
   ],
   "metadata": {
    "collapsed": false
   }
  },
  {
   "cell_type": "markdown",
   "source": [
    "Переименование столбцов на русский язык."
   ],
   "metadata": {
    "collapsed": false
   }
  },
  {
   "cell_type": "code",
   "execution_count": null,
   "outputs": [],
   "source": [
    "df1 = df1.rename(columns={'ID': 'Идентификатор', 'Name': 'Наименование', 'Address': 'Адрес'})\n",
    "df1 = df1[['Идентификатор', 'Наименование', 'Адрес', 'Выручка 2020',\n",
    "       'Выручка 2021', 'Выручка 2022', 'Дельта по выручке', 'Число сотрудников 2020',\n",
    "       'Число сотрудников 2021', 'Число сотрудников 2022',\n",
    "       'Дельта по сотрудникам']]\n",
    "df1.head()"
   ],
   "metadata": {
    "collapsed": false
   }
  },
  {
   "cell_type": "markdown",
   "source": [
    "Сортировка по заданию, удаление NaN по заданию."
   ],
   "metadata": {
    "collapsed": false
   }
  },
  {
   "cell_type": "code",
   "execution_count": null,
   "outputs": [],
   "source": [
    "df1 = df1.sort_values(by=['Дельта по выручке', 'Идентификатор'], ascending=[False, True])\n",
    "df_result = df1.dropna(subset=['Выручка 2020', 'Выручка 2022', 'Число сотрудников 2020', 'Число сотрудников 2022'])\n",
    "df_result.head()"
   ],
   "metadata": {
    "collapsed": false
   }
  },
  {
   "cell_type": "markdown",
   "source": [],
   "metadata": {
    "collapsed": false
   }
  },
  {
   "cell_type": "markdown",
   "source": [
    "Сохранение результатов в CSV файл"
   ],
   "metadata": {
    "collapsed": false
   }
  },
  {
   "cell_type": "code",
   "execution_count": null,
   "outputs": [],
   "source": [
    "df_result.to_csv('ex_6_1_1.csv', index=False)"
   ],
   "metadata": {
    "collapsed": false
   }
  },
  {
   "cell_type": "code",
   "execution_count": null,
   "outputs": [],
   "source": [
    "df_old = pd.read_csv('ex_6_1.csv')"
   ],
   "metadata": {
    "collapsed": false
   }
  },
  {
   "cell_type": "code",
   "execution_count": null,
   "outputs": [],
   "source": [
    "print((df_result.values == df_old.values))"
   ],
   "metadata": {
    "collapsed": false,
    "pycharm": {
     "is_executing": true
    }
   }
  },
  {
   "cell_type": "markdown",
   "source": [
    "# Задание 2\n",
    "Коллеги уже пишут вам в чат и просят посчитать суммарную выручку по организациям за 2022 год:\n",
    "357706, 198181, 27549\n",
    "Через несколько минут приходит еще одно сообщение, просят добавить к ним еще четыре:\n",
    "217895, 201139, 357706, 20105\n",
    "Вы почти успели импортировать pandas и коллеги снова просят добавить к ним еще организаций из списка.\n",
    "Посчитайте, пожалуйста, суммарную выручку за 2022 год. Если у каких-то организаций нет выручки за 2022 год, то возьмите самую свежую доступную (за другой год). Ответ округлите до целого."
   ],
   "metadata": {
    "collapsed": false
   }
  },
  {
   "cell_type": "code",
   "execution_count": null,
   "outputs": [],
   "source": [
    "id_lst = pd.read_excel('./content/Выручка_по_компаниям.xlsx', sheet_name=1)\n",
    "id_lst = id_lst.rename(columns={id_lst.columns[0]: 'ID'})\n",
    "n_id = pd.DataFrame({'ID': [357706, 198181, 27549, 217895, 201139, 357706, 20105]})\n",
    "id_lst = pd.concat([id_lst, n_id]).set_index(np.arange(len(id_lst) + len(n_id)))"
   ],
   "metadata": {
    "collapsed": false
   }
  },
  {
   "cell_type": "code",
   "execution_count": null,
   "outputs": [],
   "source": [
    "sql_q = f'''select ID, YEAR, VALUE from org_indicators_2019\n",
    "where INDICATOR_NAME='Выручка'\n",
    "and ID in {tuple(id_lst['ID'].values)}\n",
    "union\n",
    "select ID, YEAR, VALUE from main.org_indicators_2020_2022\n",
    "where INDICATOR_NAME='Выручка'\n",
    "and ID in {tuple(id_lst['ID'].values)}'''"
   ],
   "metadata": {
    "collapsed": false
   }
  },
  {
   "cell_type": "code",
   "execution_count": null,
   "outputs": [],
   "source": [
    "df = read_sql(sql_q)"
   ],
   "metadata": {
    "collapsed": false
   }
  },
  {
   "cell_type": "code",
   "execution_count": null,
   "outputs": [],
   "source": [
    "df = df.sort_values(by=['ID', 'YEAR'], ascending=[True, False]).drop_duplicates('ID', keep='first')\n",
    "print(df.VALUE.sum())"
   ],
   "metadata": {
    "collapsed": false
   }
  },
  {
   "cell_type": "markdown",
   "source": [
    "# Задание 3\n",
    "Выгрузите организации, где число сотрудников в 2020 году 15 и больше. Если за 2020 год данных по сотрудникам нет, то возьмите за 2019 год. Отсортируйте по возрастанию числа сотрудников. Если число сотрудников одинаковое, то организации должны идти по убыванию ID."
   ],
   "metadata": {
    "collapsed": false
   }
  },
  {
   "cell_type": "code",
   "execution_count": 104,
   "outputs": [],
   "source": [
    "sql_q = '''select ID as 'Идентификатор', VALUE as 'Сотрудники 2019_2020'\n",
    "from (select t1.ID, t1.INDICATOR_NAME, t1.YEAR, t1.VALUE\n",
    "      from main.org_indicators_2020_2022 as t1\n",
    "      where t1.INDICATOR_NAME = 'Число сотрудников'\n",
    "        and t1.YEAR = 2020\n",
    "      union\n",
    "      select t2.ID, t2.INDICATOR_NAME, t2.YEAR, t2.VALUE\n",
    "      from org_indicators_2019 as t2\n",
    "      where INDICATOR_NAME = 'Число сотрудников'\n",
    "        and t2.ID in (SELECT t1.ID from main.org_indicators_2020_2022 as t1)\n",
    "        and t2.VALUE >= 15)\n",
    "GROUP BY ID\n",
    "HAVING max(YEAR)\n",
    "and VALUE >= 15\n",
    "ORDER BY VALUE, ID DESC;'''"
   ],
   "metadata": {
    "collapsed": false
   }
  },
  {
   "cell_type": "code",
   "execution_count": 105,
   "outputs": [],
   "source": [
    "df = read_sql(sql_q)\n",
    "df.to_csv('ex_6_3.csv', index=False)"
   ],
   "metadata": {
    "collapsed": false
   }
  },
  {
   "cell_type": "code",
   "execution_count": 108,
   "outputs": [],
   "source": [],
   "metadata": {
    "collapsed": false
   }
  }
 ],
 "metadata": {
  "kernelspec": {
   "display_name": "Python 3",
   "language": "python",
   "name": "python3"
  },
  "language_info": {
   "codemirror_mode": {
    "name": "ipython",
    "version": 2
   },
   "file_extension": ".py",
   "mimetype": "text/x-python",
   "name": "python",
   "nbconvert_exporter": "python",
   "pygments_lexer": "ipython2",
   "version": "2.7.6"
  }
 },
 "nbformat": 4,
 "nbformat_minor": 0
}
